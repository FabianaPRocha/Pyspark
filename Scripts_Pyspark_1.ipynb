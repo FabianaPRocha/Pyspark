{
  "cells": [
    {
      "cell_type": "markdown",
      "source": [
        "# Engenharia de Dados com Pyspark\n"
      ],
      "metadata": {
        "application/vnd.databricks.v1+cell": {
          "title": "",
          "showTitle": false,
          "inputWidgets": {},
          "nuid": "f952615d-7635-47e8-94f7-7c5360aa8691"
        },
        "id": "kH236unoZ0zG"
      }
    },
    {
      "cell_type": "markdown",
      "source": [
        "- **Task**\n",
        "  - Converta os arquivos em csv para parquet e os envie para processing zone.\n",
        "\n",
        "- **Dataset**\n",
        "  - Usaremos esse dataset https://www.kaggle.com/nhs/general-practice-prescribing-data"
      ],
      "metadata": {
        "application/vnd.databricks.v1+cell": {
          "title": "",
          "showTitle": false,
          "inputWidgets": {},
          "nuid": "7ae6998c-9eb5-4535-af1b-736ba522b9f9"
        },
        "id": "w4Jo9z4fZ0zH"
      }
    },
    {
      "cell_type": "markdown",
      "source": [
        "### Modos de leitura\n",
        "- **permissive**: *Define todos os campos para NULL quando encontra registros corrompidos e coloca todos registros corrompidos em uma coluna chamada _corrupt_record.* (default)\n",
        "\n",
        "- **dropMalformed**: *Apaga uma linha corrompida ou que este não consiga ler.*\n",
        "\n",
        "- **failFast**: *Falha imediatamente quando encontra uma linha que não consiga ler.*"
      ],
      "metadata": {
        "application/vnd.databricks.v1+cell": {
          "title": "",
          "showTitle": false,
          "inputWidgets": {},
          "nuid": "88ad5f8f-c053-4fb6-8a7c-2e5fc1de9ae5"
        },
        "id": "xqbTC8dPZ0zH"
      }
    },
    {
      "cell_type": "code",
      "source": [
        "from pyspark.sql import SparkSession\n",
        "\n",
        "from pyspark.sql.functions import *\n",
        "\n",
        "from pyspark.sql.types import *"
      ],
      "metadata": {
        "id": "ySqyhSVreBM6"
      },
      "execution_count": null,
      "outputs": []
    },
    {
      "cell_type": "code",
      "source": [
        "spark = (\n",
        "    SparkSession.builder\n",
        "    .master('local')\n",
        "    .appName('Scripts_Pyspark_1')\n",
        "    .getOrCreate()\n",
        ")"
      ],
      "metadata": {
        "id": "l9TfV96SSXqb"
      },
      "execution_count": null,
      "outputs": []
    },
    {
      "cell_type": "code",
      "source": [
        "# ler arquivos vários arquivos csv do dbfs com spark\n",
        "# Lendo todos os arquivos .csv do diretório bigdata (>4GB)\n",
        "df = spark.read.csv('sample_data/tables/bigdata/*.csv', header=True, inferSchema=True)\n",
        "df.show(5)\n"
      ],
      "metadata": {
        "application/vnd.databricks.v1+cell": {
          "title": "",
          "showTitle": false,
          "inputWidgets": {},
          "nuid": "549c2b66-041e-41f0-9265-53a8b5bf7e39"
        },
        "colab": {
          "base_uri": "https://localhost:8080/"
        },
        "id": "wR6cLLKLZ0zI",
        "outputId": "d33e9ff2-41e8-43ef-c13f-cb0e492e3789"
      },
      "outputs": [
        {
          "metadata": {
            "tags": null
          },
          "name": "stdout",
          "output_type": "stream",
          "text": [
            "+--------+--------+--------+-----+----+--------+--------+\n",
            "|practice|bnf_code|bnf_name|items| nic|act_cost|quantity|\n",
            "+--------+--------+--------+-----+----+--------+--------+\n",
            "|    1596|   13320|   22721|    1|3.64|    3.38|     112|\n",
            "|    1596|   20494|     263|    1|1.25|    1.27|      42|\n",
            "|    1596|   19136|   17446|    1|0.56|    0.63|      14|\n",
            "|    1596|   17512|   16983|    3|1.95|    2.04|      49|\n",
            "|    1596|    2653|   12675|    2|2.28|    2.34|      84|\n",
            "+--------+--------+--------+-----+----+--------+--------+\n",
            "only showing top 5 rows\n",
            "\n"
          ]
        }
      ],
      "execution_count": null
    },
    {
      "cell_type": "code",
      "source": [
        "df.printSchema()"
      ],
      "metadata": {
        "application/vnd.databricks.v1+cell": {
          "title": "",
          "showTitle": false,
          "inputWidgets": {},
          "nuid": "f5b1a757-a665-479a-ab00-99fab3df9bbb"
        },
        "id": "rQ4ZgJehZ0zI",
        "outputId": "ba85034b-8bc6-40b2-8cf0-14e1a3a8ef19",
        "colab": {
          "base_uri": "https://localhost:8080/"
        }
      },
      "outputs": [
        {
          "output_type": "stream",
          "name": "stdout",
          "text": [
            "root\n",
            " |-- practice: integer (nullable = true)\n",
            " |-- bnf_code: integer (nullable = true)\n",
            " |-- bnf_name: integer (nullable = true)\n",
            " |-- items: integer (nullable = true)\n",
            " |-- nic: double (nullable = true)\n",
            " |-- act_cost: double (nullable = true)\n",
            " |-- quantity: integer (nullable = true)\n",
            "\n"
          ]
        }
      ],
      "execution_count": null
    },
    {
      "cell_type": "code",
      "source": [
        "# imprime as 10 primeiras linhas do dataframe\n",
        "display(df.head(10))"
      ],
      "metadata": {
        "application/vnd.databricks.v1+cell": {
          "title": "",
          "showTitle": false,
          "inputWidgets": {},
          "nuid": "c1f7f148-9566-44ec-8c54-ea904ad750b8"
        },
        "id": "o5obNCFpZ0zJ",
        "outputId": "4ac54f68-f5e1-4ec0-e404-e36153c2f5f9",
        "colab": {
          "base_uri": "https://localhost:8080/",
          "height": 191
        }
      },
      "outputs": [
        {
          "output_type": "display_data",
          "data": {
            "text/plain": [
              "[Row(practice=1596, bnf_code=13320, bnf_name=22721, items=1, nic=3.64, act_cost=3.38, quantity=112),\n",
              " Row(practice=1596, bnf_code=20494, bnf_name=263, items=1, nic=1.25, act_cost=1.27, quantity=42),\n",
              " Row(practice=1596, bnf_code=19136, bnf_name=17446, items=1, nic=0.56, act_cost=0.63, quantity=14),\n",
              " Row(practice=1596, bnf_code=17512, bnf_name=16983, items=3, nic=1.95, act_cost=2.04, quantity=49),\n",
              " Row(practice=1596, bnf_code=2653, bnf_name=12675, items=2, nic=2.28, act_cost=2.34, quantity=84),\n",
              " Row(practice=1596, bnf_code=12551, bnf_name=1282, items=1, nic=0.71, act_cost=0.77, quantity=42),\n",
              " Row(practice=1596, bnf_code=27926, bnf_name=17643, items=1, nic=39.67, act_cost=36.84, quantity=14),\n",
              " Row(practice=1596, bnf_code=12518, bnf_name=12939, items=1, nic=211.12, act_cost=195.56, quantity=56),\n",
              " Row(practice=1596, bnf_code=1674, bnf_name=23525, items=2, nic=3.52, act_cost=3.28, quantity=56),\n",
              " Row(practice=1596, bnf_code=8979, bnf_name=18703, items=1, nic=13.06, act_cost=12.1, quantity=150)]"
            ]
          },
          "metadata": {}
        }
      ],
      "execution_count": null
    },
    {
      "cell_type": "code",
      "source": [
        "# conta a quantidade de linhas\n",
        "df.count()"
      ],
      "metadata": {
        "application/vnd.databricks.v1+cell": {
          "title": "",
          "showTitle": false,
          "inputWidgets": {},
          "nuid": "2098fa60-63d6-482b-a480-83c04f2dae39"
        },
        "id": "eVy2fRIWZ0zJ",
        "outputId": "9c8d3043-4469-4bf1-9249-6462efce08b2",
        "colab": {
          "base_uri": "https://localhost:8080/"
        }
      },
      "outputs": [
        {
          "output_type": "execute_result",
          "data": {
            "text/plain": [
              "24692437"
            ]
          },
          "metadata": {},
          "execution_count": 28
        }
      ],
      "execution_count": null
    },
    {
      "cell_type": "markdown",
      "source": [
        "#### Leva os dados convertidos para a Processing Zone\n",
        "\n",
        "- *Atente para NÃO escrever e ler arquivos parquet em versoes diferentes*"
      ],
      "metadata": {
        "application/vnd.databricks.v1+cell": {
          "title": "",
          "showTitle": false,
          "inputWidgets": {},
          "nuid": "bb957d53-61a9-44ba-b015-96b7602da482"
        },
        "id": "D44xt8jvZ0zJ"
      }
    },
    {
      "cell_type": "code",
      "source": [
        "# Converte para formato parquet\n",
        "df.write.format(\"parquet\")\\\n",
        ".mode(\"overwrite\")\\\n",
        ".save(\"sample_data/tables/processing/df-parquet-file.parquet\")"
      ],
      "metadata": {
        "application/vnd.databricks.v1+cell": {
          "title": "",
          "showTitle": false,
          "inputWidgets": {},
          "nuid": "476165ff-ae7a-41ec-bd17-78671a1ff384"
        },
        "id": "rx3ZJcP4Z0zK"
      },
      "outputs": [],
      "execution_count": null
    },
    {
      "cell_type": "code",
      "source": [
        "# lendo arquivos parquet\n",
        "# atente para a velocidade de leitura\n",
        "\n",
        "df_parquet = spark.read.format(\"parquet\")\\\n",
        ".load(\"sample_data/tables/processing/df-parquet-file.parquet\")"
      ],
      "metadata": {
        "application/vnd.databricks.v1+cell": {
          "title": "",
          "showTitle": false,
          "inputWidgets": {},
          "nuid": "6b95633e-bc64-4427-8850-904fa5c7c85e"
        },
        "id": "vhkNsFMbZ0zK"
      },
      "outputs": [],
      "execution_count": null
    },
    {
      "cell_type": "code",
      "source": [
        "# conta a quantidade de linhas do dataframe\n",
        "df_parquet.count()"
      ],
      "metadata": {
        "application/vnd.databricks.v1+cell": {
          "title": "",
          "showTitle": false,
          "inputWidgets": {},
          "nuid": "a8546c0f-4cc4-483e-a186-deede8f5076d"
        },
        "id": "qFw21CQ6Z0zK",
        "outputId": "b58a8afa-cfa3-47f5-c346-b4bd32dab34d",
        "colab": {
          "base_uri": "https://localhost:8080/"
        }
      },
      "outputs": [
        {
          "output_type": "execute_result",
          "data": {
            "text/plain": [
              "24692437"
            ]
          },
          "metadata": {},
          "execution_count": 32
        }
      ],
      "execution_count": null
    },
    {
      "cell_type": "code",
      "source": [
        "display(df_parquet.head(10))"
      ],
      "metadata": {
        "application/vnd.databricks.v1+cell": {
          "title": "",
          "showTitle": false,
          "inputWidgets": {},
          "nuid": "14de5341-bb01-4ea0-8511-f8f5b1412985"
        },
        "id": "tcSQaSXOZ0zK",
        "outputId": "812c41c4-7701-4e08-9549-684ef745dd22",
        "colab": {
          "base_uri": "https://localhost:8080/",
          "height": 191
        }
      },
      "outputs": [
        {
          "output_type": "display_data",
          "data": {
            "text/plain": [
              "[Row(practice=1596, bnf_code=17512, bnf_name=16983, items=2, nic=1.56, act_cost=1.57, quantity=42),\n",
              " Row(practice=1596, bnf_code=5413, bnf_name=7316, items=2, nic=0.77, act_cost=0.94, quantity=21),\n",
              " Row(practice=1596, bnf_code=22566, bnf_name=22100, items=1, nic=13.93, act_cost=13.02, quantity=42),\n",
              " Row(practice=1596, bnf_code=25587, bnf_name=16124, items=2, nic=0.61, act_cost=0.79, quantity=24),\n",
              " Row(practice=1596, bnf_code=2653, bnf_name=12675, items=1, nic=0.11, act_cost=0.21, quantity=4),\n",
              " Row(practice=1596, bnf_code=12551, bnf_name=1282, items=2, nic=1.92, act_cost=2.0, quantity=112),\n",
              " Row(practice=1596, bnf_code=18938, bnf_name=10575, items=2, nic=1.48, act_cost=1.6, quantity=56),\n",
              " Row(practice=1596, bnf_code=4452, bnf_name=18603, items=1, nic=52.78, act_cost=49.04, quantity=28),\n",
              " Row(practice=1596, bnf_code=2827, bnf_name=5592, items=1, nic=1.46, act_cost=1.47, quantity=21),\n",
              " Row(practice=1596, bnf_code=8979, bnf_name=18703, items=1, nic=13.01, act_cost=12.07, quantity=150)]"
            ]
          },
          "metadata": {}
        }
      ],
      "execution_count": null
    },
    {
      "cell_type": "code",
      "source": [
        "#Add columns to DataFrame using SQL\n",
        "df_parquet.createOrReplaceTempView(\"view_df_parquet\")\n",
        "\n",
        "spark.sql(\"SELECT BNF_CODE as Bnf_code \\\n",
        "                  ,SUM(ACT_COST) as Soma_Act_cost \\\n",
        "                  ,SUM(QUANTITY) as Soma_Quantity \\\n",
        "                  ,SUM(ITEMS) as Soma_items \\\n",
        "                  ,SUM(ACT_COST) as Media_Act_cost \\\n",
        "           FROM view_df_parquet \\\n",
        "           GROUP BY bnf_code\").show()"
      ],
      "metadata": {
        "application/vnd.databricks.v1+cell": {
          "title": "",
          "showTitle": false,
          "inputWidgets": {},
          "nuid": "7373f7ef-2896-4976-ad2e-48ee2a7966b4"
        },
        "id": "4ODen-9hZ0zL",
        "outputId": "9ea78562-9d23-4dd8-dcfa-c31a8fa11128",
        "colab": {
          "base_uri": "https://localhost:8080/"
        }
      },
      "outputs": [
        {
          "output_type": "stream",
          "name": "stdout",
          "text": [
            "+--------+------------------+-------------+----------+------------------+\n",
            "|Bnf_code|     Soma_Act_cost|Soma_Quantity|Soma_items|    Media_Act_cost|\n",
            "+--------+------------------+-------------+----------+------------------+\n",
            "|    7253| 589656.8299999997|      6973782|    137361| 589656.8299999997|\n",
            "|   18498|1580820.3399999859|        20448|     20414|1580820.3399999859|\n",
            "|    8389| 599873.0799999982|      4553570|    357061| 599873.0799999982|\n",
            "|     463|175470.41000000224|       995524|     16698|175470.41000000224|\n",
            "|   28088|3891.4799999999987|          315|       288|3891.4799999999987|\n",
            "|   23364|246824.15000000093|       137479|      2195|246824.15000000093|\n",
            "|   23271|28598.859999999935|       117018|      3716|28598.859999999935|\n",
            "|    9376|219164.35000000015|       736315|     14307|219164.35000000015|\n",
            "|   16861|43350.130000000485|      1266050|     27988|43350.130000000485|\n",
            "|   18866| 2282.600000000001|         7801|       145| 2282.600000000001|\n",
            "|   10206| 46688.25999999992|      2729600|      3310| 46688.25999999992|\n",
            "|    7833| 11095.79999999997|        96040|      1425| 11095.79999999997|\n",
            "|   21700|          17936.17|         9120|        94|          17936.17|\n",
            "|   16339| 834.2000000000002|        12110|        60| 834.2000000000002|\n",
            "|   27484| 4440.740000000002|        38187|       699| 4440.740000000002|\n",
            "|   19079|7462.3099999999995|         2687|       148|7462.3099999999995|\n",
            "|   27760|13822.969999999998|        24610|       148|13822.969999999998|\n",
            "|   15957| 3332.789999999997|        31407|       437| 3332.789999999997|\n",
            "|    6336|14807.649999999992|        84950|       985|14807.649999999992|\n",
            "|    4935|           2286.69|       181000|       116|           2286.69|\n",
            "+--------+------------------+-------------+----------+------------------+\n",
            "only showing top 20 rows\n",
            "\n"
          ]
        }
      ],
      "execution_count": null
    },
    {
      "cell_type": "markdown",
      "source": [
        "# Avançando com Pyspark\n"
      ],
      "metadata": {
        "application/vnd.databricks.v1+cell": {
          "title": "",
          "showTitle": false,
          "inputWidgets": {},
          "nuid": "9cdcfe01-cb42-49aa-a39a-3046829a0ff2"
        },
        "id": "LLdiseY2Z0zL"
      }
    },
    {
      "cell_type": "markdown",
      "source": [
        "#### Criando um schema\n",
        "- A opção **infer_schema** nem sempre vai definir o melhor datatype.\n",
        "- Melhora a performance na leitura de grandes bases.\n",
        "- Permite uma customização dos tipos das colunas.\n",
        "- É importante saber para reescrita de aplicações. (Códigos pandas)"
      ],
      "metadata": {
        "application/vnd.databricks.v1+cell": {
          "title": "",
          "showTitle": false,
          "inputWidgets": {},
          "nuid": "93114081-8ebf-48a6-86a1-abaea739c454"
        },
        "id": "5sMfDhCWZ0zL"
      }
    },
    {
      "cell_type": "code",
      "source": [
        "# Lendo o arquivo de dados\n",
        "arquivo = \"sample_data/flights/\""
      ],
      "metadata": {
        "application/vnd.databricks.v1+cell": {
          "title": "",
          "showTitle": false,
          "inputWidgets": {},
          "nuid": "c04f4a29-dee0-425e-92c2-972e9d5c2247"
        },
        "id": "743vfbCLZ0zL"
      },
      "outputs": [],
      "execution_count": null
    },
    {
      "cell_type": "code",
      "source": [
        "# lendo o arquivo previamente com a opção inferSchema ligada\n",
        "df = spark \\\n",
        ".read \\\n",
        ".option(\"inferSchema\", \"True\")\\\n",
        ".option(\"header\", \"True\")\\\n",
        ".csv(arquivo)"
      ],
      "metadata": {
        "application/vnd.databricks.v1+cell": {
          "title": "",
          "showTitle": false,
          "inputWidgets": {},
          "nuid": "11d1f140-213c-474f-b030-14664188bb96"
        },
        "id": "ZoPj9yd8Z0zL"
      },
      "outputs": [],
      "execution_count": null
    },
    {
      "cell_type": "code",
      "source": [
        "# imprime o schema do dataframe (infer_schema=True)\n",
        "df.printSchema()"
      ],
      "metadata": {
        "application/vnd.databricks.v1+cell": {
          "title": "",
          "showTitle": false,
          "inputWidgets": {},
          "nuid": "e3dcab2e-b17c-4125-a6ee-3ae9e46b9169"
        },
        "id": "V_brZn9JZ0zL",
        "outputId": "fa88038a-4ed6-45c6-c9e0-8a068763eb3d",
        "colab": {
          "base_uri": "https://localhost:8080/"
        }
      },
      "outputs": [
        {
          "output_type": "stream",
          "name": "stdout",
          "text": [
            "root\n",
            " |-- YEAR: integer (nullable = true)\n",
            " |-- MONTH: integer (nullable = true)\n",
            " |-- DAY: integer (nullable = true)\n",
            " |-- DAY_OF_WEEK: integer (nullable = true)\n",
            " |-- AIRLINE: string (nullable = true)\n",
            " |-- FLIGHT_NUMBER: integer (nullable = true)\n",
            " |-- TAIL_NUMBER: string (nullable = true)\n",
            " |-- ORIGIN_AIRPORT: string (nullable = true)\n",
            " |-- DESTINATION_AIRPORT: string (nullable = true)\n",
            " |-- SCHEDULED_DEPARTURE: integer (nullable = true)\n",
            " |-- DEPARTURE_TIME: string (nullable = true)\n",
            " |-- DEPARTURE_DELAY: string (nullable = true)\n",
            " |-- TAXI_OUT: string (nullable = true)\n",
            " |-- WHEELS_OFF: string (nullable = true)\n",
            " |-- SCHEDULED_TIME: integer (nullable = true)\n",
            " |-- ELAPSED_TIME: string (nullable = true)\n",
            " |-- AIR_TIME: string (nullable = true)\n",
            " |-- DISTANCE: integer (nullable = true)\n",
            " |-- WHEELS_ON: string (nullable = true)\n",
            " |-- TAXI_IN: string (nullable = true)\n",
            " |-- SCHEDULED_ARRIVAL: integer (nullable = true)\n",
            " |-- ARRIVAL_TIME: string (nullable = true)\n",
            " |-- ARRIVAL_DELAY: string (nullable = true)\n",
            " |-- DIVERTED: integer (nullable = true)\n",
            " |-- CANCELLED: integer (nullable = true)\n",
            " |-- CANCELLATION_REASON: string (nullable = true)\n",
            " |-- AIR_SYSTEM_DELAY: string (nullable = true)\n",
            " |-- SECURITY_DELAY: string (nullable = true)\n",
            " |-- AIRLINE_DELAY: string (nullable = true)\n",
            " |-- LATE_AIRCRAFT_DELAY: string (nullable = true)\n",
            " |-- WEATHER_DELAY: string (nullable = true)\n",
            "\n"
          ]
        }
      ],
      "execution_count": null
    },
    {
      "cell_type": "code",
      "source": [
        "display(df)"
      ],
      "metadata": {
        "application/vnd.databricks.v1+cell": {
          "title": "",
          "showTitle": false,
          "inputWidgets": {},
          "nuid": "c116265b-fa0c-4953-bd02-0890e295f88e"
        },
        "id": "Lg5gDUG4Z0zL",
        "outputId": "26c3b2f2-d47e-4932-bc90-8e3f4ba4427e",
        "colab": {
          "base_uri": "https://localhost:8080/",
          "height": 104
        }
      },
      "outputs": [
        {
          "output_type": "display_data",
          "data": {
            "text/plain": [
              "DataFrame[YEAR: int, MONTH: int, DAY: int, DAY_OF_WEEK: int, AIRLINE: string, FLIGHT_NUMBER: int, TAIL_NUMBER: string, ORIGIN_AIRPORT: string, DESTINATION_AIRPORT: string, SCHEDULED_DEPARTURE: int, DEPARTURE_TIME: string, DEPARTURE_DELAY: string, TAXI_OUT: string, WHEELS_OFF: string, SCHEDULED_TIME: int, ELAPSED_TIME: string, AIR_TIME: string, DISTANCE: int, WHEELS_ON: string, TAXI_IN: string, SCHEDULED_ARRIVAL: int, ARRIVAL_TIME: string, ARRIVAL_DELAY: string, DIVERTED: int, CANCELLED: int, CANCELLATION_REASON: string, AIR_SYSTEM_DELAY: string, SECURITY_DELAY: string, AIRLINE_DELAY: string, LATE_AIRCRAFT_DELAY: string, WEATHER_DELAY: string]"
            ]
          },
          "metadata": {}
        }
      ],
      "execution_count": null
    },
    {
      "cell_type": "code",
      "source": [
        "# usa o objeto StructType\n",
        "from pyspark.sql.types import StructType, StructField, IntegerType, StringType, DateType, DoubleType, TimestampType\n",
        "\n",
        "schema_df = StructType([\n",
        "    StructField(\"date\", StringType()),\n",
        "    StructField(\"delay\", IntegerType()),\n",
        "    StructField(\"distance\", IntegerType()),\n",
        "    StructField(\"origin\", StringType()),\n",
        "    StructField(\"destination\", StringType())\n",
        "])"
      ],
      "metadata": {
        "application/vnd.databricks.v1+cell": {
          "title": "",
          "showTitle": false,
          "inputWidgets": {},
          "nuid": "5cd6a707-54ac-44db-8be8-9fd9bf4ba0e5"
        },
        "id": "FoLzdgY3Z0zL"
      },
      "outputs": [],
      "execution_count": null
    },
    {
      "cell_type": "code",
      "source": [
        "# verificando o tipo da variável schema_df\n",
        "type(schema_df)"
      ],
      "metadata": {
        "application/vnd.databricks.v1+cell": {
          "title": "",
          "showTitle": false,
          "inputWidgets": {},
          "nuid": "851ee92f-7289-457d-b5f3-1ceccdaa3db6"
        },
        "id": "PIhzsDcLZ0zM",
        "outputId": "8a48d745-7392-4e04-c307-19e493b9d97c",
        "colab": {
          "base_uri": "https://localhost:8080/",
          "height": 186
        }
      },
      "outputs": [
        {
          "output_type": "execute_result",
          "data": {
            "text/plain": [
              "pyspark.sql.types.StructType"
            ],
            "text/html": [
              "<div style=\"max-width:800px; border: 1px solid var(--colab-border-color);\"><style>\n",
              "      pre.function-repr-contents {\n",
              "        overflow-x: auto;\n",
              "        padding: 8px 12px;\n",
              "        max-height: 500px;\n",
              "      }\n",
              "\n",
              "      pre.function-repr-contents.function-repr-contents-collapsed {\n",
              "        cursor: pointer;\n",
              "        max-height: 100px;\n",
              "      }\n",
              "    </style>\n",
              "    <pre style=\"white-space: initial; background:\n",
              "         var(--colab-secondary-surface-color); padding: 8px 12px;\n",
              "         border-bottom: 1px solid var(--colab-border-color);\"><b>pyspark.sql.types.StructType</b><br/>def __init__(fields: Optional[List[StructField]]=None)</pre><pre class=\"function-repr-contents function-repr-contents-collapsed\" style=\"\"><a class=\"filepath\" style=\"display:none\" href=\"#\">/usr/local/lib/python3.11/dist-packages/pyspark/sql/types.py</a>Struct type, consisting of a list of :class:`StructField`.\n",
              "\n",
              "This is the data type representing a :class:`Row`.\n",
              "\n",
              "Iterating a :class:`StructType` will iterate over its :class:`StructField`\\s.\n",
              "A contained :class:`StructField` can be accessed by its name or position.\n",
              "\n",
              "Examples\n",
              "--------\n",
              "&gt;&gt;&gt; from pyspark.sql.types import *\n",
              "&gt;&gt;&gt; struct1 = StructType([StructField(&quot;f1&quot;, StringType(), True)])\n",
              "&gt;&gt;&gt; struct1[&quot;f1&quot;]\n",
              "StructField(&#x27;f1&#x27;, StringType(), True)\n",
              "&gt;&gt;&gt; struct1[0]\n",
              "StructField(&#x27;f1&#x27;, StringType(), True)\n",
              "\n",
              "&gt;&gt;&gt; struct1 = StructType([StructField(&quot;f1&quot;, StringType(), True)])\n",
              "&gt;&gt;&gt; struct2 = StructType([StructField(&quot;f1&quot;, StringType(), True)])\n",
              "&gt;&gt;&gt; struct1 == struct2\n",
              "True\n",
              "&gt;&gt;&gt; struct1 = StructType([StructField(&quot;f1&quot;, CharType(10), True)])\n",
              "&gt;&gt;&gt; struct2 = StructType([StructField(&quot;f1&quot;, CharType(10), True)])\n",
              "&gt;&gt;&gt; struct1 == struct2\n",
              "True\n",
              "&gt;&gt;&gt; struct1 = StructType([StructField(&quot;f1&quot;, VarcharType(10), True)])\n",
              "&gt;&gt;&gt; struct2 = StructType([StructField(&quot;f1&quot;, VarcharType(10), True)])\n",
              "&gt;&gt;&gt; struct1 == struct2\n",
              "True\n",
              "&gt;&gt;&gt; struct1 = StructType([StructField(&quot;f1&quot;, StringType(), True)])\n",
              "&gt;&gt;&gt; struct2 = StructType([StructField(&quot;f1&quot;, StringType(), True),\n",
              "...     StructField(&quot;f2&quot;, IntegerType(), False)])\n",
              "&gt;&gt;&gt; struct1 == struct2\n",
              "False\n",
              "\n",
              "The below example demonstrates how to create a DataFrame based on a struct created\n",
              "using class:`StructType` and class:`StructField`:\n",
              "\n",
              "&gt;&gt;&gt; data = [(&quot;Alice&quot;, [&quot;Java&quot;, &quot;Scala&quot;]), (&quot;Bob&quot;, [&quot;Python&quot;, &quot;Scala&quot;])]\n",
              "&gt;&gt;&gt; schema = StructType([\n",
              "...     StructField(&quot;name&quot;, StringType()),\n",
              "...     StructField(&quot;languagesSkills&quot;, ArrayType(StringType())),\n",
              "... ])\n",
              "&gt;&gt;&gt; df = spark.createDataFrame(data=data, schema=schema)\n",
              "&gt;&gt;&gt; df.printSchema()\n",
              "root\n",
              " |-- name: string (nullable = true)\n",
              " |-- languagesSkills: array (nullable = true)\n",
              " |    |-- element: string (containsNull = true)\n",
              "&gt;&gt;&gt; df.show()\n",
              "+-----+---------------+\n",
              "| name|languagesSkills|\n",
              "+-----+---------------+\n",
              "|Alice|  [Java, Scala]|\n",
              "|  Bob|[Python, Scala]|\n",
              "+-----+---------------+</pre>\n",
              "      <script>\n",
              "      if (google.colab.kernel.accessAllowed && google.colab.files && google.colab.files.view) {\n",
              "        for (const element of document.querySelectorAll('.filepath')) {\n",
              "          element.style.display = 'block'\n",
              "          element.onclick = (event) => {\n",
              "            event.preventDefault();\n",
              "            event.stopPropagation();\n",
              "            google.colab.files.view(element.textContent, 729);\n",
              "          };\n",
              "        }\n",
              "      }\n",
              "      for (const element of document.querySelectorAll('.function-repr-contents')) {\n",
              "        element.onclick = (event) => {\n",
              "          event.preventDefault();\n",
              "          event.stopPropagation();\n",
              "          element.classList.toggle('function-repr-contents-collapsed');\n",
              "        };\n",
              "      }\n",
              "      </script>\n",
              "      </div>"
            ]
          },
          "metadata": {},
          "execution_count": 42
        }
      ],
      "execution_count": null
    },
    {
      "cell_type": "code",
      "source": [
        "# usando o parâmetro schema()\n",
        "df = spark.read.format(\"csv\")\\\n",
        ".option(\"header\", \"True\")\\\n",
        ".schema(schema_df)\\\n",
        ".load(arquivo)"
      ],
      "metadata": {
        "application/vnd.databricks.v1+cell": {
          "title": "",
          "showTitle": false,
          "inputWidgets": {},
          "nuid": "5e2b1995-99ff-466d-916e-ee4249596191"
        },
        "id": "C6QgpB6lZ0zM"
      },
      "outputs": [],
      "execution_count": null
    },
    {
      "cell_type": "code",
      "source": [
        "# imprime o schema do dataframe.\n",
        "df.printSchema()"
      ],
      "metadata": {
        "application/vnd.databricks.v1+cell": {
          "title": "",
          "showTitle": false,
          "inputWidgets": {},
          "nuid": "a08cfa23-0f7a-4fcb-b35f-1faf7ab89884"
        },
        "id": "3-WnpBdUZ0zM",
        "outputId": "0680a8fc-09f0-4958-ad84-c1a6ba1beed2",
        "colab": {
          "base_uri": "https://localhost:8080/"
        }
      },
      "outputs": [
        {
          "output_type": "stream",
          "name": "stdout",
          "text": [
            "root\n",
            " |-- date: string (nullable = true)\n",
            " |-- delay: integer (nullable = true)\n",
            " |-- distance: integer (nullable = true)\n",
            " |-- origin: string (nullable = true)\n",
            " |-- destination: string (nullable = true)\n",
            "\n"
          ]
        }
      ],
      "execution_count": null
    },
    {
      "cell_type": "code",
      "source": [
        "# imprime 10 primeiras linhas do dataframe.\n",
        "df.show(10)"
      ],
      "metadata": {
        "application/vnd.databricks.v1+cell": {
          "title": "",
          "showTitle": false,
          "inputWidgets": {},
          "nuid": "a6648245-b2aa-46ac-b761-2a56bd6537f6"
        },
        "id": "YmYNd28LZ0zM",
        "outputId": "bfd7a22d-6dd5-4df7-f586-86baa1409291",
        "colab": {
          "base_uri": "https://localhost:8080/"
        }
      },
      "outputs": [
        {
          "output_type": "stream",
          "name": "stdout",
          "text": [
            "+----+-----+--------+------+-----------+\n",
            "|date|delay|distance|origin|destination|\n",
            "+----+-----+--------+------+-----------+\n",
            "|2015|    1|       1|     4|         AS|\n",
            "|2015|    1|       1|     4|         AA|\n",
            "|2015|    1|       1|     4|         US|\n",
            "|2015|    1|       1|     4|         AA|\n",
            "|2015|    1|       1|     4|         AS|\n",
            "|2015|    1|       1|     4|         DL|\n",
            "|2015|    1|       1|     4|         NK|\n",
            "|2015|    1|       1|     4|         US|\n",
            "|2015|    1|       1|     4|         AA|\n",
            "|2015|    1|       1|     4|         DL|\n",
            "+----+-----+--------+------+-----------+\n",
            "only showing top 10 rows\n",
            "\n"
          ]
        }
      ],
      "execution_count": null
    },
    {
      "cell_type": "code",
      "source": [
        "# imprime o tipo da varia'vel df\n",
        "type(df)"
      ],
      "metadata": {
        "application/vnd.databricks.v1+cell": {
          "title": "",
          "showTitle": false,
          "inputWidgets": {},
          "nuid": "d985990f-708d-400a-8b54-df146864aa8c"
        },
        "id": "KqBB36lEZ0zM",
        "outputId": "d048d316-91dd-4165-920a-6a3085da3ff5",
        "colab": {
          "base_uri": "https://localhost:8080/",
          "height": 186
        }
      },
      "outputs": [
        {
          "output_type": "execute_result",
          "data": {
            "text/plain": [
              "pyspark.sql.dataframe.DataFrame"
            ],
            "text/html": [
              "<div style=\"max-width:800px; border: 1px solid var(--colab-border-color);\"><style>\n",
              "      pre.function-repr-contents {\n",
              "        overflow-x: auto;\n",
              "        padding: 8px 12px;\n",
              "        max-height: 500px;\n",
              "      }\n",
              "\n",
              "      pre.function-repr-contents.function-repr-contents-collapsed {\n",
              "        cursor: pointer;\n",
              "        max-height: 100px;\n",
              "      }\n",
              "    </style>\n",
              "    <pre style=\"white-space: initial; background:\n",
              "         var(--colab-secondary-surface-color); padding: 8px 12px;\n",
              "         border-bottom: 1px solid var(--colab-border-color);\"><b>pyspark.sql.dataframe.DataFrame</b><br/>def __init__(jdf: JavaObject, sql_ctx: Union[&#x27;SQLContext&#x27;, &#x27;SparkSession&#x27;])</pre><pre class=\"function-repr-contents function-repr-contents-collapsed\" style=\"\"><a class=\"filepath\" style=\"display:none\" href=\"#\">/usr/local/lib/python3.11/dist-packages/pyspark/sql/dataframe.py</a>A distributed collection of data grouped into named columns.\n",
              "\n",
              ".. versionadded:: 1.3.0\n",
              "\n",
              ".. versionchanged:: 3.4.0\n",
              "    Supports Spark Connect.\n",
              "\n",
              "Examples\n",
              "--------\n",
              "A :class:`DataFrame` is equivalent to a relational table in Spark SQL,\n",
              "and can be created using various functions in :class:`SparkSession`:\n",
              "\n",
              "&gt;&gt;&gt; people = spark.createDataFrame([\n",
              "...     {&quot;deptId&quot;: 1, &quot;age&quot;: 40, &quot;name&quot;: &quot;Hyukjin Kwon&quot;, &quot;gender&quot;: &quot;M&quot;, &quot;salary&quot;: 50},\n",
              "...     {&quot;deptId&quot;: 1, &quot;age&quot;: 50, &quot;name&quot;: &quot;Takuya Ueshin&quot;, &quot;gender&quot;: &quot;M&quot;, &quot;salary&quot;: 100},\n",
              "...     {&quot;deptId&quot;: 2, &quot;age&quot;: 60, &quot;name&quot;: &quot;Xinrong Meng&quot;, &quot;gender&quot;: &quot;F&quot;, &quot;salary&quot;: 150},\n",
              "...     {&quot;deptId&quot;: 3, &quot;age&quot;: 20, &quot;name&quot;: &quot;Haejoon Lee&quot;, &quot;gender&quot;: &quot;M&quot;, &quot;salary&quot;: 200}\n",
              "... ])\n",
              "\n",
              "Once created, it can be manipulated using the various domain-specific-language\n",
              "(DSL) functions defined in: :class:`DataFrame`, :class:`Column`.\n",
              "\n",
              "To select a column from the :class:`DataFrame`, use the apply method:\n",
              "\n",
              "&gt;&gt;&gt; age_col = people.age\n",
              "\n",
              "A more concrete example:\n",
              "\n",
              "&gt;&gt;&gt; # To create DataFrame using SparkSession\n",
              "... department = spark.createDataFrame([\n",
              "...     {&quot;id&quot;: 1, &quot;name&quot;: &quot;PySpark&quot;},\n",
              "...     {&quot;id&quot;: 2, &quot;name&quot;: &quot;ML&quot;},\n",
              "...     {&quot;id&quot;: 3, &quot;name&quot;: &quot;Spark SQL&quot;}\n",
              "... ])\n",
              "\n",
              "&gt;&gt;&gt; people.filter(people.age &gt; 30).join(\n",
              "...     department, people.deptId == department.id).groupBy(\n",
              "...     department.name, &quot;gender&quot;).agg({&quot;salary&quot;: &quot;avg&quot;, &quot;age&quot;: &quot;max&quot;}).show()\n",
              "+-------+------+-----------+--------+\n",
              "|   name|gender|avg(salary)|max(age)|\n",
              "+-------+------+-----------+--------+\n",
              "|     ML|     F|      150.0|      60|\n",
              "|PySpark|     M|       75.0|      50|\n",
              "+-------+------+-----------+--------+\n",
              "\n",
              "Notes\n",
              "-----\n",
              "A DataFrame should only be created as described above. It should not be directly\n",
              "created via using the constructor.</pre>\n",
              "      <script>\n",
              "      if (google.colab.kernel.accessAllowed && google.colab.files && google.colab.files.view) {\n",
              "        for (const element of document.querySelectorAll('.filepath')) {\n",
              "          element.style.display = 'block'\n",
              "          element.onclick = (event) => {\n",
              "            event.preventDefault();\n",
              "            event.stopPropagation();\n",
              "            google.colab.files.view(element.textContent, 80);\n",
              "          };\n",
              "        }\n",
              "      }\n",
              "      for (const element of document.querySelectorAll('.function-repr-contents')) {\n",
              "        element.onclick = (event) => {\n",
              "          event.preventDefault();\n",
              "          event.stopPropagation();\n",
              "          element.classList.toggle('function-repr-contents-collapsed');\n",
              "        };\n",
              "      }\n",
              "      </script>\n",
              "      </div>"
            ]
          },
          "metadata": {},
          "execution_count": 46
        }
      ],
      "execution_count": null
    },
    {
      "cell_type": "code",
      "source": [
        "# retorna as primeiras 10 linhas do dataframe em formato de array.\n",
        "df.take(10)"
      ],
      "metadata": {
        "application/vnd.databricks.v1+cell": {
          "title": "",
          "showTitle": false,
          "inputWidgets": {},
          "nuid": "ff86eb84-a685-4829-b68e-bdb4d094fe2a"
        },
        "id": "gNXoOT9yZ0zM",
        "outputId": "be7c3b47-dc03-4868-86da-01ddf8bb48e1",
        "colab": {
          "base_uri": "https://localhost:8080/"
        }
      },
      "outputs": [
        {
          "output_type": "execute_result",
          "data": {
            "text/plain": [
              "[Row(date='2015', delay=1, distance=1, origin='4', destination='AS'),\n",
              " Row(date='2015', delay=1, distance=1, origin='4', destination='AA'),\n",
              " Row(date='2015', delay=1, distance=1, origin='4', destination='US'),\n",
              " Row(date='2015', delay=1, distance=1, origin='4', destination='AA'),\n",
              " Row(date='2015', delay=1, distance=1, origin='4', destination='AS'),\n",
              " Row(date='2015', delay=1, distance=1, origin='4', destination='DL'),\n",
              " Row(date='2015', delay=1, distance=1, origin='4', destination='NK'),\n",
              " Row(date='2015', delay=1, distance=1, origin='4', destination='US'),\n",
              " Row(date='2015', delay=1, distance=1, origin='4', destination='AA'),\n",
              " Row(date='2015', delay=1, distance=1, origin='4', destination='DL')]"
            ]
          },
          "metadata": {},
          "execution_count": 47
        }
      ],
      "execution_count": null
    },
    {
      "cell_type": "code",
      "source": [
        "# imprime a quantidade de linhas no dataframe.\n",
        "df.count()"
      ],
      "metadata": {
        "application/vnd.databricks.v1+cell": {
          "title": "",
          "showTitle": false,
          "inputWidgets": {},
          "nuid": "3f44a1ea-e801-447f-9021-e4141bb9b049"
        },
        "id": "zMdu1JyBZ0zM",
        "outputId": "43155e2e-e23e-4120-964a-c94b612cead8",
        "colab": {
          "base_uri": "https://localhost:8080/"
        }
      },
      "outputs": [
        {
          "output_type": "execute_result",
          "data": {
            "text/plain": [
              "1000"
            ]
          },
          "metadata": {},
          "execution_count": 48
        }
      ],
      "execution_count": null
    },
    {
      "cell_type": "code",
      "source": [
        "from pyspark.sql.functions import max\n",
        "df.select(max(\"delay\")).take(1)"
      ],
      "metadata": {
        "application/vnd.databricks.v1+cell": {
          "title": "",
          "showTitle": false,
          "inputWidgets": {},
          "nuid": "f375438f-aa6b-4365-9a64-9623a3e7fd2b"
        },
        "id": "_u00SZRrZ0zM",
        "outputId": "c4ad5070-06e6-4e37-e703-7ea370f42d9e",
        "colab": {
          "base_uri": "https://localhost:8080/"
        }
      },
      "outputs": [
        {
          "output_type": "execute_result",
          "data": {
            "text/plain": [
              "[Row(max(delay)=1)]"
            ]
          },
          "metadata": {},
          "execution_count": 49
        }
      ],
      "execution_count": null
    },
    {
      "cell_type": "code",
      "source": [
        "# Filtrando linhas de um dataframe usando filter\n",
        "df.filter(\"delay < 2\").show(2)"
      ],
      "metadata": {
        "application/vnd.databricks.v1+cell": {
          "title": "",
          "showTitle": false,
          "inputWidgets": {},
          "nuid": "7b05b59b-1ac3-43e3-a012-fe7925f4d3f0"
        },
        "id": "w3VCj1dGZ0zM",
        "outputId": "e1831862-af89-46ba-a6cb-22987c7fa392",
        "colab": {
          "base_uri": "https://localhost:8080/"
        }
      },
      "outputs": [
        {
          "output_type": "stream",
          "name": "stdout",
          "text": [
            "+----+-----+--------+------+-----------+\n",
            "|date|delay|distance|origin|destination|\n",
            "+----+-----+--------+------+-----------+\n",
            "|2015|    1|       1|     4|         AS|\n",
            "|2015|    1|       1|     4|         AA|\n",
            "+----+-----+--------+------+-----------+\n",
            "only showing top 2 rows\n",
            "\n"
          ]
        }
      ],
      "execution_count": null
    },
    {
      "cell_type": "code",
      "source": [
        "# Usando where (um alias para o metodo filter)\n",
        "df.where(\"delay < 2\").show(2)"
      ],
      "metadata": {
        "application/vnd.databricks.v1+cell": {
          "title": "",
          "showTitle": false,
          "inputWidgets": {},
          "nuid": "6bfa5ed5-2efe-4458-98e4-cf7b21461dbd"
        },
        "id": "37JB5s0sZ0zM",
        "outputId": "7c125c56-d742-419f-c614-51c48a132066",
        "colab": {
          "base_uri": "https://localhost:8080/"
        }
      },
      "outputs": [
        {
          "output_type": "stream",
          "name": "stdout",
          "text": [
            "+----+-----+--------+------+-----------+\n",
            "|date|delay|distance|origin|destination|\n",
            "+----+-----+--------+------+-----------+\n",
            "|2015|    1|       1|     4|         AS|\n",
            "|2015|    1|       1|     4|         AA|\n",
            "+----+-----+--------+------+-----------+\n",
            "only showing top 2 rows\n",
            "\n"
          ]
        }
      ],
      "execution_count": null
    },
    {
      "cell_type": "code",
      "source": [
        "# ordena o dataframe pela coluna delay\n",
        "df.sort(\"delay\").show(5)"
      ],
      "metadata": {
        "application/vnd.databricks.v1+cell": {
          "title": "",
          "showTitle": false,
          "inputWidgets": {},
          "nuid": "00009f45-5466-4216-a300-bd181bb90bab"
        },
        "id": "JDh79PdyZ0zM",
        "outputId": "143fac5d-2756-4601-e73c-8eb28ba24b23",
        "colab": {
          "base_uri": "https://localhost:8080/"
        }
      },
      "outputs": [
        {
          "output_type": "stream",
          "name": "stdout",
          "text": [
            "+----+-----+--------+------+-----------+\n",
            "|date|delay|distance|origin|destination|\n",
            "+----+-----+--------+------+-----------+\n",
            "|2015|    1|       1|     4|         AS|\n",
            "|2015|    1|       1|     4|         AA|\n",
            "|2015|    1|       1|     4|         US|\n",
            "|2015|    1|       1|     4|         AA|\n",
            "|2015|    1|       1|     4|         AS|\n",
            "+----+-----+--------+------+-----------+\n",
            "only showing top 5 rows\n",
            "\n"
          ]
        }
      ],
      "execution_count": null
    },
    {
      "cell_type": "code",
      "source": [
        "from pyspark.sql.functions import desc, asc, expr\n",
        "# ordenando por ordem crescente\n",
        "df.orderBy(expr(\"delay desc\")).show(10)"
      ],
      "metadata": {
        "application/vnd.databricks.v1+cell": {
          "title": "",
          "showTitle": false,
          "inputWidgets": {},
          "nuid": "4588f8bf-1719-4655-8d99-6222cde17472"
        },
        "id": "1GmuZEZtZ0zM",
        "outputId": "c45443bd-4b15-4789-8bba-d568fc31f0ff",
        "colab": {
          "base_uri": "https://localhost:8080/"
        }
      },
      "outputs": [
        {
          "output_type": "stream",
          "name": "stdout",
          "text": [
            "+----+-----+--------+------+-----------+\n",
            "|date|delay|distance|origin|destination|\n",
            "+----+-----+--------+------+-----------+\n",
            "|2015|    1|       1|     4|         AS|\n",
            "|2015|    1|       1|     4|         AA|\n",
            "|2015|    1|       1|     4|         US|\n",
            "|2015|    1|       1|     4|         AA|\n",
            "|2015|    1|       1|     4|         AS|\n",
            "|2015|    1|       1|     4|         DL|\n",
            "|2015|    1|       1|     4|         NK|\n",
            "|2015|    1|       1|     4|         US|\n",
            "|2015|    1|       1|     4|         AA|\n",
            "|2015|    1|       1|     4|         DL|\n",
            "+----+-----+--------+------+-----------+\n",
            "only showing top 10 rows\n",
            "\n"
          ]
        }
      ],
      "execution_count": null
    },
    {
      "cell_type": "code",
      "source": [
        "# visualizando estatísticas descritivas\n",
        "df.describe().show()"
      ],
      "metadata": {
        "application/vnd.databricks.v1+cell": {
          "title": "",
          "showTitle": false,
          "inputWidgets": {},
          "nuid": "6eda48a9-1958-4849-b69d-664ab6df9f7d"
        },
        "id": "Jejl-GtxZ0zN",
        "outputId": "e440f800-45f3-41f3-d299-f34876a26be7",
        "colab": {
          "base_uri": "https://localhost:8080/"
        }
      },
      "outputs": [
        {
          "output_type": "stream",
          "name": "stdout",
          "text": [
            "+-------+------+-----+--------+------+-----------+\n",
            "|summary|  date|delay|distance|origin|destination|\n",
            "+-------+------+-----+--------+------+-----------+\n",
            "|  count|  1000| 1000|    1000|  1000|       1000|\n",
            "|   mean|2015.0|  1.0|     1.0|   4.0|       NULL|\n",
            "| stddev|   0.0|  0.0|     0.0|   0.0|       NULL|\n",
            "|    min|  2015|    1|       1|     4|         AA|\n",
            "|    max|  2015|    1|       1|     4|         WN|\n",
            "+-------+------+-----+--------+------+-----------+\n",
            "\n"
          ]
        }
      ],
      "execution_count": null
    },
    {
      "cell_type": "code",
      "source": [
        "# iterando sobre todas as linhas do dataframe\n",
        "for i in df.collect():\n",
        "  #print (i)\n",
        "  print(i[0], i[1], i[2] * 2)"
      ],
      "metadata": {
        "application/vnd.databricks.v1+cell": {
          "title": "",
          "showTitle": false,
          "inputWidgets": {},
          "nuid": "c9613904-0ee1-4f74-a8cd-7443e2df357d"
        },
        "id": "HYtTQTFwZ0zN",
        "outputId": "bca3e73f-6bd9-45f9-af34-1251b7ed6248",
        "colab": {
          "base_uri": "https://localhost:8080/"
        }
      },
      "outputs": [
        {
          "output_type": "stream",
          "name": "stdout",
          "text": [
            "2015 1 2\n",
            "2015 1 2\n",
            "2015 1 2\n",
            "2015 1 2\n",
            "2015 1 2\n",
            "2015 1 2\n",
            "2015 1 2\n",
            "2015 1 2\n",
            "2015 1 2\n",
            "2015 1 2\n",
            "2015 1 2\n",
            "2015 1 2\n",
            "2015 1 2\n",
            "2015 1 2\n",
            "2015 1 2\n",
            "2015 1 2\n",
            "2015 1 2\n",
            "2015 1 2\n",
            "2015 1 2\n",
            "2015 1 2\n",
            "2015 1 2\n",
            "2015 1 2\n",
            "2015 1 2\n",
            "2015 1 2\n",
            "2015 1 2\n",
            "2015 1 2\n",
            "2015 1 2\n",
            "2015 1 2\n",
            "2015 1 2\n",
            "2015 1 2\n",
            "2015 1 2\n",
            "2015 1 2\n",
            "2015 1 2\n",
            "2015 1 2\n",
            "2015 1 2\n",
            "2015 1 2\n",
            "2015 1 2\n",
            "2015 1 2\n",
            "2015 1 2\n",
            "2015 1 2\n",
            "2015 1 2\n",
            "2015 1 2\n",
            "2015 1 2\n",
            "2015 1 2\n",
            "2015 1 2\n",
            "2015 1 2\n",
            "2015 1 2\n",
            "2015 1 2\n",
            "2015 1 2\n",
            "2015 1 2\n",
            "2015 1 2\n",
            "2015 1 2\n",
            "2015 1 2\n",
            "2015 1 2\n",
            "2015 1 2\n",
            "2015 1 2\n",
            "2015 1 2\n",
            "2015 1 2\n",
            "2015 1 2\n",
            "2015 1 2\n",
            "2015 1 2\n",
            "2015 1 2\n",
            "2015 1 2\n",
            "2015 1 2\n",
            "2015 1 2\n",
            "2015 1 2\n",
            "2015 1 2\n",
            "2015 1 2\n",
            "2015 1 2\n",
            "2015 1 2\n",
            "2015 1 2\n",
            "2015 1 2\n",
            "2015 1 2\n",
            "2015 1 2\n",
            "2015 1 2\n",
            "2015 1 2\n",
            "2015 1 2\n",
            "2015 1 2\n",
            "2015 1 2\n",
            "2015 1 2\n",
            "2015 1 2\n",
            "2015 1 2\n",
            "2015 1 2\n",
            "2015 1 2\n",
            "2015 1 2\n",
            "2015 1 2\n",
            "2015 1 2\n",
            "2015 1 2\n",
            "2015 1 2\n",
            "2015 1 2\n",
            "2015 1 2\n",
            "2015 1 2\n",
            "2015 1 2\n",
            "2015 1 2\n",
            "2015 1 2\n",
            "2015 1 2\n",
            "2015 1 2\n",
            "2015 1 2\n",
            "2015 1 2\n",
            "2015 1 2\n",
            "2015 1 2\n",
            "2015 1 2\n",
            "2015 1 2\n",
            "2015 1 2\n",
            "2015 1 2\n",
            "2015 1 2\n",
            "2015 1 2\n",
            "2015 1 2\n",
            "2015 1 2\n",
            "2015 1 2\n",
            "2015 1 2\n",
            "2015 1 2\n",
            "2015 1 2\n",
            "2015 1 2\n",
            "2015 1 2\n",
            "2015 1 2\n",
            "2015 1 2\n",
            "2015 1 2\n",
            "2015 1 2\n",
            "2015 1 2\n",
            "2015 1 2\n",
            "2015 1 2\n",
            "2015 1 2\n",
            "2015 1 2\n",
            "2015 1 2\n",
            "2015 1 2\n",
            "2015 1 2\n",
            "2015 1 2\n",
            "2015 1 2\n",
            "2015 1 2\n",
            "2015 1 2\n",
            "2015 1 2\n",
            "2015 1 2\n",
            "2015 1 2\n",
            "2015 1 2\n",
            "2015 1 2\n",
            "2015 1 2\n",
            "2015 1 2\n",
            "2015 1 2\n",
            "2015 1 2\n",
            "2015 1 2\n",
            "2015 1 2\n",
            "2015 1 2\n",
            "2015 1 2\n",
            "2015 1 2\n",
            "2015 1 2\n",
            "2015 1 2\n",
            "2015 1 2\n",
            "2015 1 2\n",
            "2015 1 2\n",
            "2015 1 2\n",
            "2015 1 2\n",
            "2015 1 2\n",
            "2015 1 2\n",
            "2015 1 2\n",
            "2015 1 2\n",
            "2015 1 2\n",
            "2015 1 2\n",
            "2015 1 2\n",
            "2015 1 2\n",
            "2015 1 2\n",
            "2015 1 2\n",
            "2015 1 2\n",
            "2015 1 2\n",
            "2015 1 2\n",
            "2015 1 2\n",
            "2015 1 2\n",
            "2015 1 2\n",
            "2015 1 2\n",
            "2015 1 2\n",
            "2015 1 2\n",
            "2015 1 2\n",
            "2015 1 2\n",
            "2015 1 2\n",
            "2015 1 2\n",
            "2015 1 2\n",
            "2015 1 2\n",
            "2015 1 2\n",
            "2015 1 2\n",
            "2015 1 2\n",
            "2015 1 2\n",
            "2015 1 2\n",
            "2015 1 2\n",
            "2015 1 2\n",
            "2015 1 2\n",
            "2015 1 2\n",
            "2015 1 2\n",
            "2015 1 2\n",
            "2015 1 2\n",
            "2015 1 2\n",
            "2015 1 2\n",
            "2015 1 2\n",
            "2015 1 2\n",
            "2015 1 2\n",
            "2015 1 2\n",
            "2015 1 2\n",
            "2015 1 2\n",
            "2015 1 2\n",
            "2015 1 2\n",
            "2015 1 2\n",
            "2015 1 2\n",
            "2015 1 2\n",
            "2015 1 2\n",
            "2015 1 2\n",
            "2015 1 2\n",
            "2015 1 2\n",
            "2015 1 2\n",
            "2015 1 2\n",
            "2015 1 2\n",
            "2015 1 2\n",
            "2015 1 2\n",
            "2015 1 2\n",
            "2015 1 2\n",
            "2015 1 2\n",
            "2015 1 2\n",
            "2015 1 2\n",
            "2015 1 2\n",
            "2015 1 2\n",
            "2015 1 2\n",
            "2015 1 2\n",
            "2015 1 2\n",
            "2015 1 2\n",
            "2015 1 2\n",
            "2015 1 2\n",
            "2015 1 2\n",
            "2015 1 2\n",
            "2015 1 2\n",
            "2015 1 2\n",
            "2015 1 2\n",
            "2015 1 2\n",
            "2015 1 2\n",
            "2015 1 2\n",
            "2015 1 2\n",
            "2015 1 2\n",
            "2015 1 2\n",
            "2015 1 2\n",
            "2015 1 2\n",
            "2015 1 2\n",
            "2015 1 2\n",
            "2015 1 2\n",
            "2015 1 2\n",
            "2015 1 2\n",
            "2015 1 2\n",
            "2015 1 2\n",
            "2015 1 2\n",
            "2015 1 2\n",
            "2015 1 2\n",
            "2015 1 2\n",
            "2015 1 2\n",
            "2015 1 2\n",
            "2015 1 2\n",
            "2015 1 2\n",
            "2015 1 2\n",
            "2015 1 2\n",
            "2015 1 2\n",
            "2015 1 2\n",
            "2015 1 2\n",
            "2015 1 2\n",
            "2015 1 2\n",
            "2015 1 2\n",
            "2015 1 2\n",
            "2015 1 2\n",
            "2015 1 2\n",
            "2015 1 2\n",
            "2015 1 2\n",
            "2015 1 2\n",
            "2015 1 2\n",
            "2015 1 2\n",
            "2015 1 2\n",
            "2015 1 2\n",
            "2015 1 2\n",
            "2015 1 2\n",
            "2015 1 2\n",
            "2015 1 2\n",
            "2015 1 2\n",
            "2015 1 2\n",
            "2015 1 2\n",
            "2015 1 2\n",
            "2015 1 2\n",
            "2015 1 2\n",
            "2015 1 2\n",
            "2015 1 2\n",
            "2015 1 2\n",
            "2015 1 2\n",
            "2015 1 2\n",
            "2015 1 2\n",
            "2015 1 2\n",
            "2015 1 2\n",
            "2015 1 2\n",
            "2015 1 2\n",
            "2015 1 2\n",
            "2015 1 2\n",
            "2015 1 2\n",
            "2015 1 2\n",
            "2015 1 2\n",
            "2015 1 2\n",
            "2015 1 2\n",
            "2015 1 2\n",
            "2015 1 2\n",
            "2015 1 2\n",
            "2015 1 2\n",
            "2015 1 2\n",
            "2015 1 2\n",
            "2015 1 2\n",
            "2015 1 2\n",
            "2015 1 2\n",
            "2015 1 2\n",
            "2015 1 2\n",
            "2015 1 2\n",
            "2015 1 2\n",
            "2015 1 2\n",
            "2015 1 2\n",
            "2015 1 2\n",
            "2015 1 2\n",
            "2015 1 2\n",
            "2015 1 2\n",
            "2015 1 2\n",
            "2015 1 2\n",
            "2015 1 2\n",
            "2015 1 2\n",
            "2015 1 2\n",
            "2015 1 2\n",
            "2015 1 2\n",
            "2015 1 2\n",
            "2015 1 2\n",
            "2015 1 2\n",
            "2015 1 2\n",
            "2015 1 2\n",
            "2015 1 2\n",
            "2015 1 2\n",
            "2015 1 2\n",
            "2015 1 2\n",
            "2015 1 2\n",
            "2015 1 2\n",
            "2015 1 2\n",
            "2015 1 2\n",
            "2015 1 2\n",
            "2015 1 2\n",
            "2015 1 2\n",
            "2015 1 2\n",
            "2015 1 2\n",
            "2015 1 2\n",
            "2015 1 2\n",
            "2015 1 2\n",
            "2015 1 2\n",
            "2015 1 2\n",
            "2015 1 2\n",
            "2015 1 2\n",
            "2015 1 2\n",
            "2015 1 2\n",
            "2015 1 2\n",
            "2015 1 2\n",
            "2015 1 2\n",
            "2015 1 2\n",
            "2015 1 2\n",
            "2015 1 2\n",
            "2015 1 2\n",
            "2015 1 2\n",
            "2015 1 2\n",
            "2015 1 2\n",
            "2015 1 2\n",
            "2015 1 2\n",
            "2015 1 2\n",
            "2015 1 2\n",
            "2015 1 2\n",
            "2015 1 2\n",
            "2015 1 2\n",
            "2015 1 2\n",
            "2015 1 2\n",
            "2015 1 2\n",
            "2015 1 2\n",
            "2015 1 2\n",
            "2015 1 2\n",
            "2015 1 2\n",
            "2015 1 2\n",
            "2015 1 2\n",
            "2015 1 2\n",
            "2015 1 2\n",
            "2015 1 2\n",
            "2015 1 2\n",
            "2015 1 2\n",
            "2015 1 2\n",
            "2015 1 2\n",
            "2015 1 2\n",
            "2015 1 2\n",
            "2015 1 2\n",
            "2015 1 2\n",
            "2015 1 2\n",
            "2015 1 2\n",
            "2015 1 2\n",
            "2015 1 2\n",
            "2015 1 2\n",
            "2015 1 2\n",
            "2015 1 2\n",
            "2015 1 2\n",
            "2015 1 2\n",
            "2015 1 2\n",
            "2015 1 2\n",
            "2015 1 2\n",
            "2015 1 2\n",
            "2015 1 2\n",
            "2015 1 2\n",
            "2015 1 2\n",
            "2015 1 2\n",
            "2015 1 2\n",
            "2015 1 2\n",
            "2015 1 2\n",
            "2015 1 2\n",
            "2015 1 2\n",
            "2015 1 2\n",
            "2015 1 2\n",
            "2015 1 2\n",
            "2015 1 2\n",
            "2015 1 2\n",
            "2015 1 2\n",
            "2015 1 2\n",
            "2015 1 2\n",
            "2015 1 2\n",
            "2015 1 2\n",
            "2015 1 2\n",
            "2015 1 2\n",
            "2015 1 2\n",
            "2015 1 2\n",
            "2015 1 2\n",
            "2015 1 2\n",
            "2015 1 2\n",
            "2015 1 2\n",
            "2015 1 2\n",
            "2015 1 2\n",
            "2015 1 2\n",
            "2015 1 2\n",
            "2015 1 2\n",
            "2015 1 2\n",
            "2015 1 2\n",
            "2015 1 2\n",
            "2015 1 2\n",
            "2015 1 2\n",
            "2015 1 2\n",
            "2015 1 2\n",
            "2015 1 2\n",
            "2015 1 2\n",
            "2015 1 2\n",
            "2015 1 2\n",
            "2015 1 2\n",
            "2015 1 2\n",
            "2015 1 2\n",
            "2015 1 2\n",
            "2015 1 2\n",
            "2015 1 2\n",
            "2015 1 2\n",
            "2015 1 2\n",
            "2015 1 2\n",
            "2015 1 2\n",
            "2015 1 2\n",
            "2015 1 2\n",
            "2015 1 2\n",
            "2015 1 2\n",
            "2015 1 2\n",
            "2015 1 2\n",
            "2015 1 2\n",
            "2015 1 2\n",
            "2015 1 2\n",
            "2015 1 2\n",
            "2015 1 2\n",
            "2015 1 2\n",
            "2015 1 2\n",
            "2015 1 2\n",
            "2015 1 2\n",
            "2015 1 2\n",
            "2015 1 2\n",
            "2015 1 2\n",
            "2015 1 2\n",
            "2015 1 2\n",
            "2015 1 2\n",
            "2015 1 2\n",
            "2015 1 2\n",
            "2015 1 2\n",
            "2015 1 2\n",
            "2015 1 2\n",
            "2015 1 2\n",
            "2015 1 2\n",
            "2015 1 2\n",
            "2015 1 2\n",
            "2015 1 2\n",
            "2015 1 2\n",
            "2015 1 2\n",
            "2015 1 2\n",
            "2015 1 2\n",
            "2015 1 2\n",
            "2015 1 2\n",
            "2015 1 2\n",
            "2015 1 2\n",
            "2015 1 2\n",
            "2015 1 2\n",
            "2015 1 2\n",
            "2015 1 2\n",
            "2015 1 2\n",
            "2015 1 2\n",
            "2015 1 2\n",
            "2015 1 2\n",
            "2015 1 2\n",
            "2015 1 2\n",
            "2015 1 2\n",
            "2015 1 2\n",
            "2015 1 2\n",
            "2015 1 2\n",
            "2015 1 2\n",
            "2015 1 2\n",
            "2015 1 2\n",
            "2015 1 2\n",
            "2015 1 2\n",
            "2015 1 2\n",
            "2015 1 2\n",
            "2015 1 2\n",
            "2015 1 2\n",
            "2015 1 2\n",
            "2015 1 2\n",
            "2015 1 2\n",
            "2015 1 2\n",
            "2015 1 2\n",
            "2015 1 2\n",
            "2015 1 2\n",
            "2015 1 2\n",
            "2015 1 2\n",
            "2015 1 2\n",
            "2015 1 2\n",
            "2015 1 2\n",
            "2015 1 2\n",
            "2015 1 2\n",
            "2015 1 2\n",
            "2015 1 2\n",
            "2015 1 2\n",
            "2015 1 2\n",
            "2015 1 2\n",
            "2015 1 2\n",
            "2015 1 2\n",
            "2015 1 2\n",
            "2015 1 2\n",
            "2015 1 2\n",
            "2015 1 2\n",
            "2015 1 2\n",
            "2015 1 2\n",
            "2015 1 2\n",
            "2015 1 2\n",
            "2015 1 2\n",
            "2015 1 2\n",
            "2015 1 2\n",
            "2015 1 2\n",
            "2015 1 2\n",
            "2015 1 2\n",
            "2015 1 2\n",
            "2015 1 2\n",
            "2015 1 2\n",
            "2015 1 2\n",
            "2015 1 2\n",
            "2015 1 2\n",
            "2015 1 2\n",
            "2015 1 2\n",
            "2015 1 2\n",
            "2015 1 2\n",
            "2015 1 2\n",
            "2015 1 2\n",
            "2015 1 2\n",
            "2015 1 2\n",
            "2015 1 2\n",
            "2015 1 2\n",
            "2015 1 2\n",
            "2015 1 2\n",
            "2015 1 2\n",
            "2015 1 2\n",
            "2015 1 2\n",
            "2015 1 2\n",
            "2015 1 2\n",
            "2015 1 2\n",
            "2015 1 2\n",
            "2015 1 2\n",
            "2015 1 2\n",
            "2015 1 2\n",
            "2015 1 2\n",
            "2015 1 2\n",
            "2015 1 2\n",
            "2015 1 2\n",
            "2015 1 2\n",
            "2015 1 2\n",
            "2015 1 2\n",
            "2015 1 2\n",
            "2015 1 2\n",
            "2015 1 2\n",
            "2015 1 2\n",
            "2015 1 2\n",
            "2015 1 2\n",
            "2015 1 2\n",
            "2015 1 2\n",
            "2015 1 2\n",
            "2015 1 2\n",
            "2015 1 2\n",
            "2015 1 2\n",
            "2015 1 2\n",
            "2015 1 2\n",
            "2015 1 2\n",
            "2015 1 2\n",
            "2015 1 2\n",
            "2015 1 2\n",
            "2015 1 2\n",
            "2015 1 2\n",
            "2015 1 2\n",
            "2015 1 2\n",
            "2015 1 2\n",
            "2015 1 2\n",
            "2015 1 2\n",
            "2015 1 2\n",
            "2015 1 2\n",
            "2015 1 2\n",
            "2015 1 2\n",
            "2015 1 2\n",
            "2015 1 2\n",
            "2015 1 2\n",
            "2015 1 2\n",
            "2015 1 2\n",
            "2015 1 2\n",
            "2015 1 2\n",
            "2015 1 2\n",
            "2015 1 2\n",
            "2015 1 2\n",
            "2015 1 2\n",
            "2015 1 2\n",
            "2015 1 2\n",
            "2015 1 2\n",
            "2015 1 2\n",
            "2015 1 2\n",
            "2015 1 2\n",
            "2015 1 2\n",
            "2015 1 2\n",
            "2015 1 2\n",
            "2015 1 2\n",
            "2015 1 2\n",
            "2015 1 2\n",
            "2015 1 2\n",
            "2015 1 2\n",
            "2015 1 2\n",
            "2015 1 2\n",
            "2015 1 2\n",
            "2015 1 2\n",
            "2015 1 2\n",
            "2015 1 2\n",
            "2015 1 2\n",
            "2015 1 2\n",
            "2015 1 2\n",
            "2015 1 2\n",
            "2015 1 2\n",
            "2015 1 2\n",
            "2015 1 2\n",
            "2015 1 2\n",
            "2015 1 2\n",
            "2015 1 2\n",
            "2015 1 2\n",
            "2015 1 2\n",
            "2015 1 2\n",
            "2015 1 2\n",
            "2015 1 2\n",
            "2015 1 2\n",
            "2015 1 2\n",
            "2015 1 2\n",
            "2015 1 2\n",
            "2015 1 2\n",
            "2015 1 2\n",
            "2015 1 2\n",
            "2015 1 2\n",
            "2015 1 2\n",
            "2015 1 2\n",
            "2015 1 2\n",
            "2015 1 2\n",
            "2015 1 2\n",
            "2015 1 2\n",
            "2015 1 2\n",
            "2015 1 2\n",
            "2015 1 2\n",
            "2015 1 2\n",
            "2015 1 2\n",
            "2015 1 2\n",
            "2015 1 2\n",
            "2015 1 2\n",
            "2015 1 2\n",
            "2015 1 2\n",
            "2015 1 2\n",
            "2015 1 2\n",
            "2015 1 2\n",
            "2015 1 2\n",
            "2015 1 2\n",
            "2015 1 2\n",
            "2015 1 2\n",
            "2015 1 2\n",
            "2015 1 2\n",
            "2015 1 2\n",
            "2015 1 2\n",
            "2015 1 2\n",
            "2015 1 2\n",
            "2015 1 2\n",
            "2015 1 2\n",
            "2015 1 2\n",
            "2015 1 2\n",
            "2015 1 2\n",
            "2015 1 2\n",
            "2015 1 2\n",
            "2015 1 2\n",
            "2015 1 2\n",
            "2015 1 2\n",
            "2015 1 2\n",
            "2015 1 2\n",
            "2015 1 2\n",
            "2015 1 2\n",
            "2015 1 2\n",
            "2015 1 2\n",
            "2015 1 2\n",
            "2015 1 2\n",
            "2015 1 2\n",
            "2015 1 2\n",
            "2015 1 2\n",
            "2015 1 2\n",
            "2015 1 2\n",
            "2015 1 2\n",
            "2015 1 2\n",
            "2015 1 2\n",
            "2015 1 2\n",
            "2015 1 2\n",
            "2015 1 2\n",
            "2015 1 2\n",
            "2015 1 2\n",
            "2015 1 2\n",
            "2015 1 2\n",
            "2015 1 2\n",
            "2015 1 2\n",
            "2015 1 2\n",
            "2015 1 2\n",
            "2015 1 2\n",
            "2015 1 2\n",
            "2015 1 2\n",
            "2015 1 2\n",
            "2015 1 2\n",
            "2015 1 2\n",
            "2015 1 2\n",
            "2015 1 2\n",
            "2015 1 2\n",
            "2015 1 2\n",
            "2015 1 2\n",
            "2015 1 2\n",
            "2015 1 2\n",
            "2015 1 2\n",
            "2015 1 2\n",
            "2015 1 2\n",
            "2015 1 2\n",
            "2015 1 2\n",
            "2015 1 2\n",
            "2015 1 2\n",
            "2015 1 2\n",
            "2015 1 2\n",
            "2015 1 2\n",
            "2015 1 2\n",
            "2015 1 2\n",
            "2015 1 2\n",
            "2015 1 2\n",
            "2015 1 2\n",
            "2015 1 2\n",
            "2015 1 2\n",
            "2015 1 2\n",
            "2015 1 2\n",
            "2015 1 2\n",
            "2015 1 2\n",
            "2015 1 2\n",
            "2015 1 2\n",
            "2015 1 2\n",
            "2015 1 2\n",
            "2015 1 2\n",
            "2015 1 2\n",
            "2015 1 2\n",
            "2015 1 2\n",
            "2015 1 2\n",
            "2015 1 2\n",
            "2015 1 2\n",
            "2015 1 2\n",
            "2015 1 2\n",
            "2015 1 2\n",
            "2015 1 2\n",
            "2015 1 2\n",
            "2015 1 2\n",
            "2015 1 2\n",
            "2015 1 2\n",
            "2015 1 2\n",
            "2015 1 2\n",
            "2015 1 2\n",
            "2015 1 2\n",
            "2015 1 2\n",
            "2015 1 2\n",
            "2015 1 2\n",
            "2015 1 2\n",
            "2015 1 2\n",
            "2015 1 2\n",
            "2015 1 2\n",
            "2015 1 2\n",
            "2015 1 2\n",
            "2015 1 2\n",
            "2015 1 2\n",
            "2015 1 2\n",
            "2015 1 2\n",
            "2015 1 2\n",
            "2015 1 2\n",
            "2015 1 2\n",
            "2015 1 2\n",
            "2015 1 2\n",
            "2015 1 2\n",
            "2015 1 2\n",
            "2015 1 2\n",
            "2015 1 2\n",
            "2015 1 2\n",
            "2015 1 2\n",
            "2015 1 2\n",
            "2015 1 2\n",
            "2015 1 2\n",
            "2015 1 2\n",
            "2015 1 2\n",
            "2015 1 2\n",
            "2015 1 2\n",
            "2015 1 2\n",
            "2015 1 2\n",
            "2015 1 2\n",
            "2015 1 2\n",
            "2015 1 2\n",
            "2015 1 2\n",
            "2015 1 2\n",
            "2015 1 2\n",
            "2015 1 2\n",
            "2015 1 2\n",
            "2015 1 2\n",
            "2015 1 2\n",
            "2015 1 2\n",
            "2015 1 2\n",
            "2015 1 2\n",
            "2015 1 2\n",
            "2015 1 2\n",
            "2015 1 2\n",
            "2015 1 2\n",
            "2015 1 2\n",
            "2015 1 2\n",
            "2015 1 2\n",
            "2015 1 2\n",
            "2015 1 2\n",
            "2015 1 2\n",
            "2015 1 2\n",
            "2015 1 2\n",
            "2015 1 2\n",
            "2015 1 2\n",
            "2015 1 2\n",
            "2015 1 2\n",
            "2015 1 2\n",
            "2015 1 2\n",
            "2015 1 2\n",
            "2015 1 2\n",
            "2015 1 2\n",
            "2015 1 2\n",
            "2015 1 2\n",
            "2015 1 2\n",
            "2015 1 2\n",
            "2015 1 2\n",
            "2015 1 2\n",
            "2015 1 2\n",
            "2015 1 2\n",
            "2015 1 2\n",
            "2015 1 2\n",
            "2015 1 2\n",
            "2015 1 2\n",
            "2015 1 2\n",
            "2015 1 2\n",
            "2015 1 2\n",
            "2015 1 2\n",
            "2015 1 2\n",
            "2015 1 2\n",
            "2015 1 2\n",
            "2015 1 2\n",
            "2015 1 2\n",
            "2015 1 2\n",
            "2015 1 2\n",
            "2015 1 2\n",
            "2015 1 2\n",
            "2015 1 2\n",
            "2015 1 2\n",
            "2015 1 2\n",
            "2015 1 2\n",
            "2015 1 2\n",
            "2015 1 2\n",
            "2015 1 2\n",
            "2015 1 2\n",
            "2015 1 2\n",
            "2015 1 2\n",
            "2015 1 2\n",
            "2015 1 2\n",
            "2015 1 2\n",
            "2015 1 2\n",
            "2015 1 2\n",
            "2015 1 2\n",
            "2015 1 2\n",
            "2015 1 2\n",
            "2015 1 2\n",
            "2015 1 2\n",
            "2015 1 2\n",
            "2015 1 2\n",
            "2015 1 2\n",
            "2015 1 2\n",
            "2015 1 2\n",
            "2015 1 2\n",
            "2015 1 2\n",
            "2015 1 2\n",
            "2015 1 2\n",
            "2015 1 2\n",
            "2015 1 2\n",
            "2015 1 2\n",
            "2015 1 2\n",
            "2015 1 2\n",
            "2015 1 2\n",
            "2015 1 2\n",
            "2015 1 2\n",
            "2015 1 2\n",
            "2015 1 2\n",
            "2015 1 2\n",
            "2015 1 2\n",
            "2015 1 2\n",
            "2015 1 2\n",
            "2015 1 2\n",
            "2015 1 2\n",
            "2015 1 2\n",
            "2015 1 2\n",
            "2015 1 2\n",
            "2015 1 2\n",
            "2015 1 2\n",
            "2015 1 2\n",
            "2015 1 2\n",
            "2015 1 2\n",
            "2015 1 2\n",
            "2015 1 2\n",
            "2015 1 2\n",
            "2015 1 2\n",
            "2015 1 2\n",
            "2015 1 2\n",
            "2015 1 2\n",
            "2015 1 2\n",
            "2015 1 2\n",
            "2015 1 2\n",
            "2015 1 2\n",
            "2015 1 2\n",
            "2015 1 2\n",
            "2015 1 2\n",
            "2015 1 2\n",
            "2015 1 2\n",
            "2015 1 2\n",
            "2015 1 2\n",
            "2015 1 2\n",
            "2015 1 2\n",
            "2015 1 2\n",
            "2015 1 2\n",
            "2015 1 2\n",
            "2015 1 2\n",
            "2015 1 2\n",
            "2015 1 2\n",
            "2015 1 2\n",
            "2015 1 2\n",
            "2015 1 2\n",
            "2015 1 2\n",
            "2015 1 2\n",
            "2015 1 2\n",
            "2015 1 2\n",
            "2015 1 2\n",
            "2015 1 2\n",
            "2015 1 2\n",
            "2015 1 2\n",
            "2015 1 2\n",
            "2015 1 2\n",
            "2015 1 2\n",
            "2015 1 2\n",
            "2015 1 2\n",
            "2015 1 2\n",
            "2015 1 2\n",
            "2015 1 2\n",
            "2015 1 2\n",
            "2015 1 2\n",
            "2015 1 2\n",
            "2015 1 2\n",
            "2015 1 2\n",
            "2015 1 2\n",
            "2015 1 2\n",
            "2015 1 2\n",
            "2015 1 2\n",
            "2015 1 2\n",
            "2015 1 2\n",
            "2015 1 2\n",
            "2015 1 2\n",
            "2015 1 2\n",
            "2015 1 2\n",
            "2015 1 2\n",
            "2015 1 2\n",
            "2015 1 2\n",
            "2015 1 2\n"
          ]
        }
      ],
      "execution_count": null
    },
    {
      "cell_type": "code",
      "source": [
        "# Adicionando uma coluna ao dataframe\n",
        "df = df.withColumn('Nova Coluna',df['delay']+2)\n",
        "df.show(10)"
      ],
      "metadata": {
        "application/vnd.databricks.v1+cell": {
          "title": "",
          "showTitle": false,
          "inputWidgets": {},
          "nuid": "186063a1-575b-4715-9096-8149ae820982"
        },
        "id": "Wu34av2fZ0zN",
        "outputId": "4d1f1c87-7cf5-4817-e3ea-588ae09daede",
        "colab": {
          "base_uri": "https://localhost:8080/"
        }
      },
      "outputs": [
        {
          "output_type": "stream",
          "name": "stdout",
          "text": [
            "+----+-----+--------+------+-----------+-----------+\n",
            "|date|delay|distance|origin|destination|Nova Coluna|\n",
            "+----+-----+--------+------+-----------+-----------+\n",
            "|2015|    1|       1|     4|         AS|          3|\n",
            "|2015|    1|       1|     4|         AA|          3|\n",
            "|2015|    1|       1|     4|         US|          3|\n",
            "|2015|    1|       1|     4|         AA|          3|\n",
            "|2015|    1|       1|     4|         AS|          3|\n",
            "|2015|    1|       1|     4|         DL|          3|\n",
            "|2015|    1|       1|     4|         NK|          3|\n",
            "|2015|    1|       1|     4|         US|          3|\n",
            "|2015|    1|       1|     4|         AA|          3|\n",
            "|2015|    1|       1|     4|         DL|          3|\n",
            "+----+-----+--------+------+-----------+-----------+\n",
            "only showing top 10 rows\n",
            "\n"
          ]
        }
      ],
      "execution_count": null
    },
    {
      "cell_type": "code",
      "source": [
        "# Reovendo coluna\n",
        "df = df.drop('Nova Coluna')\n",
        "df.show(10)"
      ],
      "metadata": {
        "application/vnd.databricks.v1+cell": {
          "title": "",
          "showTitle": false,
          "inputWidgets": {},
          "nuid": "fbd956fa-6797-4cae-8ae8-64b86bc90459"
        },
        "id": "cuAKI1XhZ0zN",
        "outputId": "8b7d18e1-58ae-4530-e1b9-e3a9d3a8d890",
        "colab": {
          "base_uri": "https://localhost:8080/"
        }
      },
      "outputs": [
        {
          "output_type": "stream",
          "name": "stdout",
          "text": [
            "+----+-----+--------+------+-----------+\n",
            "|date|delay|distance|origin|destination|\n",
            "+----+-----+--------+------+-----------+\n",
            "|2015|    1|       1|     4|         AS|\n",
            "|2015|    1|       1|     4|         AA|\n",
            "|2015|    1|       1|     4|         US|\n",
            "|2015|    1|       1|     4|         AA|\n",
            "|2015|    1|       1|     4|         AS|\n",
            "|2015|    1|       1|     4|         DL|\n",
            "|2015|    1|       1|     4|         NK|\n",
            "|2015|    1|       1|     4|         US|\n",
            "|2015|    1|       1|     4|         AA|\n",
            "|2015|    1|       1|     4|         DL|\n",
            "+----+-----+--------+------+-----------+\n",
            "only showing top 10 rows\n",
            "\n"
          ]
        }
      ],
      "execution_count": null
    },
    {
      "cell_type": "code",
      "source": [
        "# Renomenando uma coluna no dataframe\n",
        "df.withColumnRenamed('Nova Coluna','New Column').show()"
      ],
      "metadata": {
        "application/vnd.databricks.v1+cell": {
          "title": "",
          "showTitle": false,
          "inputWidgets": {},
          "nuid": "3e0d8e22-9d75-4cc4-95c2-2c53f3c398bd"
        },
        "id": "S7Y0C7aDZ0zV",
        "outputId": "1d67d6ed-3850-4e73-8237-a54336d5b7d5",
        "colab": {
          "base_uri": "https://localhost:8080/"
        }
      },
      "outputs": [
        {
          "output_type": "stream",
          "name": "stdout",
          "text": [
            "+----+-----+--------+------+-----------+\n",
            "|date|delay|distance|origin|destination|\n",
            "+----+-----+--------+------+-----------+\n",
            "|2015|    1|       1|     4|         AS|\n",
            "|2015|    1|       1|     4|         AA|\n",
            "|2015|    1|       1|     4|         US|\n",
            "|2015|    1|       1|     4|         AA|\n",
            "|2015|    1|       1|     4|         AS|\n",
            "|2015|    1|       1|     4|         DL|\n",
            "|2015|    1|       1|     4|         NK|\n",
            "|2015|    1|       1|     4|         US|\n",
            "|2015|    1|       1|     4|         AA|\n",
            "|2015|    1|       1|     4|         DL|\n",
            "|2015|    1|       1|     4|         DL|\n",
            "|2015|    1|       1|     4|         AA|\n",
            "|2015|    1|       1|     4|         DL|\n",
            "|2015|    1|       1|     4|         DL|\n",
            "|2015|    1|       1|     4|         DL|\n",
            "|2015|    1|       1|     4|         AS|\n",
            "|2015|    1|       1|     4|         DL|\n",
            "|2015|    1|       1|     4|         UA|\n",
            "|2015|    1|       1|     4|         AS|\n",
            "|2015|    1|       1|     4|         DL|\n",
            "+----+-----+--------+------+-----------+\n",
            "only showing top 20 rows\n",
            "\n"
          ]
        }
      ],
      "execution_count": null
    },
    {
      "cell_type": "markdown",
      "source": [
        "#### Trabalhando com missing values\n",
        "- Tratamento de dados e limpeza de dados"
      ],
      "metadata": {
        "application/vnd.databricks.v1+cell": {
          "title": "",
          "showTitle": false,
          "inputWidgets": {},
          "nuid": "f95e3afd-df33-4476-a0d3-a050deb98801"
        },
        "id": "NxAaJKGXZ0zW"
      }
    },
    {
      "cell_type": "code",
      "source": [
        "# checa valoes null na coluna delay\n",
        "df.filter(\"delay is NULL\").show()"
      ],
      "metadata": {
        "application/vnd.databricks.v1+cell": {
          "title": "",
          "showTitle": false,
          "inputWidgets": {},
          "nuid": "addcef1f-8b16-47bf-b369-dddf14b87420"
        },
        "id": "aKgr0nu7Z0zW",
        "outputId": "81bf7963-b612-4e62-bfc4-2a5719ec412d",
        "colab": {
          "base_uri": "https://localhost:8080/"
        }
      },
      "outputs": [
        {
          "output_type": "stream",
          "name": "stdout",
          "text": [
            "+----+-----+--------+------+-----------+\n",
            "|date|delay|distance|origin|destination|\n",
            "+----+-----+--------+------+-----------+\n",
            "+----+-----+--------+------+-----------+\n",
            "\n"
          ]
        }
      ],
      "execution_count": null
    },
    {
      "cell_type": "code",
      "source": [
        "# conta a quantidade de linhas nulas\n",
        "print (\"Valores nulos coluna Delay: {0}\".format(df.filter(\"delay is NULL\").count()))\n",
        "print (\"Valores nulos coluna Date: {0}\".format(df.filter(\"date is NULL\").count()))\n",
        "print (\"Valores nulos coluna Distance: {0}\".format(df.filter(\"distance is NULL\").count()))\n",
        "print (\"Valores nulos coluna Origin: {0}\".format(df.filter(\"origin is NULL\").count()))\n",
        "print (\"Valores nulos coluna Destination: {0}\".format(df.filter(\"destination is NULL\").count()))"
      ],
      "metadata": {
        "application/vnd.databricks.v1+cell": {
          "title": "",
          "showTitle": false,
          "inputWidgets": {},
          "nuid": "f6c627bd-288f-4415-9e8e-9ac2c172f347"
        },
        "id": "CmPcld-fZ0zW",
        "outputId": "4f811ef8-da23-443e-e3d3-9ccbc056f60b",
        "colab": {
          "base_uri": "https://localhost:8080/"
        }
      },
      "outputs": [
        {
          "output_type": "stream",
          "name": "stdout",
          "text": [
            "Valores nulos coluna Delay: 0\n",
            "Valores nulos coluna Date: 0\n",
            "Valores nulos coluna Distance: 0\n",
            "Valores nulos coluna Origin: 0\n",
            "Valores nulos coluna Destination: 0\n"
          ]
        }
      ],
      "execution_count": null
    },
    {
      "cell_type": "code",
      "source": [
        "# preenche os dados missing com o valor 0\n",
        "# para fazer o preenchimento sobrescreva a variável df e retire o método show()\n",
        "df = df.na.fill(value=0)"
      ],
      "metadata": {
        "application/vnd.databricks.v1+cell": {
          "title": "",
          "showTitle": false,
          "inputWidgets": {},
          "nuid": "0e5d3469-d94d-4946-8b4d-318a19ef2bb4"
        },
        "id": "p6I4qzwiZ0zW"
      },
      "outputs": [],
      "execution_count": null
    },
    {
      "cell_type": "code",
      "source": [
        "# checa valoes null na coluna delay\n",
        "df.filter(\"delay is NULL\").show()"
      ],
      "metadata": {
        "application/vnd.databricks.v1+cell": {
          "title": "",
          "showTitle": false,
          "inputWidgets": {},
          "nuid": "5ae86630-f1e4-46d7-bf8f-2f49fc1835e4"
        },
        "id": "ZDqROucTZ0zW",
        "outputId": "453e5818-1df9-43eb-ec1d-b414a409e9f5",
        "colab": {
          "base_uri": "https://localhost:8080/"
        }
      },
      "outputs": [
        {
          "output_type": "stream",
          "name": "stdout",
          "text": [
            "+----+-----+--------+------+-----------+\n",
            "|date|delay|distance|origin|destination|\n",
            "+----+-----+--------+------+-----------+\n",
            "+----+-----+--------+------+-----------+\n",
            "\n"
          ]
        }
      ],
      "execution_count": null
    },
    {
      "cell_type": "code",
      "source": [
        "# preenche valores missing com valor 0 apenas da coluna delay\n",
        "df.na.fill(value=0, subset=['delay']).show()"
      ],
      "metadata": {
        "application/vnd.databricks.v1+cell": {
          "title": "",
          "showTitle": false,
          "inputWidgets": {},
          "nuid": "1c6e4ad2-f374-4d5b-b559-41f73cabadf9"
        },
        "id": "6esqRriLZ0zW",
        "outputId": "f18dfd43-a1b7-4c2b-95f2-2446561c6a92",
        "colab": {
          "base_uri": "https://localhost:8080/"
        }
      },
      "outputs": [
        {
          "output_type": "stream",
          "name": "stdout",
          "text": [
            "+----+-----+--------+------+-----------+\n",
            "|date|delay|distance|origin|destination|\n",
            "+----+-----+--------+------+-----------+\n",
            "|2015|    1|       1|     4|         AS|\n",
            "|2015|    1|       1|     4|         AA|\n",
            "|2015|    1|       1|     4|         US|\n",
            "|2015|    1|       1|     4|         AA|\n",
            "|2015|    1|       1|     4|         AS|\n",
            "|2015|    1|       1|     4|         DL|\n",
            "|2015|    1|       1|     4|         NK|\n",
            "|2015|    1|       1|     4|         US|\n",
            "|2015|    1|       1|     4|         AA|\n",
            "|2015|    1|       1|     4|         DL|\n",
            "|2015|    1|       1|     4|         DL|\n",
            "|2015|    1|       1|     4|         AA|\n",
            "|2015|    1|       1|     4|         DL|\n",
            "|2015|    1|       1|     4|         DL|\n",
            "|2015|    1|       1|     4|         DL|\n",
            "|2015|    1|       1|     4|         AS|\n",
            "|2015|    1|       1|     4|         DL|\n",
            "|2015|    1|       1|     4|         UA|\n",
            "|2015|    1|       1|     4|         AS|\n",
            "|2015|    1|       1|     4|         DL|\n",
            "+----+-----+--------+------+-----------+\n",
            "only showing top 20 rows\n",
            "\n"
          ]
        }
      ],
      "execution_count": null
    },
    {
      "cell_type": "code",
      "source": [
        "# imprime o dataframe\n",
        "df.show()"
      ],
      "metadata": {
        "application/vnd.databricks.v1+cell": {
          "title": "",
          "showTitle": false,
          "inputWidgets": {},
          "nuid": "af0ca1c5-a78e-4df0-8b37-7956cde71e4e"
        },
        "id": "-jqrj_cvZ0zW",
        "outputId": "0e67a337-d635-4937-e3d0-2c8587002a21",
        "colab": {
          "base_uri": "https://localhost:8080/"
        }
      },
      "outputs": [
        {
          "output_type": "stream",
          "name": "stdout",
          "text": [
            "+----+-----+--------+------+-----------+\n",
            "|date|delay|distance|origin|destination|\n",
            "+----+-----+--------+------+-----------+\n",
            "|2015|    1|       1|     4|         AS|\n",
            "|2015|    1|       1|     4|         AA|\n",
            "|2015|    1|       1|     4|         US|\n",
            "|2015|    1|       1|     4|         AA|\n",
            "|2015|    1|       1|     4|         AS|\n",
            "|2015|    1|       1|     4|         DL|\n",
            "|2015|    1|       1|     4|         NK|\n",
            "|2015|    1|       1|     4|         US|\n",
            "|2015|    1|       1|     4|         AA|\n",
            "|2015|    1|       1|     4|         DL|\n",
            "|2015|    1|       1|     4|         DL|\n",
            "|2015|    1|       1|     4|         AA|\n",
            "|2015|    1|       1|     4|         DL|\n",
            "|2015|    1|       1|     4|         DL|\n",
            "|2015|    1|       1|     4|         DL|\n",
            "|2015|    1|       1|     4|         AS|\n",
            "|2015|    1|       1|     4|         DL|\n",
            "|2015|    1|       1|     4|         UA|\n",
            "|2015|    1|       1|     4|         AS|\n",
            "|2015|    1|       1|     4|         DL|\n",
            "+----+-----+--------+------+-----------+\n",
            "only showing top 20 rows\n",
            "\n"
          ]
        }
      ],
      "execution_count": null
    },
    {
      "cell_type": "code",
      "source": [
        "# preenche os dados com valores de string vazia\n",
        "df.na.fill(\"\").show()"
      ],
      "metadata": {
        "application/vnd.databricks.v1+cell": {
          "title": "",
          "showTitle": false,
          "inputWidgets": {},
          "nuid": "6f126f0d-711f-40c8-b1d6-278d79424ed2"
        },
        "id": "HtV1mNhaZ0zW",
        "outputId": "3719bf26-efb0-4317-e5f1-66af00105499",
        "colab": {
          "base_uri": "https://localhost:8080/"
        }
      },
      "outputs": [
        {
          "output_type": "stream",
          "name": "stdout",
          "text": [
            "+----+-----+--------+------+-----------+\n",
            "|date|delay|distance|origin|destination|\n",
            "+----+-----+--------+------+-----------+\n",
            "|2015|    1|       1|     4|         AS|\n",
            "|2015|    1|       1|     4|         AA|\n",
            "|2015|    1|       1|     4|         US|\n",
            "|2015|    1|       1|     4|         AA|\n",
            "|2015|    1|       1|     4|         AS|\n",
            "|2015|    1|       1|     4|         DL|\n",
            "|2015|    1|       1|     4|         NK|\n",
            "|2015|    1|       1|     4|         US|\n",
            "|2015|    1|       1|     4|         AA|\n",
            "|2015|    1|       1|     4|         DL|\n",
            "|2015|    1|       1|     4|         DL|\n",
            "|2015|    1|       1|     4|         AA|\n",
            "|2015|    1|       1|     4|         DL|\n",
            "|2015|    1|       1|     4|         DL|\n",
            "|2015|    1|       1|     4|         DL|\n",
            "|2015|    1|       1|     4|         AS|\n",
            "|2015|    1|       1|     4|         DL|\n",
            "|2015|    1|       1|     4|         UA|\n",
            "|2015|    1|       1|     4|         AS|\n",
            "|2015|    1|       1|     4|         DL|\n",
            "+----+-----+--------+------+-----------+\n",
            "only showing top 20 rows\n",
            "\n"
          ]
        }
      ],
      "execution_count": null
    },
    {
      "cell_type": "code",
      "source": [
        "# remove qualquer linha nula de qualquer coluna\n",
        "df = df.na.drop()"
      ],
      "metadata": {
        "application/vnd.databricks.v1+cell": {
          "title": "",
          "showTitle": false,
          "inputWidgets": {},
          "nuid": "b977a2b0-42c8-41b8-9aec-e51a2b9115ea"
        },
        "id": "kE__XHfQZ0zW"
      },
      "outputs": [],
      "execution_count": null
    },
    {
      "cell_type": "code",
      "source": [
        "# obtem o valor máximo da coluna delay\n",
        "from pyspark.sql.functions import max\n",
        "df.select(max(\"delay\")).take(1)"
      ],
      "metadata": {
        "application/vnd.databricks.v1+cell": {
          "title": "",
          "showTitle": false,
          "inputWidgets": {},
          "nuid": "021e765a-10e7-4192-8db4-3fb06fe8a008"
        },
        "id": "4w4sVGbNZ0zW",
        "outputId": "49e92c83-3cea-402c-a29b-afc60e2bda54",
        "colab": {
          "base_uri": "https://localhost:8080/"
        }
      },
      "outputs": [
        {
          "output_type": "execute_result",
          "data": {
            "text/plain": [
              "[Row(max(delay)=1)]"
            ]
          },
          "metadata": {},
          "execution_count": 68
        }
      ],
      "execution_count": null
    },
    {
      "cell_type": "code",
      "source": [
        "# Filtrando linhas de um dataframe usando filter\n",
        "df.filter(\"delay < 2\").show(2)"
      ],
      "metadata": {
        "application/vnd.databricks.v1+cell": {
          "title": "",
          "showTitle": false,
          "inputWidgets": {},
          "nuid": "6b60131c-537e-4b46-b973-803cbf4ef77a"
        },
        "id": "YQUxfFVzZ0zW",
        "outputId": "31295ca6-a8a4-418a-e053-77ae6754655d",
        "colab": {
          "base_uri": "https://localhost:8080/"
        }
      },
      "outputs": [
        {
          "output_type": "stream",
          "name": "stdout",
          "text": [
            "+----+-----+--------+------+-----------+\n",
            "|date|delay|distance|origin|destination|\n",
            "+----+-----+--------+------+-----------+\n",
            "|2015|    1|       1|     4|         AS|\n",
            "|2015|    1|       1|     4|         AA|\n",
            "+----+-----+--------+------+-----------+\n",
            "only showing top 2 rows\n",
            "\n"
          ]
        }
      ],
      "execution_count": null
    },
    {
      "cell_type": "markdown",
      "source": [
        "#### Manipulando Strings"
      ],
      "metadata": {
        "application/vnd.databricks.v1+cell": {
          "title": "",
          "showTitle": false,
          "inputWidgets": {},
          "nuid": "85c4a133-ab74-497e-b4fa-7df91eae8f25"
        },
        "id": "fMpAO1pVZ0zW"
      }
    },
    {
      "cell_type": "code",
      "source": [
        "# lendo os arquivos de dados de voos (2010_summary.csv...2015_summary.csv)\n",
        "df = spark\\\n",
        ".read\\\n",
        ".option(\"inferSchema\", \"True\")\\\n",
        ".option(\"header\", \"True\")\\\n",
        ".csv(\"sample_data/tables/bigdata/*.csv\")"
      ],
      "metadata": {
        "application/vnd.databricks.v1+cell": {
          "title": "",
          "showTitle": false,
          "inputWidgets": {},
          "nuid": "6dee0a52-5a95-45e3-a1b3-6335ad2aa032"
        },
        "id": "uSfWoFDIZ0zX"
      },
      "outputs": [],
      "execution_count": null
    },
    {
      "cell_type": "code",
      "source": [
        "# imprime 10 linhas do dataframe\n",
        "df.show(10)"
      ],
      "metadata": {
        "application/vnd.databricks.v1+cell": {
          "title": "",
          "showTitle": false,
          "inputWidgets": {},
          "nuid": "28f9b55a-e679-4144-ae49-6bb2aef4b08a"
        },
        "id": "2R8P4x34Z0zX",
        "outputId": "c20ceed9-591f-4f55-f8ed-afe327ef8aed",
        "colab": {
          "base_uri": "https://localhost:8080/"
        }
      },
      "outputs": [
        {
          "output_type": "stream",
          "name": "stdout",
          "text": [
            "+--------+--------+--------+-----+------+--------+--------+\n",
            "|practice|bnf_code|bnf_name|items|   nic|act_cost|quantity|\n",
            "+--------+--------+--------+-----+------+--------+--------+\n",
            "|    1596|   13320|   22721|    1|  3.64|    3.38|     112|\n",
            "|    1596|   20494|     263|    1|  1.25|    1.27|      42|\n",
            "|    1596|   19136|   17446|    1|  0.56|    0.63|      14|\n",
            "|    1596|   17512|   16983|    3|  1.95|    2.04|      49|\n",
            "|    1596|    2653|   12675|    2|  2.28|    2.34|      84|\n",
            "|    1596|   12551|    1282|    1|  0.71|    0.77|      42|\n",
            "|    1596|   27926|   17643|    1| 39.67|   36.84|      14|\n",
            "|    1596|   12518|   12939|    1|211.12|  195.56|      56|\n",
            "|    1596|    1674|   23525|    2|  3.52|    3.28|      56|\n",
            "|    1596|    8979|   18703|    1| 13.06|    12.1|     150|\n",
            "+--------+--------+--------+-----+------+--------+--------+\n",
            "only showing top 10 rows\n",
            "\n"
          ]
        }
      ],
      "execution_count": null
    },
    {
      "cell_type": "code",
      "source": [
        "# imprime a quantidade de registros do dataframe\n",
        "df.count()"
      ],
      "metadata": {
        "application/vnd.databricks.v1+cell": {
          "title": "",
          "showTitle": false,
          "inputWidgets": {},
          "nuid": "45c8b1e1-b079-4514-a454-d505f6474ebf"
        },
        "id": "ehhW46XsZ0zX",
        "outputId": "cc7a5ee0-e702-4a31-e6f1-248f8425c554",
        "colab": {
          "base_uri": "https://localhost:8080/"
        }
      },
      "outputs": [
        {
          "output_type": "execute_result",
          "data": {
            "text/plain": [
              "1496"
            ]
          },
          "metadata": {},
          "execution_count": 74
        }
      ],
      "execution_count": null
    },
    {
      "cell_type": "code",
      "source": [
        "from pyspark.sql.functions import lower, upper, col\n",
        "df.select(col(\"DEST_COUNTRY_NAME\"),lower(col(\"DEST_COUNTRY_NAME\")),upper(lower(col(\"DEST_COUNTRY_NAME\")))).show(10)"
      ],
      "metadata": {
        "application/vnd.databricks.v1+cell": {
          "title": "",
          "showTitle": false,
          "inputWidgets": {},
          "nuid": "93c724e2-084e-4a33-8493-737d8c0a39e6"
        },
        "id": "yKZi3OtWZ0zX",
        "outputId": "cc1121ef-4b72-4ff5-8f46-5824d779e2f6",
        "colab": {
          "base_uri": "https://localhost:8080/",
          "height": 391
        }
      },
      "outputs": [
        {
          "output_type": "error",
          "ename": "AnalysisException",
          "evalue": "[UNRESOLVED_COLUMN.WITH_SUGGESTION] A column or function parameter with name `DEST_COUNTRY_NAME` cannot be resolved. Did you mean one of the following? [`\"count\":15}`, `\"DEST_COUNTRY_NAME\":\"United States\"`, `{\"ORIGIN_COUNTRY_NAME\":\"Romania\"`].;\n'Project ['DEST_COUNTRY_NAME, unresolvedalias(lower('DEST_COUNTRY_NAME), Some(org.apache.spark.sql.Column$$Lambda$3070/0x0000000841312040@729e0181)), unresolvedalias(upper(lower('DEST_COUNTRY_NAME)), Some(org.apache.spark.sql.Column$$Lambda$3070/0x0000000841312040@729e0181))]\n+- Relation [{\"ORIGIN_COUNTRY_NAME\":\"Romania\"#1178,\"DEST_COUNTRY_NAME\":\"United States\"#1179,\"count\":15}#1180] csv\n",
          "traceback": [
            "\u001b[0;31m---------------------------------------------------------------------------\u001b[0m",
            "\u001b[0;31mAnalysisException\u001b[0m                         Traceback (most recent call last)",
            "\u001b[0;32m<ipython-input-75-8c176fa477b6>\u001b[0m in \u001b[0;36m<cell line: 0>\u001b[0;34m()\u001b[0m\n\u001b[1;32m      1\u001b[0m \u001b[0;32mfrom\u001b[0m \u001b[0mpyspark\u001b[0m\u001b[0;34m.\u001b[0m\u001b[0msql\u001b[0m\u001b[0;34m.\u001b[0m\u001b[0mfunctions\u001b[0m \u001b[0;32mimport\u001b[0m \u001b[0mlower\u001b[0m\u001b[0;34m,\u001b[0m \u001b[0mupper\u001b[0m\u001b[0;34m,\u001b[0m \u001b[0mcol\u001b[0m\u001b[0;34m\u001b[0m\u001b[0;34m\u001b[0m\u001b[0m\n\u001b[0;32m----> 2\u001b[0;31m \u001b[0mdf\u001b[0m\u001b[0;34m.\u001b[0m\u001b[0mselect\u001b[0m\u001b[0;34m(\u001b[0m\u001b[0mcol\u001b[0m\u001b[0;34m(\u001b[0m\u001b[0;34m\"DEST_COUNTRY_NAME\"\u001b[0m\u001b[0;34m)\u001b[0m\u001b[0;34m,\u001b[0m\u001b[0mlower\u001b[0m\u001b[0;34m(\u001b[0m\u001b[0mcol\u001b[0m\u001b[0;34m(\u001b[0m\u001b[0;34m\"DEST_COUNTRY_NAME\"\u001b[0m\u001b[0;34m)\u001b[0m\u001b[0;34m)\u001b[0m\u001b[0;34m,\u001b[0m\u001b[0mupper\u001b[0m\u001b[0;34m(\u001b[0m\u001b[0mlower\u001b[0m\u001b[0;34m(\u001b[0m\u001b[0mcol\u001b[0m\u001b[0;34m(\u001b[0m\u001b[0;34m\"DEST_COUNTRY_NAME\"\u001b[0m\u001b[0;34m)\u001b[0m\u001b[0;34m)\u001b[0m\u001b[0;34m)\u001b[0m\u001b[0;34m)\u001b[0m\u001b[0;34m.\u001b[0m\u001b[0mshow\u001b[0m\u001b[0;34m(\u001b[0m\u001b[0;36m10\u001b[0m\u001b[0;34m)\u001b[0m\u001b[0;34m\u001b[0m\u001b[0;34m\u001b[0m\u001b[0m\n\u001b[0m",
            "\u001b[0;32m/usr/local/lib/python3.11/dist-packages/pyspark/sql/dataframe.py\u001b[0m in \u001b[0;36mselect\u001b[0;34m(self, *cols)\u001b[0m\n\u001b[1;32m   3227\u001b[0m         \u001b[0;34m+\u001b[0m\u001b[0;34m-\u001b[0m\u001b[0;34m-\u001b[0m\u001b[0;34m-\u001b[0m\u001b[0;34m-\u001b[0m\u001b[0;34m-\u001b[0m\u001b[0;34m+\u001b[0m\u001b[0;34m-\u001b[0m\u001b[0;34m-\u001b[0m\u001b[0;34m-\u001b[0m\u001b[0;34m+\u001b[0m\u001b[0;34m\u001b[0m\u001b[0;34m\u001b[0m\u001b[0m\n\u001b[1;32m   3228\u001b[0m         \"\"\"\n\u001b[0;32m-> 3229\u001b[0;31m         \u001b[0mjdf\u001b[0m \u001b[0;34m=\u001b[0m \u001b[0mself\u001b[0m\u001b[0;34m.\u001b[0m\u001b[0m_jdf\u001b[0m\u001b[0;34m.\u001b[0m\u001b[0mselect\u001b[0m\u001b[0;34m(\u001b[0m\u001b[0mself\u001b[0m\u001b[0;34m.\u001b[0m\u001b[0m_jcols\u001b[0m\u001b[0;34m(\u001b[0m\u001b[0;34m*\u001b[0m\u001b[0mcols\u001b[0m\u001b[0;34m)\u001b[0m\u001b[0;34m)\u001b[0m\u001b[0;34m\u001b[0m\u001b[0;34m\u001b[0m\u001b[0m\n\u001b[0m\u001b[1;32m   3230\u001b[0m         \u001b[0;32mreturn\u001b[0m \u001b[0mDataFrame\u001b[0m\u001b[0;34m(\u001b[0m\u001b[0mjdf\u001b[0m\u001b[0;34m,\u001b[0m \u001b[0mself\u001b[0m\u001b[0;34m.\u001b[0m\u001b[0msparkSession\u001b[0m\u001b[0;34m)\u001b[0m\u001b[0;34m\u001b[0m\u001b[0;34m\u001b[0m\u001b[0m\n\u001b[1;32m   3231\u001b[0m \u001b[0;34m\u001b[0m\u001b[0m\n",
            "\u001b[0;32m/usr/local/lib/python3.11/dist-packages/py4j/java_gateway.py\u001b[0m in \u001b[0;36m__call__\u001b[0;34m(self, *args)\u001b[0m\n\u001b[1;32m   1320\u001b[0m \u001b[0;34m\u001b[0m\u001b[0m\n\u001b[1;32m   1321\u001b[0m         \u001b[0manswer\u001b[0m \u001b[0;34m=\u001b[0m \u001b[0mself\u001b[0m\u001b[0;34m.\u001b[0m\u001b[0mgateway_client\u001b[0m\u001b[0;34m.\u001b[0m\u001b[0msend_command\u001b[0m\u001b[0;34m(\u001b[0m\u001b[0mcommand\u001b[0m\u001b[0;34m)\u001b[0m\u001b[0;34m\u001b[0m\u001b[0;34m\u001b[0m\u001b[0m\n\u001b[0;32m-> 1322\u001b[0;31m         return_value = get_return_value(\n\u001b[0m\u001b[1;32m   1323\u001b[0m             answer, self.gateway_client, self.target_id, self.name)\n\u001b[1;32m   1324\u001b[0m \u001b[0;34m\u001b[0m\u001b[0m\n",
            "\u001b[0;32m/usr/local/lib/python3.11/dist-packages/pyspark/errors/exceptions/captured.py\u001b[0m in \u001b[0;36mdeco\u001b[0;34m(*a, **kw)\u001b[0m\n\u001b[1;32m    183\u001b[0m                 \u001b[0;31m# Hide where the exception came from that shows a non-Pythonic\u001b[0m\u001b[0;34m\u001b[0m\u001b[0;34m\u001b[0m\u001b[0m\n\u001b[1;32m    184\u001b[0m                 \u001b[0;31m# JVM exception message.\u001b[0m\u001b[0;34m\u001b[0m\u001b[0;34m\u001b[0m\u001b[0m\n\u001b[0;32m--> 185\u001b[0;31m                 \u001b[0;32mraise\u001b[0m \u001b[0mconverted\u001b[0m \u001b[0;32mfrom\u001b[0m \u001b[0;32mNone\u001b[0m\u001b[0;34m\u001b[0m\u001b[0;34m\u001b[0m\u001b[0m\n\u001b[0m\u001b[1;32m    186\u001b[0m             \u001b[0;32melse\u001b[0m\u001b[0;34m:\u001b[0m\u001b[0;34m\u001b[0m\u001b[0;34m\u001b[0m\u001b[0m\n\u001b[1;32m    187\u001b[0m                 \u001b[0;32mraise\u001b[0m\u001b[0;34m\u001b[0m\u001b[0;34m\u001b[0m\u001b[0m\n",
            "\u001b[0;31mAnalysisException\u001b[0m: [UNRESOLVED_COLUMN.WITH_SUGGESTION] A column or function parameter with name `DEST_COUNTRY_NAME` cannot be resolved. Did you mean one of the following? [`\"count\":15}`, `\"DEST_COUNTRY_NAME\":\"United States\"`, `{\"ORIGIN_COUNTRY_NAME\":\"Romania\"`].;\n'Project ['DEST_COUNTRY_NAME, unresolvedalias(lower('DEST_COUNTRY_NAME), Some(org.apache.spark.sql.Column$$Lambda$3070/0x0000000841312040@729e0181)), unresolvedalias(upper(lower('DEST_COUNTRY_NAME)), Some(org.apache.spark.sql.Column$$Lambda$3070/0x0000000841312040@729e0181))]\n+- Relation [{\"ORIGIN_COUNTRY_NAME\":\"Romania\"#1178,\"DEST_COUNTRY_NAME\":\"United States\"#1179,\"count\":15}#1180] csv\n"
          ]
        }
      ],
      "execution_count": null
    },
    {
      "cell_type": "code",
      "source": [
        "# remove espaços em branco a esquerda\n",
        "from pyspark.sql.functions import ltrim\n",
        "df.select(ltrim(col(\"DEST_COUNTRY_NAME\"))).show(2)"
      ],
      "metadata": {
        "application/vnd.databricks.v1+cell": {
          "title": "",
          "showTitle": false,
          "inputWidgets": {},
          "nuid": "8d5815c1-3926-4f3c-8600-a0052578ffad"
        },
        "id": "wb6gyATkZ0zX",
        "outputId": "7573d791-9ca4-4522-f420-07c9cf0ccb10"
      },
      "outputs": [
        {
          "output_type": "display_data",
          "metadata": {
            "application/vnd.databricks.v1+output": {
              "data": "",
              "errorSummary": "",
              "metadata": {},
              "errorTraceType": null,
              "type": "ipynbError",
              "arguments": {}
            }
          },
          "data": {
            "text/html": [
              "<style scoped>\n  .ansiout {\n    display: block;\n    unicode-bidi: embed;\n    white-space: pre-wrap;\n    word-wrap: break-word;\n    word-break: break-all;\n    font-family: \"Source Code Pro\", \"Menlo\", monospace;;\n    font-size: 13px;\n    color: #555;\n    margin-left: 4px;\n    line-height: 19px;\n  }\n</style>"
            ]
          },
          "transient": null
        }
      ],
      "execution_count": null
    },
    {
      "cell_type": "code",
      "source": [
        "# remove espaços a direita\n",
        "from pyspark.sql.functions import rtrim\n",
        "df.select(rtrim(col(\"DEST_COUNTRY_NAME\"))).show(2)"
      ],
      "metadata": {
        "application/vnd.databricks.v1+cell": {
          "title": "",
          "showTitle": false,
          "inputWidgets": {},
          "nuid": "d53dc114-7719-4f86-baa0-00d374fad0f4"
        },
        "id": "uSkpNs1HZ0zX",
        "outputId": "c0a5d522-14db-48bb-d16c-bc0941a15aa6"
      },
      "outputs": [
        {
          "output_type": "display_data",
          "metadata": {
            "application/vnd.databricks.v1+output": {
              "data": "",
              "errorSummary": "",
              "metadata": {},
              "errorTraceType": null,
              "type": "ipynbError",
              "arguments": {}
            }
          },
          "data": {
            "text/html": [
              "<style scoped>\n  .ansiout {\n    display: block;\n    unicode-bidi: embed;\n    white-space: pre-wrap;\n    word-wrap: break-word;\n    word-break: break-all;\n    font-family: \"Source Code Pro\", \"Menlo\", monospace;;\n    font-size: 13px;\n    color: #555;\n    margin-left: 4px;\n    line-height: 19px;\n  }\n</style>"
            ]
          },
          "transient": null
        }
      ],
      "execution_count": null
    },
    {
      "cell_type": "code",
      "source": [
        "# todas as operações juntas..\n",
        "# a função lit cria uma coluna na cópia do dataframe\n",
        "from pyspark.sql.functions import lit, ltrim, rtrim, rpad, lpad, trim\n",
        "df.select(\n",
        "ltrim(lit(\" HELLO \")).alias(\"ltrim\"),\n",
        "rtrim(lit(\" HELLO \")).alias(\"rtrim\"),\n",
        "trim(lit(\" HELLO \")).alias(\"trim\"),\n",
        "lpad(lit(\"HELLO\"), 3, \" \").alias(\"lp\"),\n",
        "rpad(lit(\"HELLO\"), 10, \" \").alias(\"rp\")).show(2)"
      ],
      "metadata": {
        "application/vnd.databricks.v1+cell": {
          "title": "",
          "showTitle": false,
          "inputWidgets": {},
          "nuid": "b51dcc2b-e39a-477c-ba5b-2d3cf8f4771d"
        },
        "id": "2NTqjesnZ0zX",
        "outputId": "64279bb7-3ec2-437f-aaab-0348c58420cb",
        "colab": {
          "base_uri": "https://localhost:8080/"
        }
      },
      "outputs": [
        {
          "output_type": "stream",
          "name": "stdout",
          "text": [
            "+------+------+-----+---+----------+\n",
            "| ltrim| rtrim| trim| lp|        rp|\n",
            "+------+------+-----+---+----------+\n",
            "|HELLO | HELLO|HELLO|HEL|HELLO     |\n",
            "|HELLO | HELLO|HELLO|HEL|HELLO     |\n",
            "+------+------+-----+---+----------+\n",
            "only showing top 2 rows\n",
            "\n"
          ]
        }
      ],
      "execution_count": null
    },
    {
      "cell_type": "markdown",
      "source": [
        "Estatística descritiva básica:\n",
        "- **mean()** - Retorna o valor médio de cada grupo.\n",
        "- **max()** - Retorna o valor máximo de cada grupo.\n",
        "- **min()** - Retorna o valor mínimo de cada grupo.\n",
        "- **sum()** - Retorna a soma de todos os valores do grupo.\n",
        "- **avg()** - Retorna o valor médio de cada grupo."
      ],
      "metadata": {
        "application/vnd.databricks.v1+cell": {
          "title": "",
          "showTitle": false,
          "inputWidgets": {},
          "nuid": "be905b14-2e85-4974-8abc-6d668d8d2f49"
        },
        "id": "ek6y09AoZ0zX"
      }
    },
    {
      "cell_type": "code",
      "source": [
        "# ler o dataset retail-data\n",
        "df = spark.read.format(\"csv\")\\\n",
        ".option(\"header\", \"true\")\\\n",
        ".option(\"inferSchema\", \"true\")\\\n",
        ".load(\"sample_data/tables/retail/retail_2010_12_01.csv\")"
      ],
      "metadata": {
        "application/vnd.databricks.v1+cell": {
          "title": "",
          "showTitle": false,
          "inputWidgets": {},
          "nuid": "f1723d67-9395-45dd-a061-9c87c505c9f7"
        },
        "id": "m2BDcYGLZ0zX"
      },
      "outputs": [],
      "execution_count": null
    },
    {
      "cell_type": "code",
      "source": [
        "# imprime as 10 primeiras linhas do dataframe\n",
        "df.show(10)"
      ],
      "metadata": {
        "application/vnd.databricks.v1+cell": {
          "title": "",
          "showTitle": false,
          "inputWidgets": {},
          "nuid": "8d08dd90-e24c-4981-87e5-06b288df6088"
        },
        "id": "AmruKnuqZ0zX",
        "outputId": "21c963c7-abbe-431d-dd78-2c8caa4dafbf",
        "colab": {
          "base_uri": "https://localhost:8080/"
        }
      },
      "outputs": [
        {
          "output_type": "stream",
          "name": "stdout",
          "text": [
            "+---------+---------+--------------------+--------+-------------------+---------+----------+--------------+\n",
            "|InvoiceNo|StockCode|         Description|Quantity|        InvoiceDate|UnitPrice|CustomerID|       Country|\n",
            "+---------+---------+--------------------+--------+-------------------+---------+----------+--------------+\n",
            "|   536365|   85123A|WHITE HANGING HEA...|       6|2010-12-01 08:26:00|     2.55|   17850.0|United Kingdom|\n",
            "|   536365|    71053| WHITE METAL LANTERN|       6|2010-12-01 08:26:00|     3.39|   17850.0|United Kingdom|\n",
            "|   536365|   84406B|CREAM CUPID HEART...|       8|2010-12-01 08:26:00|     2.75|   17850.0|United Kingdom|\n",
            "|   536365|   84029G|KNITTED UNION FLA...|       6|2010-12-01 08:26:00|     3.39|   17850.0|United Kingdom|\n",
            "|   536365|   84029E|RED WOOLLY HOTTIE...|       6|2010-12-01 08:26:00|     3.39|   17850.0|United Kingdom|\n",
            "|   536365|    22752|SET 7 BABUSHKA NE...|       2|2010-12-01 08:26:00|     7.65|   17850.0|United Kingdom|\n",
            "|   536365|    21730|GLASS STAR FROSTE...|       6|2010-12-01 08:26:00|     4.25|   17850.0|United Kingdom|\n",
            "|   536366|    22633|HAND WARMER UNION...|       6|2010-12-01 08:28:00|     1.85|   17850.0|United Kingdom|\n",
            "|   536366|    22632|HAND WARMER RED P...|       6|2010-12-01 08:28:00|     1.85|   17850.0|United Kingdom|\n",
            "|   536367|    84879|ASSORTED COLOUR B...|      32|2010-12-01 08:34:00|     1.69|   13047.0|United Kingdom|\n",
            "+---------+---------+--------------------+--------+-------------------+---------+----------+--------------+\n",
            "only showing top 10 rows\n",
            "\n"
          ]
        }
      ],
      "execution_count": null
    },
    {
      "cell_type": "code",
      "source": [
        "# Soma preços unitários por país\n",
        "df.groupBy(\"Country\").sum(\"UnitPrice\").show()"
      ],
      "metadata": {
        "application/vnd.databricks.v1+cell": {
          "title": "",
          "showTitle": false,
          "inputWidgets": {},
          "nuid": "0f6efab6-9b32-44cb-a725-205df518008c"
        },
        "id": "qELaHYjBZ0zY",
        "outputId": "28e42aad-9ae8-4985-c695-4d925dbb6960",
        "colab": {
          "base_uri": "https://localhost:8080/"
        }
      },
      "outputs": [
        {
          "output_type": "stream",
          "name": "stdout",
          "text": [
            "+--------------+------------------+\n",
            "|       Country|    sum(UnitPrice)|\n",
            "+--------------+------------------+\n",
            "|       Germany| 93.82000000000002|\n",
            "|        France|             55.29|\n",
            "|          EIRE|133.64000000000001|\n",
            "|        Norway|            102.67|\n",
            "|     Australia|              73.9|\n",
            "|United Kingdom|12428.080000000024|\n",
            "|   Netherlands|             16.85|\n",
            "+--------------+------------------+\n",
            "\n"
          ]
        }
      ],
      "execution_count": null
    },
    {
      "cell_type": "code",
      "source": [
        "# Conta a quantidade de países distintos.\n",
        "df.groupBy(\"Country\").count().show()"
      ],
      "metadata": {
        "application/vnd.databricks.v1+cell": {
          "title": "",
          "showTitle": false,
          "inputWidgets": {},
          "nuid": "7167b9b9-f4ab-43e6-a2df-ea7750b61d8b"
        },
        "id": "VCFCA5xlZ0zY",
        "outputId": "280ce742-96e2-4800-f1d5-001976870eda",
        "colab": {
          "base_uri": "https://localhost:8080/"
        }
      },
      "outputs": [
        {
          "output_type": "stream",
          "name": "stdout",
          "text": [
            "+--------------+-----+\n",
            "|       Country|count|\n",
            "+--------------+-----+\n",
            "|       Germany|   29|\n",
            "|        France|   20|\n",
            "|          EIRE|   21|\n",
            "|        Norway|   73|\n",
            "|     Australia|   14|\n",
            "|United Kingdom| 2949|\n",
            "|   Netherlands|    2|\n",
            "+--------------+-----+\n",
            "\n"
          ]
        }
      ],
      "execution_count": null
    },
    {
      "cell_type": "code",
      "source": [
        "# retorna o valor mínimo por grupo\n",
        "df.groupBy(\"Country\").min(\"UnitPrice\").show()"
      ],
      "metadata": {
        "application/vnd.databricks.v1+cell": {
          "title": "",
          "showTitle": false,
          "inputWidgets": {},
          "nuid": "239769ea-806a-40d4-bf4f-fcbb4ed15b52"
        },
        "id": "YPA_Wb7YZ0zY",
        "outputId": "5c561b23-ee45-40d2-b6d6-1447b3ad05f9",
        "colab": {
          "base_uri": "https://localhost:8080/"
        }
      },
      "outputs": [
        {
          "output_type": "stream",
          "name": "stdout",
          "text": [
            "+--------------+--------------+\n",
            "|       Country|min(UnitPrice)|\n",
            "+--------------+--------------+\n",
            "|       Germany|          0.42|\n",
            "|        France|          0.42|\n",
            "|          EIRE|          0.65|\n",
            "|        Norway|          0.29|\n",
            "|     Australia|          0.85|\n",
            "|United Kingdom|           0.0|\n",
            "|   Netherlands|          1.85|\n",
            "+--------------+--------------+\n",
            "\n"
          ]
        }
      ],
      "execution_count": null
    },
    {
      "cell_type": "code",
      "source": [
        "# retorna o valor máximo por grupo\n",
        "df.groupBy(\"Country\").max(\"UnitPrice\").show()"
      ],
      "metadata": {
        "application/vnd.databricks.v1+cell": {
          "title": "",
          "showTitle": false,
          "inputWidgets": {},
          "nuid": "47954670-d719-4886-bfd7-fe2afcb838bd"
        },
        "id": "fYFIBgGLZ0zY",
        "outputId": "ff3d23c4-abb9-42a5-c933-11d03ce5a6a8",
        "colab": {
          "base_uri": "https://localhost:8080/"
        }
      },
      "outputs": [
        {
          "output_type": "stream",
          "name": "stdout",
          "text": [
            "+--------------+--------------+\n",
            "|       Country|max(UnitPrice)|\n",
            "+--------------+--------------+\n",
            "|       Germany|          18.0|\n",
            "|        France|          18.0|\n",
            "|          EIRE|          50.0|\n",
            "|        Norway|          7.95|\n",
            "|     Australia|           8.5|\n",
            "|United Kingdom|        607.49|\n",
            "|   Netherlands|          15.0|\n",
            "+--------------+--------------+\n",
            "\n"
          ]
        }
      ],
      "execution_count": null
    },
    {
      "cell_type": "code",
      "source": [
        "# retorna o valor médio por grupo\n",
        "df.groupBy(\"Country\").avg(\"UnitPrice\").show()"
      ],
      "metadata": {
        "application/vnd.databricks.v1+cell": {
          "title": "",
          "showTitle": false,
          "inputWidgets": {},
          "nuid": "b90a6b03-dbcd-4053-a56c-af33fe602439"
        },
        "id": "z_KF89nRZ0zY",
        "outputId": "c1657761-3e26-451b-c81e-aed8302c4f9a",
        "colab": {
          "base_uri": "https://localhost:8080/"
        }
      },
      "outputs": [
        {
          "output_type": "stream",
          "name": "stdout",
          "text": [
            "+--------------+------------------+\n",
            "|       Country|    avg(UnitPrice)|\n",
            "+--------------+------------------+\n",
            "|       Germany| 3.235172413793104|\n",
            "|        France|            2.7645|\n",
            "|          EIRE|6.3638095238095245|\n",
            "|        Norway|1.4064383561643836|\n",
            "|     Australia| 5.278571428571429|\n",
            "|United Kingdom|4.2143370634113335|\n",
            "|   Netherlands|             8.425|\n",
            "+--------------+------------------+\n",
            "\n"
          ]
        }
      ],
      "execution_count": null
    },
    {
      "cell_type": "code",
      "source": [
        "# retorna o valor médio por grupo\n",
        "df.groupBy(\"Country\").mean(\"UnitPrice\").show()"
      ],
      "metadata": {
        "application/vnd.databricks.v1+cell": {
          "title": "",
          "showTitle": false,
          "inputWidgets": {},
          "nuid": "edabc763-2725-483d-bdf0-d19405f18943"
        },
        "id": "fL3g1GLiZ0zY",
        "outputId": "827bebff-c5d6-4edf-aa4a-4b63ef794e18",
        "colab": {
          "base_uri": "https://localhost:8080/"
        }
      },
      "outputs": [
        {
          "output_type": "stream",
          "name": "stdout",
          "text": [
            "+--------------+------------------+\n",
            "|       Country|    avg(UnitPrice)|\n",
            "+--------------+------------------+\n",
            "|       Germany| 3.235172413793104|\n",
            "|        France|            2.7645|\n",
            "|          EIRE|6.3638095238095245|\n",
            "|        Norway|1.4064383561643836|\n",
            "|     Australia| 5.278571428571429|\n",
            "|United Kingdom|4.2143370634113335|\n",
            "|   Netherlands|             8.425|\n",
            "+--------------+------------------+\n",
            "\n"
          ]
        }
      ],
      "execution_count": null
    },
    {
      "cell_type": "code",
      "source": [
        "# GroupBy várias colunas\n",
        "df.groupBy(\"Country\",\"CustomerID\") \\\n",
        "    .sum(\"UnitPrice\") \\\n",
        "    .show()"
      ],
      "metadata": {
        "application/vnd.databricks.v1+cell": {
          "title": "",
          "showTitle": false,
          "inputWidgets": {},
          "nuid": "7efb2a33-1465-4f9f-af07-dd2f326df0bf"
        },
        "id": "JeeEnb5PZ0zY",
        "outputId": "56f35ea8-0f40-4dd4-c2f8-aed43941725e",
        "colab": {
          "base_uri": "https://localhost:8080/"
        }
      },
      "outputs": [
        {
          "output_type": "stream",
          "name": "stdout",
          "text": [
            "+--------------+----------+------------------+\n",
            "|       Country|CustomerID|    sum(UnitPrice)|\n",
            "+--------------+----------+------------------+\n",
            "|United Kingdom|   17420.0| 38.99999999999999|\n",
            "|United Kingdom|   15922.0|              48.5|\n",
            "|United Kingdom|   16250.0|             47.27|\n",
            "|United Kingdom|   13065.0| 73.11000000000001|\n",
            "|United Kingdom|   18074.0|62.150000000000006|\n",
            "|United Kingdom|   16048.0|12.969999999999999|\n",
            "|       Germany|   12472.0|             49.45|\n",
            "|United Kingdom|   18085.0|              34.6|\n",
            "|United Kingdom|   17905.0|109.90000000000003|\n",
            "|United Kingdom|   17841.0|254.63999999999982|\n",
            "|United Kingdom|   15291.0|               6.0|\n",
            "|United Kingdom|   17951.0|22.000000000000004|\n",
            "|United Kingdom|   13255.0|27.299999999999997|\n",
            "|United Kingdom|   17690.0|              34.8|\n",
            "|United Kingdom|   18229.0|             48.65|\n",
            "|United Kingdom|   15605.0| 58.20000000000002|\n",
            "|United Kingdom|   18011.0| 66.10999999999999|\n",
            "|United Kingdom|   17809.0|              1.45|\n",
            "|United Kingdom|   14307.0|115.35000000000004|\n",
            "|United Kingdom|   13705.0|183.98999999999998|\n",
            "+--------------+----------+------------------+\n",
            "only showing top 20 rows\n",
            "\n"
          ]
        }
      ],
      "execution_count": null
    },
    {
      "cell_type": "markdown",
      "source": [
        "#### Trabalhando com datas\n",
        "- Existem diversas funçoes em Pyspark para manipular datas e timestamp.\n",
        "- Evite escrever suas próprias funçoes para isso.\n",
        "- Algumas funcoes mais usadas:\n",
        "    - current_day():\n",
        "    - date_format(dateExpr,format):\n",
        "    - to_date():\n",
        "    - to_date(column, fmt):\n",
        "    - add_months(Column, numMonths):\n",
        "    - date_add(column, days):\n",
        "    - date_sub(column, days):\n",
        "    - datediff(end, start)\n",
        "    - current_timestamp():\n",
        "    - hour(column):"
      ],
      "metadata": {
        "application/vnd.databricks.v1+cell": {
          "title": "",
          "showTitle": false,
          "inputWidgets": {},
          "nuid": "6b7a39e4-806d-4370-9cde-ef9c30815817"
        },
        "id": "V8KeiJ3qZ0zY"
      }
    },
    {
      "cell_type": "code",
      "source": [
        "# imprime o dataframe\n",
        "df.show()"
      ],
      "metadata": {
        "application/vnd.databricks.v1+cell": {
          "title": "",
          "showTitle": false,
          "inputWidgets": {},
          "nuid": "9678938b-2a2f-4c53-8539-db0f28c2d61d"
        },
        "id": "XcdKXi4hZ0zY",
        "outputId": "696767da-7bfb-4395-b404-9730d7495351",
        "colab": {
          "base_uri": "https://localhost:8080/"
        }
      },
      "outputs": [
        {
          "output_type": "stream",
          "name": "stdout",
          "text": [
            "+---------+---------+--------------------+--------+-------------------+---------+----------+--------------+\n",
            "|InvoiceNo|StockCode|         Description|Quantity|        InvoiceDate|UnitPrice|CustomerID|       Country|\n",
            "+---------+---------+--------------------+--------+-------------------+---------+----------+--------------+\n",
            "|   536365|   85123A|WHITE HANGING HEA...|       6|2010-12-01 08:26:00|     2.55|   17850.0|United Kingdom|\n",
            "|   536365|    71053| WHITE METAL LANTERN|       6|2010-12-01 08:26:00|     3.39|   17850.0|United Kingdom|\n",
            "|   536365|   84406B|CREAM CUPID HEART...|       8|2010-12-01 08:26:00|     2.75|   17850.0|United Kingdom|\n",
            "|   536365|   84029G|KNITTED UNION FLA...|       6|2010-12-01 08:26:00|     3.39|   17850.0|United Kingdom|\n",
            "|   536365|   84029E|RED WOOLLY HOTTIE...|       6|2010-12-01 08:26:00|     3.39|   17850.0|United Kingdom|\n",
            "|   536365|    22752|SET 7 BABUSHKA NE...|       2|2010-12-01 08:26:00|     7.65|   17850.0|United Kingdom|\n",
            "|   536365|    21730|GLASS STAR FROSTE...|       6|2010-12-01 08:26:00|     4.25|   17850.0|United Kingdom|\n",
            "|   536366|    22633|HAND WARMER UNION...|       6|2010-12-01 08:28:00|     1.85|   17850.0|United Kingdom|\n",
            "|   536366|    22632|HAND WARMER RED P...|       6|2010-12-01 08:28:00|     1.85|   17850.0|United Kingdom|\n",
            "|   536367|    84879|ASSORTED COLOUR B...|      32|2010-12-01 08:34:00|     1.69|   13047.0|United Kingdom|\n",
            "|   536367|    22745|POPPY'S PLAYHOUSE...|       6|2010-12-01 08:34:00|      2.1|   13047.0|United Kingdom|\n",
            "|   536367|    22748|POPPY'S PLAYHOUSE...|       6|2010-12-01 08:34:00|      2.1|   13047.0|United Kingdom|\n",
            "|   536367|    22749|FELTCRAFT PRINCES...|       8|2010-12-01 08:34:00|     3.75|   13047.0|United Kingdom|\n",
            "|   536367|    22310|IVORY KNITTED MUG...|       6|2010-12-01 08:34:00|     1.65|   13047.0|United Kingdom|\n",
            "|   536367|    84969|BOX OF 6 ASSORTED...|       6|2010-12-01 08:34:00|     4.25|   13047.0|United Kingdom|\n",
            "|   536367|    22623|BOX OF VINTAGE JI...|       3|2010-12-01 08:34:00|     4.95|   13047.0|United Kingdom|\n",
            "|   536367|    22622|BOX OF VINTAGE AL...|       2|2010-12-01 08:34:00|     9.95|   13047.0|United Kingdom|\n",
            "|   536367|    21754|HOME BUILDING BLO...|       3|2010-12-01 08:34:00|     5.95|   13047.0|United Kingdom|\n",
            "|   536367|    21755|LOVE BUILDING BLO...|       3|2010-12-01 08:34:00|     5.95|   13047.0|United Kingdom|\n",
            "|   536367|    21777|RECIPE BOX WITH M...|       4|2010-12-01 08:34:00|     7.95|   13047.0|United Kingdom|\n",
            "+---------+---------+--------------------+--------+-------------------+---------+----------+--------------+\n",
            "only showing top 20 rows\n",
            "\n"
          ]
        }
      ],
      "execution_count": null
    },
    {
      "cell_type": "code",
      "source": [
        "# imprime o schema\n",
        "df.printSchema()"
      ],
      "metadata": {
        "application/vnd.databricks.v1+cell": {
          "title": "",
          "showTitle": false,
          "inputWidgets": {},
          "nuid": "53258c1f-498f-4895-a88f-49d7f6e7c1f1"
        },
        "id": "rIXplwjaZ0zZ",
        "outputId": "d4cf0869-97b0-4ec8-85f8-b46126b4a7cf",
        "colab": {
          "base_uri": "https://localhost:8080/"
        }
      },
      "outputs": [
        {
          "output_type": "stream",
          "name": "stdout",
          "text": [
            "root\n",
            " |-- InvoiceNo: string (nullable = true)\n",
            " |-- StockCode: string (nullable = true)\n",
            " |-- Description: string (nullable = true)\n",
            " |-- Quantity: integer (nullable = true)\n",
            " |-- InvoiceDate: timestamp (nullable = true)\n",
            " |-- UnitPrice: double (nullable = true)\n",
            " |-- CustomerID: double (nullable = true)\n",
            " |-- Country: string (nullable = true)\n",
            "\n"
          ]
        }
      ],
      "execution_count": null
    },
    {
      "cell_type": "code",
      "source": [
        "from pyspark.sql.functions import *\n",
        "#current_date() = imprime\n",
        "df.select(current_date().alias(\"current_date\")).show(1)"
      ],
      "metadata": {
        "application/vnd.databricks.v1+cell": {
          "title": "",
          "showTitle": false,
          "inputWidgets": {},
          "nuid": "e2083400-b761-4b63-96b4-670b08e5403f"
        },
        "id": "AMG9552BZ0zZ",
        "outputId": "055fb47c-1ca1-4140-d1f3-085303f83f15",
        "colab": {
          "base_uri": "https://localhost:8080/"
        }
      },
      "outputs": [
        {
          "output_type": "stream",
          "name": "stdout",
          "text": [
            "+------------+\n",
            "|current_date|\n",
            "+------------+\n",
            "|  2025-02-06|\n",
            "+------------+\n",
            "only showing top 1 row\n",
            "\n"
          ]
        }
      ],
      "execution_count": null
    },
    {
      "cell_type": "code",
      "source": [
        "# formata valores de data\n",
        "df.select(col(\"InvoiceDate\"), \\\n",
        "          date_format(col(\"InvoiceDate\"), \"dd/MM/yyyy hh:mm:ss\")\\\n",
        "          .alias(\"Formato Brasil\")).show()"
      ],
      "metadata": {
        "application/vnd.databricks.v1+cell": {
          "title": "",
          "showTitle": false,
          "inputWidgets": {},
          "nuid": "7ce8e518-edb9-4744-88b8-8282c2b65333"
        },
        "id": "P_k7u7KYZ0zZ",
        "outputId": "9ff7f5f8-13e7-4a49-a580-728f0d0bf8ef",
        "colab": {
          "base_uri": "https://localhost:8080/"
        }
      },
      "outputs": [
        {
          "output_type": "stream",
          "name": "stdout",
          "text": [
            "+-------------------+-------------------+\n",
            "|        InvoiceDate|     Formato Brasil|\n",
            "+-------------------+-------------------+\n",
            "|2010-12-01 08:26:00|01/12/2010 08:26:00|\n",
            "|2010-12-01 08:26:00|01/12/2010 08:26:00|\n",
            "|2010-12-01 08:26:00|01/12/2010 08:26:00|\n",
            "|2010-12-01 08:26:00|01/12/2010 08:26:00|\n",
            "|2010-12-01 08:26:00|01/12/2010 08:26:00|\n",
            "|2010-12-01 08:26:00|01/12/2010 08:26:00|\n",
            "|2010-12-01 08:26:00|01/12/2010 08:26:00|\n",
            "|2010-12-01 08:28:00|01/12/2010 08:28:00|\n",
            "|2010-12-01 08:28:00|01/12/2010 08:28:00|\n",
            "|2010-12-01 08:34:00|01/12/2010 08:34:00|\n",
            "|2010-12-01 08:34:00|01/12/2010 08:34:00|\n",
            "|2010-12-01 08:34:00|01/12/2010 08:34:00|\n",
            "|2010-12-01 08:34:00|01/12/2010 08:34:00|\n",
            "|2010-12-01 08:34:00|01/12/2010 08:34:00|\n",
            "|2010-12-01 08:34:00|01/12/2010 08:34:00|\n",
            "|2010-12-01 08:34:00|01/12/2010 08:34:00|\n",
            "|2010-12-01 08:34:00|01/12/2010 08:34:00|\n",
            "|2010-12-01 08:34:00|01/12/2010 08:34:00|\n",
            "|2010-12-01 08:34:00|01/12/2010 08:34:00|\n",
            "|2010-12-01 08:34:00|01/12/2010 08:34:00|\n",
            "+-------------------+-------------------+\n",
            "only showing top 20 rows\n",
            "\n"
          ]
        }
      ],
      "execution_count": null
    },
    {
      "cell_type": "code",
      "source": [
        "# imprime a diferença entre duas datas\n",
        "df.select(col(\"InvoiceDate\"),\n",
        "    datediff(current_date(),col(\"InvoiceDate\")).alias(\"datediff\")\n",
        "  ).show()"
      ],
      "metadata": {
        "application/vnd.databricks.v1+cell": {
          "title": "",
          "showTitle": false,
          "inputWidgets": {},
          "nuid": "60cc6645-2ef1-4f0a-8538-8a5e6751765f"
        },
        "id": "OW7oWi06Z0zZ",
        "outputId": "3839132d-b7ea-4e36-f044-66380bf59650",
        "colab": {
          "base_uri": "https://localhost:8080/"
        }
      },
      "outputs": [
        {
          "output_type": "stream",
          "name": "stdout",
          "text": [
            "+-------------------+--------+\n",
            "|        InvoiceDate|datediff|\n",
            "+-------------------+--------+\n",
            "|2010-12-01 08:26:00|    5181|\n",
            "|2010-12-01 08:26:00|    5181|\n",
            "|2010-12-01 08:26:00|    5181|\n",
            "|2010-12-01 08:26:00|    5181|\n",
            "|2010-12-01 08:26:00|    5181|\n",
            "|2010-12-01 08:26:00|    5181|\n",
            "|2010-12-01 08:26:00|    5181|\n",
            "|2010-12-01 08:28:00|    5181|\n",
            "|2010-12-01 08:28:00|    5181|\n",
            "|2010-12-01 08:34:00|    5181|\n",
            "|2010-12-01 08:34:00|    5181|\n",
            "|2010-12-01 08:34:00|    5181|\n",
            "|2010-12-01 08:34:00|    5181|\n",
            "|2010-12-01 08:34:00|    5181|\n",
            "|2010-12-01 08:34:00|    5181|\n",
            "|2010-12-01 08:34:00|    5181|\n",
            "|2010-12-01 08:34:00|    5181|\n",
            "|2010-12-01 08:34:00|    5181|\n",
            "|2010-12-01 08:34:00|    5181|\n",
            "|2010-12-01 08:34:00|    5181|\n",
            "+-------------------+--------+\n",
            "only showing top 20 rows\n",
            "\n"
          ]
        }
      ],
      "execution_count": null
    },
    {
      "cell_type": "code",
      "source": [
        "# meses entre datas\n",
        "df.select(col(\"InvoiceDate\"),\n",
        "    months_between(current_date(),col(\"InvoiceDate\")).alias(\"months_between\")\n",
        "  ).show()"
      ],
      "metadata": {
        "application/vnd.databricks.v1+cell": {
          "title": "",
          "showTitle": false,
          "inputWidgets": {},
          "nuid": "1231ef2f-8b95-4102-ab18-06568fa3c4bd"
        },
        "id": "036YpIlCZ0zZ",
        "outputId": "baa2bab7-b5f5-4be3-a38a-848d73ed74e5",
        "colab": {
          "base_uri": "https://localhost:8080/"
        }
      },
      "outputs": [
        {
          "output_type": "stream",
          "name": "stdout",
          "text": [
            "+-------------------+--------------+\n",
            "|        InvoiceDate|months_between|\n",
            "+-------------------+--------------+\n",
            "|2010-12-01 08:26:00|   170.1499552|\n",
            "|2010-12-01 08:26:00|   170.1499552|\n",
            "|2010-12-01 08:26:00|   170.1499552|\n",
            "|2010-12-01 08:26:00|   170.1499552|\n",
            "|2010-12-01 08:26:00|   170.1499552|\n",
            "|2010-12-01 08:26:00|   170.1499552|\n",
            "|2010-12-01 08:26:00|   170.1499552|\n",
            "|2010-12-01 08:28:00|  170.14991039|\n",
            "|2010-12-01 08:28:00|  170.14991039|\n",
            "|2010-12-01 08:34:00|  170.14977599|\n",
            "|2010-12-01 08:34:00|  170.14977599|\n",
            "|2010-12-01 08:34:00|  170.14977599|\n",
            "|2010-12-01 08:34:00|  170.14977599|\n",
            "|2010-12-01 08:34:00|  170.14977599|\n",
            "|2010-12-01 08:34:00|  170.14977599|\n",
            "|2010-12-01 08:34:00|  170.14977599|\n",
            "|2010-12-01 08:34:00|  170.14977599|\n",
            "|2010-12-01 08:34:00|  170.14977599|\n",
            "|2010-12-01 08:34:00|  170.14977599|\n",
            "|2010-12-01 08:34:00|  170.14977599|\n",
            "+-------------------+--------------+\n",
            "only showing top 20 rows\n",
            "\n"
          ]
        }
      ],
      "execution_count": null
    },
    {
      "cell_type": "code",
      "source": [
        "# Extrai ano, mës, próximo dia, dia da semana.\n",
        "df.select(col(\"InvoiceDate\"),\n",
        "     year(col(\"InvoiceDate\")).alias(\"year\"),\n",
        "     month(col(\"InvoiceDate\")).alias(\"month\"),\n",
        "     next_day(col(\"InvoiceDate\"),\"Sunday\").alias(\"next_day\"),\n",
        "     weekofyear(col(\"InvoiceDate\")).alias(\"weekofyear\")\n",
        "  ).show()"
      ],
      "metadata": {
        "application/vnd.databricks.v1+cell": {
          "title": "",
          "showTitle": false,
          "inputWidgets": {},
          "nuid": "c8a0ba4e-6b1c-43ae-aac2-2983bfd46a9f"
        },
        "id": "_MP7Rn8aZ0zZ",
        "outputId": "88e8d545-568f-4635-92f8-0a682e2924dd",
        "colab": {
          "base_uri": "https://localhost:8080/"
        }
      },
      "outputs": [
        {
          "output_type": "stream",
          "name": "stdout",
          "text": [
            "+-------------------+----+-----+----------+----------+\n",
            "|        InvoiceDate|year|month|  next_day|weekofyear|\n",
            "+-------------------+----+-----+----------+----------+\n",
            "|2010-12-01 08:26:00|2010|   12|2010-12-05|        48|\n",
            "|2010-12-01 08:26:00|2010|   12|2010-12-05|        48|\n",
            "|2010-12-01 08:26:00|2010|   12|2010-12-05|        48|\n",
            "|2010-12-01 08:26:00|2010|   12|2010-12-05|        48|\n",
            "|2010-12-01 08:26:00|2010|   12|2010-12-05|        48|\n",
            "|2010-12-01 08:26:00|2010|   12|2010-12-05|        48|\n",
            "|2010-12-01 08:26:00|2010|   12|2010-12-05|        48|\n",
            "|2010-12-01 08:28:00|2010|   12|2010-12-05|        48|\n",
            "|2010-12-01 08:28:00|2010|   12|2010-12-05|        48|\n",
            "|2010-12-01 08:34:00|2010|   12|2010-12-05|        48|\n",
            "|2010-12-01 08:34:00|2010|   12|2010-12-05|        48|\n",
            "|2010-12-01 08:34:00|2010|   12|2010-12-05|        48|\n",
            "|2010-12-01 08:34:00|2010|   12|2010-12-05|        48|\n",
            "|2010-12-01 08:34:00|2010|   12|2010-12-05|        48|\n",
            "|2010-12-01 08:34:00|2010|   12|2010-12-05|        48|\n",
            "|2010-12-01 08:34:00|2010|   12|2010-12-05|        48|\n",
            "|2010-12-01 08:34:00|2010|   12|2010-12-05|        48|\n",
            "|2010-12-01 08:34:00|2010|   12|2010-12-05|        48|\n",
            "|2010-12-01 08:34:00|2010|   12|2010-12-05|        48|\n",
            "|2010-12-01 08:34:00|2010|   12|2010-12-05|        48|\n",
            "+-------------------+----+-----+----------+----------+\n",
            "only showing top 20 rows\n",
            "\n"
          ]
        }
      ],
      "execution_count": null
    },
    {
      "cell_type": "code",
      "source": [
        "# Dia da semana, dia do mës, dias do ano\n",
        "df.select(col(\"InvoiceDate\"),\n",
        "     dayofweek(col(\"InvoiceDate\")).alias(\"dayofweek\"),\n",
        "     dayofmonth(col(\"InvoiceDate\")).alias(\"dayofmonth\"),\n",
        "     dayofyear(col(\"InvoiceDate\")).alias(\"dayofyear\"),\n",
        "  ).show()"
      ],
      "metadata": {
        "application/vnd.databricks.v1+cell": {
          "title": "",
          "showTitle": false,
          "inputWidgets": {},
          "nuid": "a96620ad-38e3-4406-91e9-1bd3780c2583"
        },
        "id": "WS_JKAxcZ0zZ",
        "outputId": "50b00f8b-8494-4e1e-f851-9b0ae305b475",
        "colab": {
          "base_uri": "https://localhost:8080/"
        }
      },
      "outputs": [
        {
          "output_type": "stream",
          "name": "stdout",
          "text": [
            "+-------------------+---------+----------+---------+\n",
            "|        InvoiceDate|dayofweek|dayofmonth|dayofyear|\n",
            "+-------------------+---------+----------+---------+\n",
            "|2010-12-01 08:26:00|        4|         1|      335|\n",
            "|2010-12-01 08:26:00|        4|         1|      335|\n",
            "|2010-12-01 08:26:00|        4|         1|      335|\n",
            "|2010-12-01 08:26:00|        4|         1|      335|\n",
            "|2010-12-01 08:26:00|        4|         1|      335|\n",
            "|2010-12-01 08:26:00|        4|         1|      335|\n",
            "|2010-12-01 08:26:00|        4|         1|      335|\n",
            "|2010-12-01 08:28:00|        4|         1|      335|\n",
            "|2010-12-01 08:28:00|        4|         1|      335|\n",
            "|2010-12-01 08:34:00|        4|         1|      335|\n",
            "|2010-12-01 08:34:00|        4|         1|      335|\n",
            "|2010-12-01 08:34:00|        4|         1|      335|\n",
            "|2010-12-01 08:34:00|        4|         1|      335|\n",
            "|2010-12-01 08:34:00|        4|         1|      335|\n",
            "|2010-12-01 08:34:00|        4|         1|      335|\n",
            "|2010-12-01 08:34:00|        4|         1|      335|\n",
            "|2010-12-01 08:34:00|        4|         1|      335|\n",
            "|2010-12-01 08:34:00|        4|         1|      335|\n",
            "|2010-12-01 08:34:00|        4|         1|      335|\n",
            "|2010-12-01 08:34:00|        4|         1|      335|\n",
            "+-------------------+---------+----------+---------+\n",
            "only showing top 20 rows\n",
            "\n"
          ]
        }
      ],
      "execution_count": null
    },
    {
      "cell_type": "code",
      "source": [
        "# imprime o timestamp atual\n",
        "df.select(current_timestamp().alias(\"current_timestamp\")\n",
        "  ).show(1,truncate=False)"
      ],
      "metadata": {
        "application/vnd.databricks.v1+cell": {
          "title": "",
          "showTitle": false,
          "inputWidgets": {},
          "nuid": "b4f345c5-de62-45e9-a477-2b453afbf0ac"
        },
        "id": "g8yHTXfDZ0zZ",
        "outputId": "05f36932-c646-4de6-d5ce-507cfa4136aa",
        "colab": {
          "base_uri": "https://localhost:8080/"
        }
      },
      "outputs": [
        {
          "output_type": "stream",
          "name": "stdout",
          "text": [
            "+--------------------------+\n",
            "|current_timestamp         |\n",
            "+--------------------------+\n",
            "|2025-02-06 23:24:24.384719|\n",
            "+--------------------------+\n",
            "only showing top 1 row\n",
            "\n"
          ]
        }
      ],
      "execution_count": null
    },
    {
      "cell_type": "code",
      "source": [
        "# retorna hora, minuto e segundo\n",
        "df.select(col(\"InvoiceDate\"),\n",
        "    hour(col(\"InvoiceDate\")).alias(\"hour\"),\n",
        "    minute(col(\"InvoiceDate\")).alias(\"minute\"),\n",
        "    second(col(\"InvoiceDate\")).alias(\"second\")\n",
        "  ).show()"
      ],
      "metadata": {
        "application/vnd.databricks.v1+cell": {
          "title": "",
          "showTitle": false,
          "inputWidgets": {},
          "nuid": "c2683b59-bf6c-4a51-be96-7ffd44d191a0"
        },
        "id": "Nm_plYc2Z0zZ",
        "outputId": "8c265df1-74a7-46c8-f522-c4f48a467038",
        "colab": {
          "base_uri": "https://localhost:8080/"
        }
      },
      "outputs": [
        {
          "output_type": "stream",
          "name": "stdout",
          "text": [
            "+-------------------+----+------+------+\n",
            "|        InvoiceDate|hour|minute|second|\n",
            "+-------------------+----+------+------+\n",
            "|2010-12-01 08:26:00|   8|    26|     0|\n",
            "|2010-12-01 08:26:00|   8|    26|     0|\n",
            "|2010-12-01 08:26:00|   8|    26|     0|\n",
            "|2010-12-01 08:26:00|   8|    26|     0|\n",
            "|2010-12-01 08:26:00|   8|    26|     0|\n",
            "|2010-12-01 08:26:00|   8|    26|     0|\n",
            "|2010-12-01 08:26:00|   8|    26|     0|\n",
            "|2010-12-01 08:28:00|   8|    28|     0|\n",
            "|2010-12-01 08:28:00|   8|    28|     0|\n",
            "|2010-12-01 08:34:00|   8|    34|     0|\n",
            "|2010-12-01 08:34:00|   8|    34|     0|\n",
            "|2010-12-01 08:34:00|   8|    34|     0|\n",
            "|2010-12-01 08:34:00|   8|    34|     0|\n",
            "|2010-12-01 08:34:00|   8|    34|     0|\n",
            "|2010-12-01 08:34:00|   8|    34|     0|\n",
            "|2010-12-01 08:34:00|   8|    34|     0|\n",
            "|2010-12-01 08:34:00|   8|    34|     0|\n",
            "|2010-12-01 08:34:00|   8|    34|     0|\n",
            "|2010-12-01 08:34:00|   8|    34|     0|\n",
            "|2010-12-01 08:34:00|   8|    34|     0|\n",
            "+-------------------+----+------+------+\n",
            "only showing top 20 rows\n",
            "\n"
          ]
        }
      ],
      "execution_count": null
    },
    {
      "cell_type": "markdown",
      "source": [
        "#### Condições com operadores boleanos"
      ],
      "metadata": {
        "application/vnd.databricks.v1+cell": {
          "title": "",
          "showTitle": false,
          "inputWidgets": {},
          "nuid": "a6597448-26c4-491a-8273-3a100e268591"
        },
        "id": "pNto4mAaZ0za"
      }
    },
    {
      "cell_type": "code",
      "source": [
        "# Retorna linhas das colunas 'InvoiceNo' e 'Description' onde 'InvoiceNo' é diferente de 536365\n",
        "from pyspark.sql.functions import col\n",
        "df.where(col(\"InvoiceNo\") != 536365)\\\n",
        ".select(\"InvoiceNo\", \"Description\")\\\n",
        ".show(10)"
      ],
      "metadata": {
        "application/vnd.databricks.v1+cell": {
          "title": "",
          "showTitle": false,
          "inputWidgets": {},
          "nuid": "faf4ea80-5d7f-428c-b3c7-522732668b68"
        },
        "id": "EqacWt8xZ0za",
        "outputId": "dfeec5fc-ba09-48e5-8064-d5ceb7dac62e",
        "colab": {
          "base_uri": "https://localhost:8080/"
        }
      },
      "outputs": [
        {
          "output_type": "stream",
          "name": "stdout",
          "text": [
            "+---------+--------------------+\n",
            "|InvoiceNo|         Description|\n",
            "+---------+--------------------+\n",
            "|   536366|HAND WARMER UNION...|\n",
            "|   536366|HAND WARMER RED P...|\n",
            "|   536367|ASSORTED COLOUR B...|\n",
            "|   536367|POPPY'S PLAYHOUSE...|\n",
            "|   536367|POPPY'S PLAYHOUSE...|\n",
            "|   536367|FELTCRAFT PRINCES...|\n",
            "|   536367|IVORY KNITTED MUG...|\n",
            "|   536367|BOX OF 6 ASSORTED...|\n",
            "|   536367|BOX OF VINTAGE JI...|\n",
            "|   536367|BOX OF VINTAGE AL...|\n",
            "+---------+--------------------+\n",
            "only showing top 10 rows\n",
            "\n"
          ]
        }
      ],
      "execution_count": null
    },
    {
      "cell_type": "code",
      "source": [
        "# usando o operador boleando com um predicado em uma expressão.\n",
        "df.where(\"InvoiceNo <> 536365\").show(5)"
      ],
      "metadata": {
        "application/vnd.databricks.v1+cell": {
          "title": "",
          "showTitle": false,
          "inputWidgets": {},
          "nuid": "cad144bd-d7f0-4e2e-8c68-d58517f4cf7e"
        },
        "id": "uRcp7wB1Z0za",
        "outputId": "da1800ce-cec8-442b-e56f-ebd0e5f2a576",
        "colab": {
          "base_uri": "https://localhost:8080/"
        }
      },
      "outputs": [
        {
          "output_type": "stream",
          "name": "stdout",
          "text": [
            "+---------+---------+--------------------+--------+-------------------+---------+----------+--------------+\n",
            "|InvoiceNo|StockCode|         Description|Quantity|        InvoiceDate|UnitPrice|CustomerID|       Country|\n",
            "+---------+---------+--------------------+--------+-------------------+---------+----------+--------------+\n",
            "|   536366|    22633|HAND WARMER UNION...|       6|2010-12-01 08:28:00|     1.85|   17850.0|United Kingdom|\n",
            "|   536366|    22632|HAND WARMER RED P...|       6|2010-12-01 08:28:00|     1.85|   17850.0|United Kingdom|\n",
            "|   536367|    84879|ASSORTED COLOUR B...|      32|2010-12-01 08:34:00|     1.69|   13047.0|United Kingdom|\n",
            "|   536367|    22745|POPPY'S PLAYHOUSE...|       6|2010-12-01 08:34:00|      2.1|   13047.0|United Kingdom|\n",
            "|   536367|    22748|POPPY'S PLAYHOUSE...|       6|2010-12-01 08:34:00|      2.1|   13047.0|United Kingdom|\n",
            "+---------+---------+--------------------+--------+-------------------+---------+----------+--------------+\n",
            "only showing top 5 rows\n",
            "\n"
          ]
        }
      ],
      "execution_count": null
    },
    {
      "cell_type": "code",
      "source": [
        "# usando o operador boleando com um predicado em uma expressão.\n",
        "df.where(\"InvoiceNo == 536365\").show(5)"
      ],
      "metadata": {
        "application/vnd.databricks.v1+cell": {
          "title": "",
          "showTitle": false,
          "inputWidgets": {},
          "nuid": "2e53f5b5-92c2-42ba-9296-7d547630f61f"
        },
        "id": "3djcD6s9Z0za",
        "outputId": "0d4bfcf2-a9a1-457f-8203-a16833a04466",
        "colab": {
          "base_uri": "https://localhost:8080/"
        }
      },
      "outputs": [
        {
          "output_type": "stream",
          "name": "stdout",
          "text": [
            "+---------+---------+--------------------+--------+-------------------+---------+----------+--------------+\n",
            "|InvoiceNo|StockCode|         Description|Quantity|        InvoiceDate|UnitPrice|CustomerID|       Country|\n",
            "+---------+---------+--------------------+--------+-------------------+---------+----------+--------------+\n",
            "|   536365|   85123A|WHITE HANGING HEA...|       6|2010-12-01 08:26:00|     2.55|   17850.0|United Kingdom|\n",
            "|   536365|    71053| WHITE METAL LANTERN|       6|2010-12-01 08:26:00|     3.39|   17850.0|United Kingdom|\n",
            "|   536365|   84406B|CREAM CUPID HEART...|       8|2010-12-01 08:26:00|     2.75|   17850.0|United Kingdom|\n",
            "|   536365|   84029G|KNITTED UNION FLA...|       6|2010-12-01 08:26:00|     3.39|   17850.0|United Kingdom|\n",
            "|   536365|   84029E|RED WOOLLY HOTTIE...|       6|2010-12-01 08:26:00|     3.39|   17850.0|United Kingdom|\n",
            "+---------+---------+--------------------+--------+-------------------+---------+----------+--------------+\n",
            "only showing top 5 rows\n",
            "\n"
          ]
        }
      ],
      "execution_count": null
    },
    {
      "cell_type": "code",
      "source": [
        "# Entendendo a ordem dos operadores boleanos\n",
        "from pyspark.sql.functions import instr\n",
        "priceFilter = col(\"UnitPrice\") > 600\n",
        "descripFilter = instr(df.Description, \"POSTAGE\") >= 1"
      ],
      "metadata": {
        "application/vnd.databricks.v1+cell": {
          "title": "",
          "showTitle": false,
          "inputWidgets": {},
          "nuid": "85529b54-b6d9-4dd0-b18e-d5a0c1093af5"
        },
        "id": "4H67Lm-1Z0za"
      },
      "outputs": [],
      "execution_count": null
    },
    {
      "cell_type": "code",
      "source": [
        "# aplicando os operadores como filtros\n",
        "df.where(df.StockCode.isin(\"DOT\")).where(priceFilter | descripFilter).show()"
      ],
      "metadata": {
        "application/vnd.databricks.v1+cell": {
          "title": "",
          "showTitle": false,
          "inputWidgets": {},
          "nuid": "c99c0a37-6ca1-4603-8151-cc7b9c2f21ac"
        },
        "id": "ucPSXyUnZ0za",
        "outputId": "79708912-fb5c-4ebc-b6e3-94cca1c9dce9",
        "colab": {
          "base_uri": "https://localhost:8080/"
        }
      },
      "outputs": [
        {
          "output_type": "stream",
          "name": "stdout",
          "text": [
            "+---------+---------+--------------+--------+-------------------+---------+----------+--------------+\n",
            "|InvoiceNo|StockCode|   Description|Quantity|        InvoiceDate|UnitPrice|CustomerID|       Country|\n",
            "+---------+---------+--------------+--------+-------------------+---------+----------+--------------+\n",
            "|   536544|      DOT|DOTCOM POSTAGE|       1|2010-12-01 14:32:00|   569.77|      NULL|United Kingdom|\n",
            "|   536592|      DOT|DOTCOM POSTAGE|       1|2010-12-01 17:06:00|   607.49|      NULL|United Kingdom|\n",
            "+---------+---------+--------------+--------+-------------------+---------+----------+--------------+\n",
            "\n"
          ]
        }
      ],
      "execution_count": null
    },
    {
      "cell_type": "code",
      "source": [
        "# Create a view ou tabela temporária.\n",
        "df.createOrReplaceTempView(\"dfTable\")"
      ],
      "metadata": {
        "application/vnd.databricks.v1+cell": {
          "title": "",
          "showTitle": false,
          "inputWidgets": {},
          "nuid": "ce2779cb-c01f-457e-8187-da6c9389663b"
        },
        "id": "DV7anK5CZ0za"
      },
      "outputs": [],
      "execution_count": null
    },
    {
      "cell_type": "code",
      "source": [
        "%sql\n",
        "-- Aplicando a mesmo código em SQL\n",
        "SELECT *\n",
        "FROM dfTable\n",
        "WHERE StockCode in (\"DOT\")\n",
        "AND(UnitPrice > 600 OR instr(Description, \"POSTAGE\") >= 1)"
      ],
      "metadata": {
        "application/vnd.databricks.v1+cell": {
          "title": "",
          "showTitle": false,
          "inputWidgets": {},
          "nuid": "a157320a-452d-4be2-911f-850b8fa6437e"
        },
        "id": "F7qdXmKnZ0za",
        "outputId": "c9785390-9bcd-49ce-a0de-f9e13aec6b56",
        "colab": {
          "base_uri": "https://localhost:8080/",
          "height": 106
        }
      },
      "outputs": [
        {
          "output_type": "error",
          "ename": "SyntaxError",
          "evalue": "invalid syntax (<ipython-input-105-4fb6fd3899ad>, line 2)",
          "traceback": [
            "\u001b[0;36m  File \u001b[0;32m\"<ipython-input-105-4fb6fd3899ad>\"\u001b[0;36m, line \u001b[0;32m2\u001b[0m\n\u001b[0;31m    -- Aplicando a mesmo código em SQL\u001b[0m\n\u001b[0m                 ^\u001b[0m\n\u001b[0;31mSyntaxError\u001b[0m\u001b[0;31m:\u001b[0m invalid syntax\n"
          ]
        }
      ],
      "execution_count": null
    },
    {
      "cell_type": "code",
      "source": [
        "# Combinando filtros e operadores boleanos\n",
        "from pyspark.sql.functions import instr\n",
        "DOTCodeFilter = col(\"StockCode\") == \"DOT\"\n",
        "priceFilter = col(\"UnitPrice\") > 600\n",
        "descripFilter = instr(col(\"Description\"), \"POSTAGE\") >= 1"
      ],
      "metadata": {
        "application/vnd.databricks.v1+cell": {
          "title": "",
          "showTitle": false,
          "inputWidgets": {},
          "nuid": "55831208-b05f-4cb6-bf10-efac3e533b8b"
        },
        "id": "2JL79RsPZ0zb"
      },
      "outputs": [],
      "execution_count": null
    },
    {
      "cell_type": "code",
      "source": [
        "# Combinando filtros e operadores boleanos\n",
        "df.withColumn(\"isExpensive\", DOTCodeFilter & (priceFilter | descripFilter))\\\n",
        ".where(\"isExpensive\")\\\n",
        ".select(\"unitPrice\", \"isExpensive\").show(5)"
      ],
      "metadata": {
        "application/vnd.databricks.v1+cell": {
          "title": "",
          "showTitle": false,
          "inputWidgets": {},
          "nuid": "43aed680-396d-43f5-9e7a-125601a4b37a"
        },
        "id": "sajbWJlCZ0zb",
        "outputId": "9ca19fd9-1342-43e9-e8a3-e47b014e6344",
        "colab": {
          "base_uri": "https://localhost:8080/"
        }
      },
      "outputs": [
        {
          "output_type": "stream",
          "name": "stdout",
          "text": [
            "+---------+-----------+\n",
            "|unitPrice|isExpensive|\n",
            "+---------+-----------+\n",
            "|   569.77|       true|\n",
            "|   607.49|       true|\n",
            "+---------+-----------+\n",
            "\n"
          ]
        }
      ],
      "execution_count": null
    },
    {
      "cell_type": "code",
      "source": [
        "%sql\n",
        "-- Aplicando as mesmas ideias usando SQL\n",
        "SELECT UnitPrice, (StockCode = 'DOT' AND\n",
        "(UnitPrice > 600 OR instr(Description, \"POSTAGE\") >= 1)) as isExpensive\n",
        "FROM dfTable\n",
        "WHERE (StockCode = 'DOT' AND\n",
        "(UnitPrice > 600 OR instr(Description, \"POSTAGE\") >= 1))"
      ],
      "metadata": {
        "application/vnd.databricks.v1+cell": {
          "title": "",
          "showTitle": false,
          "inputWidgets": {},
          "nuid": "a32e1297-688b-4bdc-9751-5cf4a57a734a"
        },
        "id": "C3iqdZ7oZ0zb",
        "outputId": "0a9fdf96-1ad8-4aab-f304-39a94cb2b6ce",
        "colab": {
          "base_uri": "https://localhost:8080/",
          "height": 106
        }
      },
      "outputs": [
        {
          "output_type": "error",
          "ename": "SyntaxError",
          "evalue": "invalid syntax (<ipython-input-108-daa7202491db>, line 2)",
          "traceback": [
            "\u001b[0;36m  File \u001b[0;32m\"<ipython-input-108-daa7202491db>\"\u001b[0;36m, line \u001b[0;32m2\u001b[0m\n\u001b[0;31m    -- Aplicando as mesmas ideias usando SQL\u001b[0m\n\u001b[0m                 ^\u001b[0m\n\u001b[0;31mSyntaxError\u001b[0m\u001b[0;31m:\u001b[0m invalid syntax\n"
          ]
        }
      ],
      "execution_count": null
    },
    {
      "cell_type": "markdown",
      "source": [
        "#### Comparando a performance de SQL vs Python Apis"
      ],
      "metadata": {
        "application/vnd.databricks.v1+cell": {
          "title": "",
          "showTitle": false,
          "inputWidgets": {},
          "nuid": "06dad592-6b77-4938-85ff-a097d4139be6"
        },
        "id": "9byvTgJAZ0zb"
      }
    },
    {
      "cell_type": "code",
      "source": [
        "## utilizando SQL\n",
        "sqlWay = spark.sql(\"\"\"\n",
        "SELECT StockCode, count(*)\n",
        "FROM dfTable\n",
        "GROUP BY StockCode\n",
        "\"\"\")"
      ],
      "metadata": {
        "application/vnd.databricks.v1+cell": {
          "title": "",
          "showTitle": false,
          "inputWidgets": {},
          "nuid": "7c4b8aa2-6dd2-4e01-9623-ced6ee63fe50"
        },
        "id": "qus_oWBHZ0zb"
      },
      "outputs": [],
      "execution_count": null
    },
    {
      "cell_type": "code",
      "source": [
        "# Utilizando Python\n",
        "dataFrameWay = df.groupBy(\"StockCode\").count()"
      ],
      "metadata": {
        "application/vnd.databricks.v1+cell": {
          "title": "",
          "showTitle": false,
          "inputWidgets": {},
          "nuid": "7d569a3c-727e-4cb9-a7d9-cb985fc3d7c2"
        },
        "id": "3C2UCZGtZ0zb"
      },
      "outputs": [],
      "execution_count": null
    },
    {
      "cell_type": "code",
      "source": [
        "# imprime o plano de execução do código\n",
        "sqlWay.explain()"
      ],
      "metadata": {
        "application/vnd.databricks.v1+cell": {
          "title": "",
          "showTitle": false,
          "inputWidgets": {},
          "nuid": "6a6a0f53-0b89-42b9-b0c3-3ca11dceed36"
        },
        "id": "Ug1l_M3eZ0zb",
        "outputId": "2ae684b9-2abc-4092-dffe-1c9c78900796",
        "colab": {
          "base_uri": "https://localhost:8080/"
        }
      },
      "outputs": [
        {
          "output_type": "stream",
          "name": "stdout",
          "text": [
            "== Physical Plan ==\n",
            "AdaptiveSparkPlan isFinalPlan=false\n",
            "+- HashAggregate(keys=[StockCode#1326], functions=[count(1)])\n",
            "   +- Exchange hashpartitioning(StockCode#1326, 200), ENSURE_REQUIREMENTS, [plan_id=1367]\n",
            "      +- HashAggregate(keys=[StockCode#1326], functions=[partial_count(1)])\n",
            "         +- FileScan csv [StockCode#1326] Batched: false, DataFilters: [], Format: CSV, Location: InMemoryFileIndex(1 paths)[file:/content/sample_data/tables/retail/retail_2010_12_01.csv], PartitionFilters: [], PushedFilters: [], ReadSchema: struct<StockCode:string>\n",
            "\n",
            "\n"
          ]
        }
      ],
      "execution_count": null
    },
    {
      "cell_type": "code",
      "source": [
        "# imprime o plano de execução do código\n",
        "dataFrameWay.explain()"
      ],
      "metadata": {
        "application/vnd.databricks.v1+cell": {
          "title": "",
          "showTitle": false,
          "inputWidgets": {},
          "nuid": "1db42fee-8ab0-47a8-a642-d6af0ceffffa"
        },
        "id": "3cJzc-R7Z0zb",
        "outputId": "f24e9d52-15c3-4d95-b134-e9cbe0826198",
        "colab": {
          "base_uri": "https://localhost:8080/"
        }
      },
      "outputs": [
        {
          "output_type": "stream",
          "name": "stdout",
          "text": [
            "== Physical Plan ==\n",
            "AdaptiveSparkPlan isFinalPlan=false\n",
            "+- HashAggregate(keys=[StockCode#1326], functions=[count(1)])\n",
            "   +- Exchange hashpartitioning(StockCode#1326, 200), ENSURE_REQUIREMENTS, [plan_id=1380]\n",
            "      +- HashAggregate(keys=[StockCode#1326], functions=[partial_count(1)])\n",
            "         +- FileScan csv [StockCode#1326] Batched: false, DataFilters: [], Format: CSV, Location: InMemoryFileIndex(1 paths)[file:/content/sample_data/tables/retail/retail_2010_12_01.csv], PartitionFilters: [], PushedFilters: [], ReadSchema: struct<StockCode:string>\n",
            "\n",
            "\n"
          ]
        }
      ],
      "execution_count": null
    },
    {
      "cell_type": "markdown",
      "source": [
        "### Trabalhando com Joins"
      ],
      "metadata": {
        "application/vnd.databricks.v1+cell": {
          "title": "",
          "showTitle": false,
          "inputWidgets": {},
          "nuid": "3111394d-e3df-4273-9b61-e3355abd72e1"
        },
        "id": "VpQ530ZnZ0zc"
      }
    },
    {
      "cell_type": "code",
      "source": [
        "# Cria dataframes\n",
        "pessoa = spark.createDataFrame([\n",
        "(0, \"João de Maria\", 0, [100]),\n",
        "(1, \"Norma Maria\", 1, [500, 250, 100]),\n",
        "(2, \"João de Deus\", 1, [250, 100]),\n",
        "(3, \"Ana Maria Silva\", 4, [250, 100])])\\\n",
        ".toDF(\"id\", \"name\", \"graduate_program\", \"spark_status\")\n",
        "\n",
        "programa_graduacao = spark.createDataFrame([\n",
        "(0, \"Masters\", \"School of Information\", \"UC Berkeley\"),\n",
        "(2, \"Masters\", \"EECS\", \"UC Berkeley\"),\n",
        "(1, \"Ph.D.\", \"EECS\", \"UC Berkeley\")])\\\n",
        ".toDF(\"id\", \"degree\", \"department\", \"school\")\n",
        "\n",
        "status = spark.createDataFrame([\n",
        "(500, \"Vice President\"),\n",
        "(250, \"PMC Member\"),\n",
        "(100, \"Contributor\")])\\\n",
        ".toDF(\"id\", \"status\")"
      ],
      "metadata": {
        "application/vnd.databricks.v1+cell": {
          "title": "",
          "showTitle": false,
          "inputWidgets": {},
          "nuid": "c168cd35-fad8-4f9a-91d9-791260d28b2e"
        },
        "id": "RO72-_UsZ0zc"
      },
      "outputs": [],
      "execution_count": null
    },
    {
      "cell_type": "code",
      "source": [
        "# cria tabelas para os dataframes criados acima\n",
        "pessoa.createOrReplaceTempView(\"pessoa\")\n",
        "programa_graduacao.createOrReplaceTempView(\"programa_graduacao\")\n",
        "status.createOrReplaceTempView(\"status\")"
      ],
      "metadata": {
        "application/vnd.databricks.v1+cell": {
          "title": "",
          "showTitle": false,
          "inputWidgets": {},
          "nuid": "1789ecae-9945-4c94-9910-a84a1539cd11"
        },
        "id": "9BpNB2zMZ0zc"
      },
      "outputs": [],
      "execution_count": null
    },
    {
      "cell_type": "code",
      "source": [
        "# imprime os dataframes criados\n",
        "pessoa.show()\n",
        "programa_graduacao.show()\n",
        "status.show()"
      ],
      "metadata": {
        "application/vnd.databricks.v1+cell": {
          "title": "",
          "showTitle": false,
          "inputWidgets": {},
          "nuid": "791dae1c-f062-44c2-a436-459666ecdf87"
        },
        "id": "YVw9PJCQZ0zc",
        "outputId": "e3bbc5b2-cc46-441f-d3a7-76d0290e16c0",
        "colab": {
          "base_uri": "https://localhost:8080/"
        }
      },
      "outputs": [
        {
          "output_type": "stream",
          "name": "stdout",
          "text": [
            "+---+---------------+----------------+---------------+\n",
            "| id|           name|graduate_program|   spark_status|\n",
            "+---+---------------+----------------+---------------+\n",
            "|  0|  João de Maria|               0|          [100]|\n",
            "|  1|    Norma Maria|               1|[500, 250, 100]|\n",
            "|  2|   João de Deus|               1|     [250, 100]|\n",
            "|  3|Ana Maria Silva|               4|     [250, 100]|\n",
            "+---+---------------+----------------+---------------+\n",
            "\n",
            "+---+-------+--------------------+-----------+\n",
            "| id| degree|          department|     school|\n",
            "+---+-------+--------------------+-----------+\n",
            "|  0|Masters|School of Informa...|UC Berkeley|\n",
            "|  2|Masters|                EECS|UC Berkeley|\n",
            "|  1|  Ph.D.|                EECS|UC Berkeley|\n",
            "+---+-------+--------------------+-----------+\n",
            "\n",
            "+---+--------------+\n",
            "| id|        status|\n",
            "+---+--------------+\n",
            "|500|Vice President|\n",
            "|250|    PMC Member|\n",
            "|100|   Contributor|\n",
            "+---+--------------+\n",
            "\n"
          ]
        }
      ],
      "execution_count": null
    },
    {
      "cell_type": "code",
      "source": [
        "# cria um objeto com as chaves para fazer join\n",
        "keys_join = pessoa[\"graduate_program\"] == programa_graduacao['id']"
      ],
      "metadata": {
        "application/vnd.databricks.v1+cell": {
          "title": "",
          "showTitle": false,
          "inputWidgets": {},
          "nuid": "d6dce7f2-8571-4def-9f05-f473e3844a1b"
        },
        "id": "6EP3VlH6Z0zc"
      },
      "outputs": [],
      "execution_count": null
    },
    {
      "cell_type": "code",
      "source": [
        "# imprime objeto\n",
        "type(keys_join)"
      ],
      "metadata": {
        "application/vnd.databricks.v1+cell": {
          "title": "",
          "showTitle": false,
          "inputWidgets": {},
          "nuid": "604a913c-d841-43df-9f03-315a4ed6c678"
        },
        "id": "CtMzOb3pZ0zc",
        "outputId": "e5e0e2d1-a60a-405a-d2d7-37aedd1eb5d1",
        "colab": {
          "base_uri": "https://localhost:8080/",
          "height": 186
        }
      },
      "outputs": [
        {
          "output_type": "execute_result",
          "data": {
            "text/plain": [
              "pyspark.sql.column.Column"
            ],
            "text/html": [
              "<div style=\"max-width:800px; border: 1px solid var(--colab-border-color);\"><style>\n",
              "      pre.function-repr-contents {\n",
              "        overflow-x: auto;\n",
              "        padding: 8px 12px;\n",
              "        max-height: 500px;\n",
              "      }\n",
              "\n",
              "      pre.function-repr-contents.function-repr-contents-collapsed {\n",
              "        cursor: pointer;\n",
              "        max-height: 100px;\n",
              "      }\n",
              "    </style>\n",
              "    <pre style=\"white-space: initial; background:\n",
              "         var(--colab-secondary-surface-color); padding: 8px 12px;\n",
              "         border-bottom: 1px solid var(--colab-border-color);\"><b>pyspark.sql.column.Column</b><br/>def __init__(jc: JavaObject) -&gt; None</pre><pre class=\"function-repr-contents function-repr-contents-collapsed\" style=\"\"><a class=\"filepath\" style=\"display:none\" href=\"#\">/usr/local/lib/python3.11/dist-packages/pyspark/sql/column.py</a>A column in a DataFrame.\n",
              "\n",
              ".. versionadded:: 1.3.0\n",
              "\n",
              ".. versionchanged:: 3.4.0\n",
              "    Supports Spark Connect.\n",
              "\n",
              "Examples\n",
              "--------\n",
              "Column instances can be created by\n",
              "\n",
              "&gt;&gt;&gt; df = spark.createDataFrame(\n",
              "...      [(2, &quot;Alice&quot;), (5, &quot;Bob&quot;)], [&quot;age&quot;, &quot;name&quot;])\n",
              "\n",
              "Select a column out of a DataFrame\n",
              "&gt;&gt;&gt; df.name\n",
              "Column&lt;&#x27;name&#x27;&gt;\n",
              "&gt;&gt;&gt; df[&quot;name&quot;]\n",
              "Column&lt;&#x27;name&#x27;&gt;\n",
              "\n",
              "Create from an expression\n",
              "\n",
              "&gt;&gt;&gt; df.age + 1\n",
              "Column&lt;...&gt;\n",
              "&gt;&gt;&gt; 1 / df.age\n",
              "Column&lt;...&gt;</pre>\n",
              "      <script>\n",
              "      if (google.colab.kernel.accessAllowed && google.colab.files && google.colab.files.view) {\n",
              "        for (const element of document.querySelectorAll('.filepath')) {\n",
              "          element.style.display = 'block'\n",
              "          element.onclick = (event) => {\n",
              "            event.preventDefault();\n",
              "            event.stopPropagation();\n",
              "            google.colab.files.view(element.textContent, 185);\n",
              "          };\n",
              "        }\n",
              "      }\n",
              "      for (const element of document.querySelectorAll('.function-repr-contents')) {\n",
              "        element.onclick = (event) => {\n",
              "          event.preventDefault();\n",
              "          event.stopPropagation();\n",
              "          element.classList.toggle('function-repr-contents-collapsed');\n",
              "        };\n",
              "      }\n",
              "      </script>\n",
              "      </div>"
            ]
          },
          "metadata": {},
          "execution_count": 117
        }
      ],
      "execution_count": null
    },
    {
      "cell_type": "code",
      "source": [
        "# dataframe com inner join entre pessoa e programa de graduação\n",
        "pessoa.join(programa_graduacao, keys_join).show()"
      ],
      "metadata": {
        "application/vnd.databricks.v1+cell": {
          "title": "",
          "showTitle": false,
          "inputWidgets": {},
          "nuid": "bf1ee37c-d32f-49a3-9775-d30aa529a6a5"
        },
        "id": "1g7Xr6xEZ0zd",
        "outputId": "d11e9831-5ea7-4a34-a3db-e7368a45c0a5",
        "colab": {
          "base_uri": "https://localhost:8080/"
        }
      },
      "outputs": [
        {
          "output_type": "stream",
          "name": "stdout",
          "text": [
            "+---+-------------+----------------+---------------+---+-------+--------------------+-----------+\n",
            "| id|         name|graduate_program|   spark_status| id| degree|          department|     school|\n",
            "+---+-------------+----------------+---------------+---+-------+--------------------+-----------+\n",
            "|  0|João de Maria|               0|          [100]|  0|Masters|School of Informa...|UC Berkeley|\n",
            "|  1|  Norma Maria|               1|[500, 250, 100]|  1|  Ph.D.|                EECS|UC Berkeley|\n",
            "|  2| João de Deus|               1|     [250, 100]|  1|  Ph.D.|                EECS|UC Berkeley|\n",
            "+---+-------------+----------------+---------------+---+-------+--------------------+-----------+\n",
            "\n"
          ]
        }
      ],
      "execution_count": null
    },
    {
      "cell_type": "code",
      "source": [
        "# dataframe com inner join entre pessoa e programa de graduação\n",
        "# sintaxe join(dataframealvo, condição-de-join, tipo-de-join)\n",
        "\n",
        "pessoa.join(programa_graduacao, pessoa[\"graduate_program\"] == programa_graduacao['id'], 'inner').show()"
      ],
      "metadata": {
        "application/vnd.databricks.v1+cell": {
          "title": "",
          "showTitle": false,
          "inputWidgets": {},
          "nuid": "68f46117-9bd0-476e-9b00-249002ccb1a2"
        },
        "id": "2BaNhj0OZ0zd",
        "outputId": "1f23eae1-7466-492d-c9d5-0173db28f40e",
        "colab": {
          "base_uri": "https://localhost:8080/"
        }
      },
      "outputs": [
        {
          "output_type": "stream",
          "name": "stdout",
          "text": [
            "+---+-------------+----------------+---------------+---+-------+--------------------+-----------+\n",
            "| id|         name|graduate_program|   spark_status| id| degree|          department|     school|\n",
            "+---+-------------+----------------+---------------+---+-------+--------------------+-----------+\n",
            "|  0|João de Maria|               0|          [100]|  0|Masters|School of Informa...|UC Berkeley|\n",
            "|  1|  Norma Maria|               1|[500, 250, 100]|  1|  Ph.D.|                EECS|UC Berkeley|\n",
            "|  2| João de Deus|               1|     [250, 100]|  1|  Ph.D.|                EECS|UC Berkeley|\n",
            "+---+-------------+----------------+---------------+---+-------+--------------------+-----------+\n",
            "\n"
          ]
        }
      ],
      "execution_count": null
    },
    {
      "cell_type": "code",
      "source": [
        "%sql\n",
        "-- Inner join em SQL\n",
        "SELECT *\n",
        "FROM pessoa INNER JOIN programa_graduacao\n",
        "ON pessoa.graduate_program = programa_graduacao.id"
      ],
      "metadata": {
        "application/vnd.databricks.v1+cell": {
          "title": "",
          "showTitle": false,
          "inputWidgets": {},
          "nuid": "12619cb3-c953-4592-bcf5-85be3d2ef01c"
        },
        "id": "_FMAB1jiZ0zd",
        "outputId": "0549b874-d8f6-4e38-9bbe-3f661911c459",
        "colab": {
          "base_uri": "https://localhost:8080/",
          "height": 106
        }
      },
      "outputs": [
        {
          "output_type": "error",
          "ename": "SyntaxError",
          "evalue": "invalid syntax (<ipython-input-120-b5335dc5bb1f>, line 2)",
          "traceback": [
            "\u001b[0;36m  File \u001b[0;32m\"<ipython-input-120-b5335dc5bb1f>\"\u001b[0;36m, line \u001b[0;32m2\u001b[0m\n\u001b[0;31m    -- Inner join em SQL\u001b[0m\n\u001b[0m             ^\u001b[0m\n\u001b[0;31mSyntaxError\u001b[0m\u001b[0;31m:\u001b[0m invalid syntax\n"
          ]
        }
      ],
      "execution_count": null
    },
    {
      "cell_type": "code",
      "source": [
        "# Outer joins: retorna null para linhas que não existam em um dos dataframes e retorna qualquer dado em qualquer dataframe caso exista a chave\n",
        "join_type = \"outer\"\n",
        "pessoa.join(programa_graduacao, keys_join, join_type).show()"
      ],
      "metadata": {
        "application/vnd.databricks.v1+cell": {
          "title": "",
          "showTitle": false,
          "inputWidgets": {},
          "nuid": "f0ca8e36-5e54-4a86-942c-32c8fc9b6d00"
        },
        "id": "L4kmidubZ0zd",
        "outputId": "7c402da1-08a5-4c26-9a0c-6f91586eef2b",
        "colab": {
          "base_uri": "https://localhost:8080/"
        }
      },
      "outputs": [
        {
          "output_type": "stream",
          "name": "stdout",
          "text": [
            "+----+---------------+----------------+---------------+----+-------+--------------------+-----------+\n",
            "|  id|           name|graduate_program|   spark_status|  id| degree|          department|     school|\n",
            "+----+---------------+----------------+---------------+----+-------+--------------------+-----------+\n",
            "|   0|  João de Maria|               0|          [100]|   0|Masters|School of Informa...|UC Berkeley|\n",
            "|   1|    Norma Maria|               1|[500, 250, 100]|   1|  Ph.D.|                EECS|UC Berkeley|\n",
            "|   2|   João de Deus|               1|     [250, 100]|   1|  Ph.D.|                EECS|UC Berkeley|\n",
            "|NULL|           NULL|            NULL|           NULL|   2|Masters|                EECS|UC Berkeley|\n",
            "|   3|Ana Maria Silva|               4|     [250, 100]|NULL|   NULL|                NULL|       NULL|\n",
            "+----+---------------+----------------+---------------+----+-------+--------------------+-----------+\n",
            "\n"
          ]
        }
      ],
      "execution_count": null
    },
    {
      "cell_type": "code",
      "source": [
        "%sql\n",
        "-- Outer join em SQL\n",
        "SELECT *\n",
        "FROM pessoa FULL OUTER JOIN programa_graduacao\n",
        "ON pessoa.graduate_program = programa_graduacao.id"
      ],
      "metadata": {
        "application/vnd.databricks.v1+cell": {
          "title": "",
          "showTitle": false,
          "inputWidgets": {},
          "nuid": "b9186f55-b8f0-4d5b-ab5b-e94e8ad7ff87"
        },
        "id": "GVxvLm5zZ0zd",
        "outputId": "71fac23c-a2af-4460-b6e6-82cd47996318",
        "colab": {
          "base_uri": "https://localhost:8080/",
          "height": 106
        }
      },
      "outputs": [
        {
          "output_type": "error",
          "ename": "SyntaxError",
          "evalue": "invalid syntax (<ipython-input-122-b08b17b4bf76>, line 2)",
          "traceback": [
            "\u001b[0;36m  File \u001b[0;32m\"<ipython-input-122-b08b17b4bf76>\"\u001b[0;36m, line \u001b[0;32m2\u001b[0m\n\u001b[0;31m    -- Outer join em SQL\u001b[0m\n\u001b[0m             ^\u001b[0m\n\u001b[0;31mSyntaxError\u001b[0m\u001b[0;31m:\u001b[0m invalid syntax\n"
          ]
        }
      ],
      "execution_count": null
    },
    {
      "cell_type": "code",
      "source": [
        "# Left joins: retorna null para linhas que não existam no dataframe da direita\n",
        "join_type = \"left_outer\"\n",
        "pessoa.join(programa_graduacao, keys_join, join_type).show()"
      ],
      "metadata": {
        "application/vnd.databricks.v1+cell": {
          "title": "",
          "showTitle": false,
          "inputWidgets": {},
          "nuid": "0b6cb032-f093-432f-86f3-19d9c33bb351"
        },
        "id": "D5alUUqdZ0zd",
        "outputId": "e814888d-d997-4442-aa65-2ba73796e66c",
        "colab": {
          "base_uri": "https://localhost:8080/"
        }
      },
      "outputs": [
        {
          "output_type": "stream",
          "name": "stdout",
          "text": [
            "+---+---------------+----------------+---------------+----+-------+--------------------+-----------+\n",
            "| id|           name|graduate_program|   spark_status|  id| degree|          department|     school|\n",
            "+---+---------------+----------------+---------------+----+-------+--------------------+-----------+\n",
            "|  0|  João de Maria|               0|          [100]|   0|Masters|School of Informa...|UC Berkeley|\n",
            "|  1|    Norma Maria|               1|[500, 250, 100]|   1|  Ph.D.|                EECS|UC Berkeley|\n",
            "|  2|   João de Deus|               1|     [250, 100]|   1|  Ph.D.|                EECS|UC Berkeley|\n",
            "|  3|Ana Maria Silva|               4|     [250, 100]|NULL|   NULL|                NULL|       NULL|\n",
            "+---+---------------+----------------+---------------+----+-------+--------------------+-----------+\n",
            "\n"
          ]
        }
      ],
      "execution_count": null
    },
    {
      "cell_type": "code",
      "source": [
        "%sql\n",
        "-- Left outer join em SQL\n",
        "SELECT *\n",
        "FROM pessoa LEFT OUTER JOIN programa_graduacao\n",
        "ON pessoa.graduate_program = programa_graduacao.id"
      ],
      "metadata": {
        "application/vnd.databricks.v1+cell": {
          "title": "",
          "showTitle": false,
          "inputWidgets": {},
          "nuid": "f285844b-57cf-4fa1-ad37-6caf0f282c0a"
        },
        "id": "msx8vYnuZ0zd",
        "outputId": "d749e3f5-89f7-4999-99c9-9e4b7530aa20",
        "colab": {
          "base_uri": "https://localhost:8080/",
          "height": 106
        }
      },
      "outputs": [
        {
          "output_type": "error",
          "ename": "SyntaxError",
          "evalue": "invalid syntax (<ipython-input-124-460b6a136e48>, line 2)",
          "traceback": [
            "\u001b[0;36m  File \u001b[0;32m\"<ipython-input-124-460b6a136e48>\"\u001b[0;36m, line \u001b[0;32m2\u001b[0m\n\u001b[0;31m    -- Left outer join em SQL\u001b[0m\n\u001b[0m            ^\u001b[0m\n\u001b[0;31mSyntaxError\u001b[0m\u001b[0;31m:\u001b[0m invalid syntax\n"
          ]
        }
      ],
      "execution_count": null
    },
    {
      "cell_type": "code",
      "source": [
        "# Right joins: retorna null para linhas que não existam no dataframe a esquerda\n",
        "join_type = \"right_outer\"\n",
        "pessoa.join(programa_graduacao, keys_join, join_type).show()"
      ],
      "metadata": {
        "application/vnd.databricks.v1+cell": {
          "title": "",
          "showTitle": false,
          "inputWidgets": {},
          "nuid": "1c544d1f-76a8-4db0-ad88-2a36c3e4eda8"
        },
        "id": "reyKhCrdZ0zd",
        "outputId": "1c7338e4-b861-4d7d-913a-c0a51fd2e999",
        "colab": {
          "base_uri": "https://localhost:8080/"
        }
      },
      "outputs": [
        {
          "output_type": "stream",
          "name": "stdout",
          "text": [
            "+----+-------------+----------------+---------------+---+-------+--------------------+-----------+\n",
            "|  id|         name|graduate_program|   spark_status| id| degree|          department|     school|\n",
            "+----+-------------+----------------+---------------+---+-------+--------------------+-----------+\n",
            "|   0|João de Maria|               0|          [100]|  0|Masters|School of Informa...|UC Berkeley|\n",
            "|   2| João de Deus|               1|     [250, 100]|  1|  Ph.D.|                EECS|UC Berkeley|\n",
            "|   1|  Norma Maria|               1|[500, 250, 100]|  1|  Ph.D.|                EECS|UC Berkeley|\n",
            "|NULL|         NULL|            NULL|           NULL|  2|Masters|                EECS|UC Berkeley|\n",
            "+----+-------------+----------------+---------------+---+-------+--------------------+-----------+\n",
            "\n"
          ]
        }
      ],
      "execution_count": null
    },
    {
      "cell_type": "code",
      "source": [
        "%sql\n",
        "-- Right join em SQL\n",
        "SELECT *\n",
        "FROM pessoa RIGHT OUTER JOIN programa_graduacao\n",
        "ON pessoa.graduate_program = programa_graduacao.id"
      ],
      "metadata": {
        "application/vnd.databricks.v1+cell": {
          "title": "",
          "showTitle": false,
          "inputWidgets": {},
          "nuid": "5e35ecb2-c3ba-440f-aaa3-479a1f474bfa"
        },
        "id": "0sEk4Q-YZ0zd",
        "outputId": "e11ff9a4-6e58-4ae3-a8c2-60343510d5d1",
        "colab": {
          "base_uri": "https://localhost:8080/",
          "height": 106
        }
      },
      "outputs": [
        {
          "output_type": "error",
          "ename": "SyntaxError",
          "evalue": "invalid syntax (<ipython-input-126-dca921c9d1d4>, line 2)",
          "traceback": [
            "\u001b[0;36m  File \u001b[0;32m\"<ipython-input-126-dca921c9d1d4>\"\u001b[0;36m, line \u001b[0;32m2\u001b[0m\n\u001b[0;31m    -- Right join em SQL\u001b[0m\n\u001b[0m             ^\u001b[0m\n\u001b[0;31mSyntaxError\u001b[0m\u001b[0;31m:\u001b[0m invalid syntax\n"
          ]
        }
      ],
      "execution_count": null
    },
    {
      "cell_type": "markdown",
      "source": [
        "#### Condições"
      ],
      "metadata": {
        "application/vnd.databricks.v1+cell": {
          "title": "",
          "showTitle": false,
          "inputWidgets": {},
          "nuid": "4337c360-e28a-4812-8892-41b34721ccd8"
        },
        "id": "cI15hDSRZ0zd"
      }
    },
    {
      "cell_type": "code",
      "source": [
        "# altera a condição de join\n",
        "keys_join = ((pessoa[\"graduate_program\"] == programa_graduacao[\"id\"]) & (pessoa[\"graduate_program\"] > 0))\n",
        "join_type = \"inner\"\n",
        "pessoa.join(programa_graduacao, keys_join, join_type).show()"
      ],
      "metadata": {
        "application/vnd.databricks.v1+cell": {
          "title": "",
          "showTitle": false,
          "inputWidgets": {},
          "nuid": "c725a647-a79d-43ef-9b13-a1350917b294"
        },
        "id": "huHs8mFjZ0zd",
        "outputId": "2fb630cb-2eb0-46af-8e93-cefb425f33fb",
        "colab": {
          "base_uri": "https://localhost:8080/"
        }
      },
      "outputs": [
        {
          "output_type": "stream",
          "name": "stdout",
          "text": [
            "+---+------------+----------------+---------------+---+------+----------+-----------+\n",
            "| id|        name|graduate_program|   spark_status| id|degree|department|     school|\n",
            "+---+------------+----------------+---------------+---+------+----------+-----------+\n",
            "|  1| Norma Maria|               1|[500, 250, 100]|  1| Ph.D.|      EECS|UC Berkeley|\n",
            "|  2|João de Deus|               1|     [250, 100]|  1| Ph.D.|      EECS|UC Berkeley|\n",
            "+---+------------+----------------+---------------+---+------+----------+-----------+\n",
            "\n"
          ]
        }
      ],
      "execution_count": null
    },
    {
      "cell_type": "code",
      "source": [
        "%sql\n",
        "-- Inner join em SQL\n",
        "-- adicionando uma codição where\n",
        "SELECT *\n",
        "FROM pessoa INNER JOIN programa_graduacao\n",
        "ON pessoa.graduate_program = programa_graduacao.id\n",
        "WHERE pessoa.graduate_program > 0"
      ],
      "metadata": {
        "application/vnd.databricks.v1+cell": {
          "title": "",
          "showTitle": false,
          "inputWidgets": {},
          "nuid": "d7a109be-0fd8-428b-9af1-006436ac7ecb"
        },
        "id": "yVzwgr3MZ0ze",
        "outputId": "71529bd5-f1eb-4340-8af1-266c7d38db0a",
        "colab": {
          "base_uri": "https://localhost:8080/",
          "height": 106
        }
      },
      "outputs": [
        {
          "output_type": "error",
          "ename": "SyntaxError",
          "evalue": "invalid syntax (<ipython-input-128-03b48f385202>, line 2)",
          "traceback": [
            "\u001b[0;36m  File \u001b[0;32m\"<ipython-input-128-03b48f385202>\"\u001b[0;36m, line \u001b[0;32m2\u001b[0m\n\u001b[0;31m    -- Inner join em SQL\u001b[0m\n\u001b[0m             ^\u001b[0m\n\u001b[0;31mSyntaxError\u001b[0m\u001b[0;31m:\u001b[0m invalid syntax\n"
          ]
        }
      ],
      "execution_count": null
    },
    {
      "cell_type": "code",
      "source": [
        "# Condições mais complexas usando expressão\n",
        "\n",
        "from pyspark.sql.functions import expr\n",
        "\n",
        "pessoa.withColumnRenamed(\"id\", \"personId\")\\\n",
        ".join(status, expr(\"array_contains(spark_status, id)\")).show()"
      ],
      "metadata": {
        "application/vnd.databricks.v1+cell": {
          "title": "",
          "showTitle": false,
          "inputWidgets": {},
          "nuid": "f46dfaaa-f267-41b4-8757-69734c63a9dd"
        },
        "id": "wtLvau3kZ0ze",
        "outputId": "2eabc4e2-1e40-442c-da08-fb5705a4927a",
        "colab": {
          "base_uri": "https://localhost:8080/"
        }
      },
      "outputs": [
        {
          "output_type": "stream",
          "name": "stdout",
          "text": [
            "+--------+---------------+----------------+---------------+---+--------------+\n",
            "|personId|           name|graduate_program|   spark_status| id|        status|\n",
            "+--------+---------------+----------------+---------------+---+--------------+\n",
            "|       0|  João de Maria|               0|          [100]|100|   Contributor|\n",
            "|       1|    Norma Maria|               1|[500, 250, 100]|500|Vice President|\n",
            "|       1|    Norma Maria|               1|[500, 250, 100]|250|    PMC Member|\n",
            "|       1|    Norma Maria|               1|[500, 250, 100]|100|   Contributor|\n",
            "|       2|   João de Deus|               1|     [250, 100]|250|    PMC Member|\n",
            "|       2|   João de Deus|               1|     [250, 100]|100|   Contributor|\n",
            "|       3|Ana Maria Silva|               4|     [250, 100]|250|    PMC Member|\n",
            "|       3|Ana Maria Silva|               4|     [250, 100]|100|   Contributor|\n",
            "+--------+---------------+----------------+---------------+---+--------------+\n",
            "\n"
          ]
        }
      ],
      "execution_count": null
    },
    {
      "cell_type": "code",
      "source": [
        "%sql\n",
        "-- Condições mais complexas usando expressão feitas em SQL\n",
        "SELECT *\n",
        "FROM\n",
        "  (select id as personId\n",
        "         ,name\n",
        "         ,graduate_program\n",
        "         ,spark_status\n",
        "   FROM pessoa)\n",
        "  INNER JOIN status ON array_contains(spark_status, id)"
      ],
      "metadata": {
        "application/vnd.databricks.v1+cell": {
          "title": "",
          "showTitle": false,
          "inputWidgets": {},
          "nuid": "a54d5596-834b-4310-9a60-bf33d632b829"
        },
        "id": "auOcfHseZ0ze",
        "outputId": "226dc162-167c-4bfa-83bb-06ebb9e8ac04",
        "colab": {
          "base_uri": "https://localhost:8080/",
          "height": 106
        }
      },
      "outputs": [
        {
          "output_type": "error",
          "ename": "SyntaxError",
          "evalue": "invalid syntax (<ipython-input-130-2fe5cb21b9e5>, line 2)",
          "traceback": [
            "\u001b[0;36m  File \u001b[0;32m\"<ipython-input-130-2fe5cb21b9e5>\"\u001b[0;36m, line \u001b[0;32m2\u001b[0m\n\u001b[0;31m    -- Condições mais complexas usando expressão feitas em SQL\u001b[0m\n\u001b[0m                 ^\u001b[0m\n\u001b[0;31mSyntaxError\u001b[0m\u001b[0;31m:\u001b[0m invalid syntax\n"
          ]
        }
      ],
      "execution_count": null
    },
    {
      "cell_type": "markdown",
      "source": [
        "#### Trabalhando com UDFs\n",
        "- Integração de código entre as APIs\n",
        "- É preciso cuidado com performance dos códigos usando UDFs"
      ],
      "metadata": {
        "application/vnd.databricks.v1+cell": {
          "title": "",
          "showTitle": false,
          "inputWidgets": {},
          "nuid": "f0f2e11d-610c-4b1b-8a46-ac5f6f987fe6"
        },
        "id": "8EpC58Z6Z0ze"
      }
    },
    {
      "cell_type": "code",
      "source": [
        "from pyspark.sql.types import LongType\n",
        "# define a função\n",
        "def quadrado(s):\n",
        "  return s * s"
      ],
      "metadata": {
        "application/vnd.databricks.v1+cell": {
          "title": "",
          "showTitle": false,
          "inputWidgets": {},
          "nuid": "6a7006b8-1704-407a-b105-0f414ff89a72"
        },
        "id": "i_QcgBxmZ0ze"
      },
      "outputs": [],
      "execution_count": null
    },
    {
      "cell_type": "code",
      "source": [
        "# registra no banco de dados do spark e define o tipo de retorno por padrão é stringtype\n",
        "from pyspark.sql.types import LongType\n",
        "spark.udf.register(\"Func_Py_Quadrado\", quadrado, LongType())"
      ],
      "metadata": {
        "application/vnd.databricks.v1+cell": {
          "title": "",
          "showTitle": false,
          "inputWidgets": {},
          "nuid": "41f9f0c3-8568-4a21-8513-11dcea8b74cd"
        },
        "id": "MvHcbE0hZ0ze",
        "outputId": "51a95665-dffe-4e43-8c0e-aaa2f1fe02e4",
        "colab": {
          "base_uri": "https://localhost:8080/",
          "height": 103
        }
      },
      "outputs": [
        {
          "output_type": "execute_result",
          "data": {
            "text/plain": [
              "<function __main__.quadrado(s)>"
            ],
            "text/html": [
              "<div style=\"max-width:800px; border: 1px solid var(--colab-border-color);\"><style>\n",
              "      pre.function-repr-contents {\n",
              "        overflow-x: auto;\n",
              "        padding: 8px 12px;\n",
              "        max-height: 500px;\n",
              "      }\n",
              "\n",
              "      pre.function-repr-contents.function-repr-contents-collapsed {\n",
              "        cursor: pointer;\n",
              "        max-height: 100px;\n",
              "      }\n",
              "    </style>\n",
              "    <pre style=\"white-space: initial; background:\n",
              "         var(--colab-secondary-surface-color); padding: 8px 12px;\n",
              "         border-bottom: 1px solid var(--colab-border-color);\"><b>quadrado</b><br/>def quadrado(s)</pre><pre class=\"function-repr-contents function-repr-contents-collapsed\" style=\"\"><a class=\"filepath\" style=\"display:none\" href=\"#\">/content/&lt;ipython-input-131-46b2e5eafe04&gt;</a>&lt;no docstring&gt;</pre></div>"
            ]
          },
          "metadata": {},
          "execution_count": 132
        }
      ],
      "execution_count": null
    },
    {
      "cell_type": "code",
      "source": [
        "# gera valores aleatórios\n",
        "spark.range(1, 20).show()"
      ],
      "metadata": {
        "application/vnd.databricks.v1+cell": {
          "title": "",
          "showTitle": false,
          "inputWidgets": {},
          "nuid": "220b1a54-f633-4c03-bec5-2ddaf981ae5b"
        },
        "id": "ptCp0QZlZ0ze",
        "outputId": "6efcb42c-33a0-4031-878f-e14551a470e3",
        "colab": {
          "base_uri": "https://localhost:8080/"
        }
      },
      "outputs": [
        {
          "output_type": "stream",
          "name": "stdout",
          "text": [
            "+---+\n",
            "| id|\n",
            "+---+\n",
            "|  1|\n",
            "|  2|\n",
            "|  3|\n",
            "|  4|\n",
            "|  5|\n",
            "|  6|\n",
            "|  7|\n",
            "|  8|\n",
            "|  9|\n",
            "| 10|\n",
            "| 11|\n",
            "| 12|\n",
            "| 13|\n",
            "| 14|\n",
            "| 15|\n",
            "| 16|\n",
            "| 17|\n",
            "| 18|\n",
            "| 19|\n",
            "+---+\n",
            "\n"
          ]
        }
      ],
      "execution_count": null
    },
    {
      "cell_type": "code",
      "source": [
        "# cria a visão View_temp\n",
        "spark.range(1, 20).createOrReplaceTempView(\"View_temp\")"
      ],
      "metadata": {
        "application/vnd.databricks.v1+cell": {
          "title": "",
          "showTitle": false,
          "inputWidgets": {},
          "nuid": "e8898e96-1c71-4d9a-9687-349f3bfe0c4d"
        },
        "id": "GQCx2AUeZ0ze"
      },
      "outputs": [],
      "execution_count": null
    },
    {
      "cell_type": "code",
      "source": [
        "%sql\n",
        "-- Usando a função criada em python juntamente com código SQL\n",
        "select id,\n",
        "       Func_Py_Quadrado(id) as id_ao_quadrado\n",
        "from View_temp"
      ],
      "metadata": {
        "application/vnd.databricks.v1+cell": {
          "title": "",
          "showTitle": false,
          "inputWidgets": {},
          "nuid": "ee81465a-9033-4660-84fb-7df45af4147a"
        },
        "id": "woi9nYqiZ0ze",
        "outputId": "fc95b4ae-b4f7-4bdd-9c48-5d2ae4d8479a",
        "colab": {
          "base_uri": "https://localhost:8080/",
          "height": 106
        }
      },
      "outputs": [
        {
          "output_type": "error",
          "ename": "SyntaxError",
          "evalue": "invalid syntax (<ipython-input-135-4f1ed196c83b>, line 2)",
          "traceback": [
            "\u001b[0;36m  File \u001b[0;32m\"<ipython-input-135-4f1ed196c83b>\"\u001b[0;36m, line \u001b[0;32m2\u001b[0m\n\u001b[0;31m    -- Usando a função criada em python juntamente com código SQL\u001b[0m\n\u001b[0m              ^\u001b[0m\n\u001b[0;31mSyntaxError\u001b[0m\u001b[0;31m:\u001b[0m invalid syntax\n"
          ]
        }
      ],
      "execution_count": null
    },
    {
      "cell_type": "markdown",
      "source": [
        "#### UDFs com Dataframes"
      ],
      "metadata": {
        "application/vnd.databricks.v1+cell": {
          "title": "",
          "showTitle": false,
          "inputWidgets": {},
          "nuid": "32066c17-5b3c-414c-bab7-24ef67c3110b"
        },
        "id": "2wSVfJqbZ0ze"
      }
    },
    {
      "cell_type": "code",
      "source": [
        "from pyspark.sql.functions import udf\n",
        "from pyspark.sql.types import LongType\n",
        "# registra a Udf\n",
        "Func_Py_Quadrado = udf(quadrado, LongType())"
      ],
      "metadata": {
        "application/vnd.databricks.v1+cell": {
          "title": "",
          "showTitle": false,
          "inputWidgets": {},
          "nuid": "32af5f11-12c1-424a-a169-f2dcf16cbe72"
        },
        "id": "tcHNRAi9Z0ze"
      },
      "outputs": [],
      "execution_count": null
    },
    {
      "cell_type": "code",
      "source": [
        "# cria um dataframe apartir da tabela temporária\n",
        "df = spark.table(\"View_temp\")"
      ],
      "metadata": {
        "application/vnd.databricks.v1+cell": {
          "title": "",
          "showTitle": false,
          "inputWidgets": {},
          "nuid": "3e3671e2-f73a-4678-a962-0c74abe59fc0"
        },
        "id": "yOSNg_srZ0ze"
      },
      "outputs": [],
      "execution_count": null
    },
    {
      "cell_type": "code",
      "source": [
        "# imprime o dataframe\n",
        "df.show(10)"
      ],
      "metadata": {
        "application/vnd.databricks.v1+cell": {
          "title": "",
          "showTitle": false,
          "inputWidgets": {},
          "nuid": "2eb58df1-2250-4d1e-a8de-0bb7ddddf805"
        },
        "id": "9ROXdpWIZ0zf",
        "outputId": "c232ac23-3f52-4ff0-9af8-ac4f99ac34bc",
        "colab": {
          "base_uri": "https://localhost:8080/"
        }
      },
      "outputs": [
        {
          "output_type": "stream",
          "name": "stdout",
          "text": [
            "+---+\n",
            "| id|\n",
            "+---+\n",
            "|  1|\n",
            "|  2|\n",
            "|  3|\n",
            "|  4|\n",
            "|  5|\n",
            "|  6|\n",
            "|  7|\n",
            "|  8|\n",
            "|  9|\n",
            "| 10|\n",
            "+---+\n",
            "only showing top 10 rows\n",
            "\n"
          ]
        }
      ],
      "execution_count": null
    },
    {
      "cell_type": "code",
      "source": [
        "# usando o dataframe juntamente com a Udf registrada\n",
        "df.select(\"id\", Func_Py_Quadrado(\"id\").alias(\"id_quadrado\")).show(20)"
      ],
      "metadata": {
        "application/vnd.databricks.v1+cell": {
          "title": "",
          "showTitle": false,
          "inputWidgets": {},
          "nuid": "b7985ce8-5ec9-4bed-9420-5e3de992cd49"
        },
        "id": "UQCG_IJzZ0zf",
        "outputId": "f1b31e03-1930-4eae-bd99-820f0f39a592",
        "colab": {
          "base_uri": "https://localhost:8080/"
        }
      },
      "outputs": [
        {
          "output_type": "stream",
          "name": "stdout",
          "text": [
            "+---+-----------+\n",
            "| id|id_quadrado|\n",
            "+---+-----------+\n",
            "|  1|          1|\n",
            "|  2|          4|\n",
            "|  3|          9|\n",
            "|  4|         16|\n",
            "|  5|         25|\n",
            "|  6|         36|\n",
            "|  7|         49|\n",
            "|  8|         64|\n",
            "|  9|         81|\n",
            "| 10|        100|\n",
            "| 11|        121|\n",
            "| 12|        144|\n",
            "| 13|        169|\n",
            "| 14|        196|\n",
            "| 15|        225|\n",
            "| 16|        256|\n",
            "| 17|        289|\n",
            "| 18|        324|\n",
            "| 19|        361|\n",
            "+---+-----------+\n",
            "\n"
          ]
        }
      ],
      "execution_count": null
    },
    {
      "cell_type": "markdown",
      "source": [
        "#### Koalas\n",
        "- Koalas é um projeto de código aberto que fornece um substituto imediato para os pandas.\n",
        "- O pandas é comumente usado por ser um pacote que fornece estruturas de dados e ferramentas de análise de dados fáceis de usar para a linguagem de programação Python.\n",
        "- O Koalas preenche essa lacuna fornecendo APIs equivalentes ao pandas que funcionam no Apache Spark.\n",
        "- Koalas é útil não apenas para usuários de pandas, mas também para usuários de PySpark.\n",
        "  - Koalas suporta muitas tarefas que são difíceis de fazer com PySpark, por exemplo, plotar dados diretamente de um PySpark DataFrame.\n",
        "- Koalas suporta SQL diretamente em seus dataframes."
      ],
      "metadata": {
        "application/vnd.databricks.v1+cell": {
          "title": "",
          "showTitle": false,
          "inputWidgets": {},
          "nuid": "c7f588ae-a176-4709-a1cf-a435b23d8f96"
        },
        "id": "-xwxUuiuZ0zf"
      }
    },
    {
      "cell_type": "code",
      "source": [
        "import numpy as np\n",
        "import pandas as pd\n",
        "import databricks.koalas as ks"
      ],
      "metadata": {
        "application/vnd.databricks.v1+cell": {
          "title": "",
          "showTitle": false,
          "inputWidgets": {},
          "nuid": "2a53606b-2640-41d1-a2f1-346320024409"
        },
        "id": "e8tW2CTjZ0zf",
        "outputId": "100a03bd-a3b8-4f8a-e75f-32d6dd5a80a5"
      },
      "outputs": [
        {
          "output_type": "display_data",
          "metadata": {
            "application/vnd.databricks.v1+output": {
              "data": "",
              "errorSummary": "",
              "metadata": {},
              "errorTraceType": null,
              "type": "ipynbError",
              "arguments": {}
            }
          },
          "data": {
            "text/html": [
              "<style scoped>\n  .ansiout {\n    display: block;\n    unicode-bidi: embed;\n    white-space: pre-wrap;\n    word-wrap: break-word;\n    word-break: break-all;\n    font-family: \"Source Code Pro\", \"Menlo\", monospace;;\n    font-size: 13px;\n    color: #555;\n    margin-left: 4px;\n    line-height: 19px;\n  }\n</style>"
            ]
          },
          "transient": null
        }
      ],
      "execution_count": null
    },
    {
      "cell_type": "code",
      "source": [
        "# cria um pandas DataFrame\n",
        "pdf = pd.DataFrame({'A': np.random.rand(5),\n",
        "                    'B': np.random.rand(5)})"
      ],
      "metadata": {
        "application/vnd.databricks.v1+cell": {
          "title": "",
          "showTitle": false,
          "inputWidgets": {},
          "nuid": "d9e1ba23-e831-418c-a9fe-422e614e668c"
        },
        "id": "VvzXqEmjZ0zf",
        "outputId": "b87457e5-de64-422e-fddd-2c3759b28b32"
      },
      "outputs": [
        {
          "output_type": "display_data",
          "metadata": {
            "application/vnd.databricks.v1+output": {
              "data": "",
              "errorSummary": "",
              "metadata": {},
              "errorTraceType": null,
              "type": "ipynbError",
              "arguments": {}
            }
          },
          "data": {
            "text/html": [
              "<style scoped>\n  .ansiout {\n    display: block;\n    unicode-bidi: embed;\n    white-space: pre-wrap;\n    word-wrap: break-word;\n    word-break: break-all;\n    font-family: \"Source Code Pro\", \"Menlo\", monospace;;\n    font-size: 13px;\n    color: #555;\n    margin-left: 4px;\n    line-height: 19px;\n  }\n</style>"
            ]
          },
          "transient": null
        }
      ],
      "execution_count": null
    },
    {
      "cell_type": "code",
      "source": [
        "# imprime um pandas dataframe\n",
        "type(pdf)"
      ],
      "metadata": {
        "application/vnd.databricks.v1+cell": {
          "title": "",
          "showTitle": false,
          "inputWidgets": {},
          "nuid": "5fff4336-9952-43fb-b775-27cb8876289f"
        },
        "id": "wCcRo18pZ0zf",
        "outputId": "ba822631-5687-4831-92ab-b4153c77a2ba"
      },
      "outputs": [
        {
          "output_type": "display_data",
          "metadata": {
            "application/vnd.databricks.v1+output": {
              "data": "",
              "errorSummary": "",
              "metadata": {},
              "errorTraceType": null,
              "type": "ipynbError",
              "arguments": {}
            }
          },
          "data": {
            "text/html": [
              "<style scoped>\n  .ansiout {\n    display: block;\n    unicode-bidi: embed;\n    white-space: pre-wrap;\n    word-wrap: break-word;\n    word-break: break-all;\n    font-family: \"Source Code Pro\", \"Menlo\", monospace;;\n    font-size: 13px;\n    color: #555;\n    margin-left: 4px;\n    line-height: 19px;\n  }\n</style>"
            ]
          },
          "transient": null
        }
      ],
      "execution_count": null
    },
    {
      "cell_type": "code",
      "source": [
        "# Cria um Koalas DataFrame\n",
        "kdf = ks.DataFrame({'A': np.random.rand(5),\n",
        "                    'B': np.random.rand(5)})"
      ],
      "metadata": {
        "application/vnd.databricks.v1+cell": {
          "title": "",
          "showTitle": false,
          "inputWidgets": {},
          "nuid": "43617875-6ee4-434f-9dd0-18637a6f9886"
        },
        "id": "NYiYXgMEZ0zf",
        "outputId": "c05d33e4-320f-447b-b5fe-deae327f9fc3"
      },
      "outputs": [
        {
          "output_type": "display_data",
          "metadata": {
            "application/vnd.databricks.v1+output": {
              "data": "",
              "errorSummary": "",
              "metadata": {},
              "errorTraceType": null,
              "type": "ipynbError",
              "arguments": {}
            }
          },
          "data": {
            "text/html": [
              "<style scoped>\n  .ansiout {\n    display: block;\n    unicode-bidi: embed;\n    white-space: pre-wrap;\n    word-wrap: break-word;\n    word-break: break-all;\n    font-family: \"Source Code Pro\", \"Menlo\", monospace;;\n    font-size: 13px;\n    color: #555;\n    margin-left: 4px;\n    line-height: 19px;\n  }\n</style>"
            ]
          },
          "transient": null
        }
      ],
      "execution_count": null
    },
    {
      "cell_type": "code",
      "source": [
        "# imprime o tipo de dados\n",
        "type(kdf)"
      ],
      "metadata": {
        "application/vnd.databricks.v1+cell": {
          "title": "",
          "showTitle": false,
          "inputWidgets": {},
          "nuid": "d50ab546-ae45-4a31-916e-e924098e7f95"
        },
        "id": "VaOycirpZ0zf",
        "outputId": "f97e9657-5591-4d70-b5c3-60809673bd77"
      },
      "outputs": [
        {
          "output_type": "display_data",
          "metadata": {
            "application/vnd.databricks.v1+output": {
              "data": "",
              "errorSummary": "",
              "metadata": {},
              "errorTraceType": null,
              "type": "ipynbError",
              "arguments": {}
            }
          },
          "data": {
            "text/html": [
              "<style scoped>\n  .ansiout {\n    display: block;\n    unicode-bidi: embed;\n    white-space: pre-wrap;\n    word-wrap: break-word;\n    word-break: break-all;\n    font-family: \"Source Code Pro\", \"Menlo\", monospace;;\n    font-size: 13px;\n    color: #555;\n    margin-left: 4px;\n    line-height: 19px;\n  }\n</style>"
            ]
          },
          "transient": null
        }
      ],
      "execution_count": null
    },
    {
      "cell_type": "code",
      "source": [
        "# Cria um Koalas dataframe a partir de um pandas dataframe\n",
        "kdf = ks.DataFrame(pdf)\n",
        "type(kdf)"
      ],
      "metadata": {
        "application/vnd.databricks.v1+cell": {
          "title": "",
          "showTitle": false,
          "inputWidgets": {},
          "nuid": "c20da2c8-a1a9-4073-a2bb-aab2d9d0cef3"
        },
        "id": "XdJt9_pzZ0zf",
        "outputId": "d85adde5-0b47-4a08-8f5e-586258b04d5b"
      },
      "outputs": [
        {
          "output_type": "display_data",
          "metadata": {
            "application/vnd.databricks.v1+output": {
              "data": "",
              "errorSummary": "",
              "metadata": {},
              "errorTraceType": null,
              "type": "ipynbError",
              "arguments": {}
            }
          },
          "data": {
            "text/html": [
              "<style scoped>\n  .ansiout {\n    display: block;\n    unicode-bidi: embed;\n    white-space: pre-wrap;\n    word-wrap: break-word;\n    word-break: break-all;\n    font-family: \"Source Code Pro\", \"Menlo\", monospace;;\n    font-size: 13px;\n    color: #555;\n    margin-left: 4px;\n    line-height: 19px;\n  }\n</style>"
            ]
          },
          "transient": null
        }
      ],
      "execution_count": null
    },
    {
      "cell_type": "code",
      "source": [
        "# métodos já conhecidos\n",
        "pdf.head()"
      ],
      "metadata": {
        "application/vnd.databricks.v1+cell": {
          "title": "",
          "showTitle": false,
          "inputWidgets": {},
          "nuid": "c89fb7bd-3a4e-4c65-b399-a3592504258e"
        },
        "id": "A4mzQkHUZ0zf",
        "outputId": "f84e86be-b40b-4d30-a15a-64fca96411bd"
      },
      "outputs": [
        {
          "output_type": "display_data",
          "metadata": {
            "application/vnd.databricks.v1+output": {
              "data": "",
              "errorSummary": "",
              "metadata": {},
              "errorTraceType": null,
              "type": "ipynbError",
              "arguments": {}
            }
          },
          "data": {
            "text/html": [
              "<style scoped>\n  .ansiout {\n    display: block;\n    unicode-bidi: embed;\n    white-space: pre-wrap;\n    word-wrap: break-word;\n    word-break: break-all;\n    font-family: \"Source Code Pro\", \"Menlo\", monospace;;\n    font-size: 13px;\n    color: #555;\n    margin-left: 4px;\n    line-height: 19px;\n  }\n</style>"
            ]
          },
          "transient": null
        }
      ],
      "execution_count": null
    },
    {
      "cell_type": "code",
      "source": [
        "# métodos já conhecidos\n",
        "kdf.head()"
      ],
      "metadata": {
        "application/vnd.databricks.v1+cell": {
          "title": "",
          "showTitle": false,
          "inputWidgets": {},
          "nuid": "68ab911e-3462-41ba-ab67-a7eef18b7111"
        },
        "id": "hgKW_1Z4Z0zf",
        "outputId": "44ddef2e-ecdc-4d67-ade5-a1ccc6d774cc"
      },
      "outputs": [
        {
          "output_type": "display_data",
          "metadata": {
            "application/vnd.databricks.v1+output": {
              "data": "",
              "errorSummary": "",
              "metadata": {},
              "errorTraceType": null,
              "type": "ipynbError",
              "arguments": {}
            }
          },
          "data": {
            "text/html": [
              "<style scoped>\n  .ansiout {\n    display: block;\n    unicode-bidi: embed;\n    white-space: pre-wrap;\n    word-wrap: break-word;\n    word-break: break-all;\n    font-family: \"Source Code Pro\", \"Menlo\", monospace;;\n    font-size: 13px;\n    color: #555;\n    margin-left: 4px;\n    line-height: 19px;\n  }\n</style>"
            ]
          },
          "transient": null
        }
      ],
      "execution_count": null
    },
    {
      "cell_type": "code",
      "source": [
        "# método describe()\n",
        "kdf.describe()"
      ],
      "metadata": {
        "application/vnd.databricks.v1+cell": {
          "title": "",
          "showTitle": false,
          "inputWidgets": {},
          "nuid": "b2cb3288-4d54-48bd-9d97-90bc0cd645b5"
        },
        "id": "L5YyDYoRZ0zf",
        "outputId": "b672ccd9-9d63-4a35-af93-7594d506a34b"
      },
      "outputs": [
        {
          "output_type": "display_data",
          "metadata": {
            "application/vnd.databricks.v1+output": {
              "data": "",
              "errorSummary": "",
              "metadata": {},
              "errorTraceType": null,
              "type": "ipynbError",
              "arguments": {}
            }
          },
          "data": {
            "text/html": [
              "<style scoped>\n  .ansiout {\n    display: block;\n    unicode-bidi: embed;\n    white-space: pre-wrap;\n    word-wrap: break-word;\n    word-break: break-all;\n    font-family: \"Source Code Pro\", \"Menlo\", monospace;;\n    font-size: 13px;\n    color: #555;\n    margin-left: 4px;\n    line-height: 19px;\n  }\n</style>"
            ]
          },
          "transient": null
        }
      ],
      "execution_count": null
    },
    {
      "cell_type": "code",
      "source": [
        "# ordenando um dataframe\n",
        "kdf.sort_values(by='B')"
      ],
      "metadata": {
        "application/vnd.databricks.v1+cell": {
          "title": "",
          "showTitle": false,
          "inputWidgets": {},
          "nuid": "285d1f0f-3a50-40dc-8d0a-f5cdb0452ad8"
        },
        "id": "bWBuVHT1Z0zg",
        "outputId": "754b80ac-7f33-42a5-8f90-fbb54e6b65ab"
      },
      "outputs": [
        {
          "output_type": "display_data",
          "metadata": {
            "application/vnd.databricks.v1+output": {
              "data": "",
              "errorSummary": "",
              "metadata": {},
              "errorTraceType": null,
              "type": "ipynbError",
              "arguments": {}
            }
          },
          "data": {
            "text/html": [
              "<style scoped>\n  .ansiout {\n    display: block;\n    unicode-bidi: embed;\n    white-space: pre-wrap;\n    word-wrap: break-word;\n    word-break: break-all;\n    font-family: \"Source Code Pro\", \"Menlo\", monospace;;\n    font-size: 13px;\n    color: #555;\n    margin-left: 4px;\n    line-height: 19px;\n  }\n</style>"
            ]
          },
          "transient": null
        }
      ],
      "execution_count": null
    },
    {
      "cell_type": "code",
      "source": [
        "# define configurações de layout de células\n",
        "from databricks.koalas.config import set_option, get_option\n",
        "ks.get_option('compute.max_rows')\n",
        "ks.set_option('compute.max_rows', 2000)"
      ],
      "metadata": {
        "application/vnd.databricks.v1+cell": {
          "title": "",
          "showTitle": false,
          "inputWidgets": {},
          "nuid": "96e546e8-a371-4901-9e26-5c81ba6217b9"
        },
        "id": "5bguA34oZ0zg",
        "outputId": "5dc4ecb8-3129-425b-917e-d1d56d4c169c"
      },
      "outputs": [
        {
          "output_type": "display_data",
          "metadata": {
            "application/vnd.databricks.v1+output": {
              "data": "",
              "errorSummary": "",
              "metadata": {},
              "errorTraceType": null,
              "type": "ipynbError",
              "arguments": {}
            }
          },
          "data": {
            "text/html": [
              "<style scoped>\n  .ansiout {\n    display: block;\n    unicode-bidi: embed;\n    white-space: pre-wrap;\n    word-wrap: break-word;\n    word-break: break-all;\n    font-family: \"Source Code Pro\", \"Menlo\", monospace;;\n    font-size: 13px;\n    color: #555;\n    margin-left: 4px;\n    line-height: 19px;\n  }\n</style>"
            ]
          },
          "transient": null
        }
      ],
      "execution_count": null
    },
    {
      "cell_type": "code",
      "source": [
        "# slice\n",
        "kdf[['A', 'B']]"
      ],
      "metadata": {
        "application/vnd.databricks.v1+cell": {
          "title": "",
          "showTitle": false,
          "inputWidgets": {},
          "nuid": "afe65630-ad4c-40e9-b73a-fe2b7756d897"
        },
        "id": "lAeLsZwXZ0zg",
        "outputId": "acd40b1f-2186-4470-c010-1914b1ed3525"
      },
      "outputs": [
        {
          "output_type": "display_data",
          "metadata": {
            "application/vnd.databricks.v1+output": {
              "data": "",
              "errorSummary": "",
              "metadata": {},
              "errorTraceType": null,
              "type": "ipynbError",
              "arguments": {}
            }
          },
          "data": {
            "text/html": [
              "<style scoped>\n  .ansiout {\n    display: block;\n    unicode-bidi: embed;\n    white-space: pre-wrap;\n    word-wrap: break-word;\n    word-break: break-all;\n    font-family: \"Source Code Pro\", \"Menlo\", monospace;;\n    font-size: 13px;\n    color: #555;\n    margin-left: 4px;\n    line-height: 19px;\n  }\n</style>"
            ]
          },
          "transient": null
        }
      ],
      "execution_count": null
    },
    {
      "cell_type": "code",
      "source": [
        "# slice\n",
        "kdf[['A', 'B']]"
      ],
      "metadata": {
        "application/vnd.databricks.v1+cell": {
          "title": "",
          "showTitle": false,
          "inputWidgets": {},
          "nuid": "b7e95d26-5305-4c27-9de4-0eb03fe3847f"
        },
        "id": "zkMdm9pgZ0zg",
        "outputId": "232b659e-e5d4-49eb-f19c-9d07af576c77"
      },
      "outputs": [
        {
          "output_type": "display_data",
          "metadata": {
            "application/vnd.databricks.v1+output": {
              "data": "",
              "errorSummary": "",
              "metadata": {},
              "errorTraceType": null,
              "type": "ipynbError",
              "arguments": {}
            }
          },
          "data": {
            "text/html": [
              "<style scoped>\n  .ansiout {\n    display: block;\n    unicode-bidi: embed;\n    white-space: pre-wrap;\n    word-wrap: break-word;\n    word-break: break-all;\n    font-family: \"Source Code Pro\", \"Menlo\", monospace;;\n    font-size: 13px;\n    color: #555;\n    margin-left: 4px;\n    line-height: 19px;\n  }\n</style>"
            ]
          },
          "transient": null
        }
      ],
      "execution_count": null
    },
    {
      "cell_type": "code",
      "source": [
        "# iloc\n",
        "kdf.iloc[:3, 1:2]"
      ],
      "metadata": {
        "application/vnd.databricks.v1+cell": {
          "title": "",
          "showTitle": false,
          "inputWidgets": {},
          "nuid": "fb0cdceb-85cd-422b-8b7d-2f4342978c4c"
        },
        "id": "ydtQa6cbZ0zg",
        "outputId": "01dda91f-38bb-4160-d16b-8c28517336ac"
      },
      "outputs": [
        {
          "output_type": "display_data",
          "metadata": {
            "application/vnd.databricks.v1+output": {
              "data": "",
              "errorSummary": "",
              "metadata": {},
              "errorTraceType": null,
              "type": "ipynbError",
              "arguments": {}
            }
          },
          "data": {
            "text/html": [
              "<style scoped>\n  .ansiout {\n    display: block;\n    unicode-bidi: embed;\n    white-space: pre-wrap;\n    word-wrap: break-word;\n    word-break: break-all;\n    font-family: \"Source Code Pro\", \"Menlo\", monospace;;\n    font-size: 13px;\n    color: #555;\n    margin-left: 4px;\n    line-height: 19px;\n  }\n</style>"
            ]
          },
          "transient": null
        }
      ],
      "execution_count": null
    },
    {
      "cell_type": "markdown",
      "source": [
        "#### Usando funções python com dataframe koalas"
      ],
      "metadata": {
        "application/vnd.databricks.v1+cell": {
          "title": "",
          "showTitle": false,
          "inputWidgets": {},
          "nuid": "990f977a-df96-481f-b5c9-b4869a47aceb"
        },
        "id": "p8QVQpNbZ0zg"
      }
    },
    {
      "cell_type": "code",
      "source": [
        "# cria função python\n",
        "def quadrado(x):\n",
        "    return x ** 2"
      ],
      "metadata": {
        "application/vnd.databricks.v1+cell": {
          "title": "",
          "showTitle": false,
          "inputWidgets": {},
          "nuid": "ddac6518-9ab6-4aef-a882-10c3bff5dc9f"
        },
        "id": "EDgkwI-QZ0zg",
        "outputId": "5fb49211-fc86-4731-8eb0-c77a8722264c"
      },
      "outputs": [
        {
          "output_type": "display_data",
          "metadata": {
            "application/vnd.databricks.v1+output": {
              "data": "",
              "errorSummary": "",
              "metadata": {},
              "errorTraceType": null,
              "type": "ipynbError",
              "arguments": {}
            }
          },
          "data": {
            "text/html": [
              "<style scoped>\n  .ansiout {\n    display: block;\n    unicode-bidi: embed;\n    white-space: pre-wrap;\n    word-wrap: break-word;\n    word-break: break-all;\n    font-family: \"Source Code Pro\", \"Menlo\", monospace;;\n    font-size: 13px;\n    color: #555;\n    margin-left: 4px;\n    line-height: 19px;\n  }\n</style>"
            ]
          },
          "transient": null
        }
      ],
      "execution_count": null
    },
    {
      "cell_type": "code",
      "source": [
        "# habilita computação de dataframes e séries.\n",
        "from databricks.koalas.config import set_option, reset_option\n",
        "set_option(\"compute.ops_on_diff_frames\", True)"
      ],
      "metadata": {
        "application/vnd.databricks.v1+cell": {
          "title": "",
          "showTitle": false,
          "inputWidgets": {},
          "nuid": "a783af0e-b08b-4f0e-900b-d02add05a709"
        },
        "id": "_2ljgo4bZ0zg",
        "outputId": "7b6f0ed0-27df-45cc-cdda-e5c4eb52fd55"
      },
      "outputs": [
        {
          "output_type": "display_data",
          "metadata": {
            "application/vnd.databricks.v1+output": {
              "data": "",
              "errorSummary": "",
              "metadata": {},
              "errorTraceType": null,
              "type": "ipynbError",
              "arguments": {}
            }
          },
          "data": {
            "text/html": [
              "<style scoped>\n  .ansiout {\n    display: block;\n    unicode-bidi: embed;\n    white-space: pre-wrap;\n    word-wrap: break-word;\n    word-break: break-all;\n    font-family: \"Source Code Pro\", \"Menlo\", monospace;;\n    font-size: 13px;\n    color: #555;\n    margin-left: 4px;\n    line-height: 19px;\n  }\n</style>"
            ]
          },
          "transient": null
        }
      ],
      "execution_count": null
    },
    {
      "cell_type": "code",
      "source": [
        "# cria uma nova coluna a partir da função quadrado\n",
        "kdf['C'] = kdf.A.apply(quadrado)"
      ],
      "metadata": {
        "application/vnd.databricks.v1+cell": {
          "title": "",
          "showTitle": false,
          "inputWidgets": {},
          "nuid": "5d5b3e3f-f42a-451e-9966-0a61edc912f3"
        },
        "id": "ji3P3i8CZ0zg",
        "outputId": "51b4e97d-2725-41e9-b438-f080fd891883"
      },
      "outputs": [
        {
          "output_type": "display_data",
          "metadata": {
            "application/vnd.databricks.v1+output": {
              "data": "",
              "errorSummary": "",
              "metadata": {},
              "errorTraceType": null,
              "type": "ipynbError",
              "arguments": {}
            }
          },
          "data": {
            "text/html": [
              "<style scoped>\n  .ansiout {\n    display: block;\n    unicode-bidi: embed;\n    white-space: pre-wrap;\n    word-wrap: break-word;\n    word-break: break-all;\n    font-family: \"Source Code Pro\", \"Menlo\", monospace;;\n    font-size: 13px;\n    color: #555;\n    margin-left: 4px;\n    line-height: 19px;\n  }\n</style>"
            ]
          },
          "transient": null
        }
      ],
      "execution_count": null
    },
    {
      "cell_type": "code",
      "source": [
        "# visualizando o dataframe\n",
        "kdf.head()"
      ],
      "metadata": {
        "application/vnd.databricks.v1+cell": {
          "title": "",
          "showTitle": false,
          "inputWidgets": {},
          "nuid": "5509c73b-c725-4b6f-b301-d7989c1c09de"
        },
        "id": "tG1dePumZ0zg",
        "outputId": "ee00082b-59ed-480d-b774-e514f5c0e469"
      },
      "outputs": [
        {
          "output_type": "display_data",
          "metadata": {
            "application/vnd.databricks.v1+output": {
              "data": "",
              "errorSummary": "",
              "metadata": {},
              "errorTraceType": null,
              "type": "ipynbError",
              "arguments": {}
            }
          },
          "data": {
            "text/html": [
              "<style scoped>\n  .ansiout {\n    display: block;\n    unicode-bidi: embed;\n    white-space: pre-wrap;\n    word-wrap: break-word;\n    word-break: break-all;\n    font-family: \"Source Code Pro\", \"Menlo\", monospace;;\n    font-size: 13px;\n    color: #555;\n    margin-left: 4px;\n    line-height: 19px;\n  }\n</style>"
            ]
          },
          "transient": null
        }
      ],
      "execution_count": null
    },
    {
      "cell_type": "code",
      "source": [
        "# agrupando dados\n",
        "kdf.groupby('A').sum()"
      ],
      "metadata": {
        "application/vnd.databricks.v1+cell": {
          "title": "",
          "showTitle": false,
          "inputWidgets": {},
          "nuid": "17fb1f3f-46b1-4283-846e-bc9c4c08373a"
        },
        "id": "KVYECEU-Z0zg",
        "outputId": "624efd1d-f9f3-456a-bdb3-5ba09454adb3"
      },
      "outputs": [
        {
          "output_type": "display_data",
          "metadata": {
            "application/vnd.databricks.v1+output": {
              "data": "",
              "errorSummary": "",
              "metadata": {},
              "errorTraceType": null,
              "type": "ipynbError",
              "arguments": {}
            }
          },
          "data": {
            "text/html": [
              "<style scoped>\n  .ansiout {\n    display: block;\n    unicode-bidi: embed;\n    white-space: pre-wrap;\n    word-wrap: break-word;\n    word-break: break-all;\n    font-family: \"Source Code Pro\", \"Menlo\", monospace;;\n    font-size: 13px;\n    color: #555;\n    margin-left: 4px;\n    line-height: 19px;\n  }\n</style>"
            ]
          },
          "transient": null
        }
      ],
      "execution_count": null
    },
    {
      "cell_type": "code",
      "source": [
        "# agrupando mais de uma coluna\n",
        "kdf.groupby(['A', 'B']).sum()"
      ],
      "metadata": {
        "application/vnd.databricks.v1+cell": {
          "title": "",
          "showTitle": false,
          "inputWidgets": {},
          "nuid": "c32cf2e4-4320-4c51-b235-ac6c92ff480c"
        },
        "id": "5No4XqKlZ0zg",
        "outputId": "a7d3a3aa-de5c-482b-de81-4dabd382ae7f"
      },
      "outputs": [
        {
          "output_type": "display_data",
          "metadata": {
            "application/vnd.databricks.v1+output": {
              "data": "",
              "errorSummary": "",
              "metadata": {},
              "errorTraceType": null,
              "type": "ipynbError",
              "arguments": {}
            }
          },
          "data": {
            "text/html": [
              "<style scoped>\n  .ansiout {\n    display: block;\n    unicode-bidi: embed;\n    white-space: pre-wrap;\n    word-wrap: break-word;\n    word-break: break-all;\n    font-family: \"Source Code Pro\", \"Menlo\", monospace;;\n    font-size: 13px;\n    color: #555;\n    margin-left: 4px;\n    line-height: 19px;\n  }\n</style>"
            ]
          },
          "transient": null
        }
      ],
      "execution_count": null
    },
    {
      "cell_type": "code",
      "source": [
        "# para plotar gráfico diretamente na célula use o inline\n",
        "%matplotlib inline\n",
        "\n",
        "speed = [0.1, 17.5, 40, 48, 52, 69, 88]\n",
        "lifespan = [2, 8, 70, 1.5, 25, 12, 28]\n",
        "\n",
        "index = ['snail', 'pig', 'elephant',\n",
        "         'rabbit', 'giraffe', 'coyote', 'horse']\n",
        "\n",
        "kdf = ks.DataFrame({'speed': speed,\n",
        "                   'lifespan': lifespan}, index=index)\n",
        "kdf.plot.bar()"
      ],
      "metadata": {
        "application/vnd.databricks.v1+cell": {
          "title": "",
          "showTitle": false,
          "inputWidgets": {},
          "nuid": "f5b0d0f4-0640-4683-af90-752ea9abaa24"
        },
        "id": "TpAGuOeHZ0zg",
        "outputId": "2136f388-000d-4a11-98fd-09f2260b789d"
      },
      "outputs": [
        {
          "output_type": "display_data",
          "metadata": {
            "application/vnd.databricks.v1+output": {
              "data": "",
              "errorSummary": "",
              "metadata": {},
              "errorTraceType": null,
              "type": "ipynbError",
              "arguments": {}
            }
          },
          "data": {
            "text/html": [
              "<style scoped>\n  .ansiout {\n    display: block;\n    unicode-bidi: embed;\n    white-space: pre-wrap;\n    word-wrap: break-word;\n    word-break: break-all;\n    font-family: \"Source Code Pro\", \"Menlo\", monospace;;\n    font-size: 13px;\n    color: #555;\n    margin-left: 4px;\n    line-height: 19px;\n  }\n</style>"
            ]
          },
          "transient": null
        }
      ],
      "execution_count": null
    },
    {
      "cell_type": "markdown",
      "source": [
        "**Usando SQL no Koalas**"
      ],
      "metadata": {
        "application/vnd.databricks.v1+cell": {
          "title": "",
          "showTitle": false,
          "inputWidgets": {},
          "nuid": "580b4d5a-4fa2-4ed3-961d-25e1b98e6a64"
        },
        "id": "B9NUvNjyZ0zg"
      }
    },
    {
      "cell_type": "code",
      "source": [
        "# cria um dataframe Koalas\n",
        "kdf = ks.DataFrame({'year': [1990, 1997, 2003, 2009, 2014],\n",
        "                    'pig': [20, 18, 489, 675, 1776],\n",
        "                    'horse': [4, 25, 281, 600, 1900]})"
      ],
      "metadata": {
        "application/vnd.databricks.v1+cell": {
          "title": "",
          "showTitle": false,
          "inputWidgets": {},
          "nuid": "676e04e8-8d26-4a43-a937-4f8ee512f6ec"
        },
        "id": "ItgvQiY9Z0zh",
        "outputId": "99f3b174-9146-42dd-ca2b-9bb0fe46f22d"
      },
      "outputs": [
        {
          "output_type": "display_data",
          "metadata": {
            "application/vnd.databricks.v1+output": {
              "data": "",
              "errorSummary": "",
              "metadata": {},
              "errorTraceType": null,
              "type": "ipynbError",
              "arguments": {}
            }
          },
          "data": {
            "text/html": [
              "<style scoped>\n  .ansiout {\n    display: block;\n    unicode-bidi: embed;\n    white-space: pre-wrap;\n    word-wrap: break-word;\n    word-break: break-all;\n    font-family: \"Source Code Pro\", \"Menlo\", monospace;;\n    font-size: 13px;\n    color: #555;\n    margin-left: 4px;\n    line-height: 19px;\n  }\n</style>"
            ]
          },
          "transient": null
        }
      ],
      "execution_count": null
    },
    {
      "cell_type": "code",
      "source": [
        "# Faz query no dataframe koalas\n",
        "ks.sql(\"SELECT * FROM {kdf} WHERE pig > 100\")"
      ],
      "metadata": {
        "application/vnd.databricks.v1+cell": {
          "title": "",
          "showTitle": false,
          "inputWidgets": {},
          "nuid": "476b5a6e-9ea9-405c-a12c-9226f13d1805"
        },
        "id": "XZYWj2jiZ0zh",
        "outputId": "6287d8dd-7545-4a62-ba98-65befb26b310"
      },
      "outputs": [
        {
          "output_type": "display_data",
          "metadata": {
            "application/vnd.databricks.v1+output": {
              "data": "",
              "errorSummary": "",
              "metadata": {},
              "errorTraceType": null,
              "type": "ipynbError",
              "arguments": {}
            }
          },
          "data": {
            "text/html": [
              "<style scoped>\n  .ansiout {\n    display: block;\n    unicode-bidi: embed;\n    white-space: pre-wrap;\n    word-wrap: break-word;\n    word-break: break-all;\n    font-family: \"Source Code Pro\", \"Menlo\", monospace;;\n    font-size: 13px;\n    color: #555;\n    margin-left: 4px;\n    line-height: 19px;\n  }\n</style>"
            ]
          },
          "transient": null
        }
      ],
      "execution_count": null
    },
    {
      "cell_type": "code",
      "source": [
        "# cria um dataframe pandas\n",
        "pdf = pd.DataFrame({'year': [1990, 1997, 2003, 2009, 2014],\n",
        "                    'sheep': [22, 50, 121, 445, 791],\n",
        "                    'chicken': [250, 326, 589, 1241, 2118]})"
      ],
      "metadata": {
        "application/vnd.databricks.v1+cell": {
          "title": "",
          "showTitle": false,
          "inputWidgets": {},
          "nuid": "a0c0d322-605d-44ff-a4df-69ffe5070ef8"
        },
        "id": "WvAe6mXPZ0zh",
        "outputId": "1ba551ad-c5e0-4273-e852-d9c38693212c"
      },
      "outputs": [
        {
          "output_type": "display_data",
          "metadata": {
            "application/vnd.databricks.v1+output": {
              "data": "",
              "errorSummary": "",
              "metadata": {},
              "errorTraceType": null,
              "type": "ipynbError",
              "arguments": {}
            }
          },
          "data": {
            "text/html": [
              "<style scoped>\n  .ansiout {\n    display: block;\n    unicode-bidi: embed;\n    white-space: pre-wrap;\n    word-wrap: break-word;\n    word-break: break-all;\n    font-family: \"Source Code Pro\", \"Menlo\", monospace;;\n    font-size: 13px;\n    color: #555;\n    margin-left: 4px;\n    line-height: 19px;\n  }\n</style>"
            ]
          },
          "transient": null
        }
      ],
      "execution_count": null
    },
    {
      "cell_type": "code",
      "source": [
        "# Query com inner join entre dataframe pandas e koalas\n",
        "ks.sql('''\n",
        "    SELECT ks.pig, pd.chicken\n",
        "    FROM {kdf} ks INNER JOIN {pdf} pd\n",
        "    ON ks.year = pd.year\n",
        "    ORDER BY ks.pig, pd.chicken''')"
      ],
      "metadata": {
        "application/vnd.databricks.v1+cell": {
          "title": "",
          "showTitle": false,
          "inputWidgets": {},
          "nuid": "5bb3c25e-0bdc-4655-9246-e60b1285db81"
        },
        "id": "z2nyqOLdZ0zh",
        "outputId": "9a123466-744e-4620-93e1-2bf89815b7f4"
      },
      "outputs": [
        {
          "output_type": "display_data",
          "metadata": {
            "application/vnd.databricks.v1+output": {
              "data": "",
              "errorSummary": "",
              "metadata": {},
              "errorTraceType": null,
              "type": "ipynbError",
              "arguments": {}
            }
          },
          "data": {
            "text/html": [
              "<style scoped>\n  .ansiout {\n    display: block;\n    unicode-bidi: embed;\n    white-space: pre-wrap;\n    word-wrap: break-word;\n    word-break: break-all;\n    font-family: \"Source Code Pro\", \"Menlo\", monospace;;\n    font-size: 13px;\n    color: #555;\n    margin-left: 4px;\n    line-height: 19px;\n  }\n</style>"
            ]
          },
          "transient": null
        }
      ],
      "execution_count": null
    },
    {
      "cell_type": "code",
      "source": [
        "# converte koalas dataframe para Pyspark\n",
        "kdf = ks.DataFrame({'A': [1, 2, 3, 4, 5], 'B': [10, 20, 30, 40, 50]})"
      ],
      "metadata": {
        "application/vnd.databricks.v1+cell": {
          "title": "",
          "showTitle": false,
          "inputWidgets": {},
          "nuid": "b0973b9f-526b-4020-95de-9e8a64a23414"
        },
        "id": "cfnwjiwUZ0zh",
        "outputId": "54bdff44-cd38-4c34-bb96-4732717d8395"
      },
      "outputs": [
        {
          "output_type": "display_data",
          "metadata": {
            "application/vnd.databricks.v1+output": {
              "data": "",
              "errorSummary": "",
              "metadata": {},
              "errorTraceType": null,
              "type": "ipynbError",
              "arguments": {}
            }
          },
          "data": {
            "text/html": [
              "<style scoped>\n  .ansiout {\n    display: block;\n    unicode-bidi: embed;\n    white-space: pre-wrap;\n    word-wrap: break-word;\n    word-break: break-all;\n    font-family: \"Source Code Pro\", \"Menlo\", monospace;;\n    font-size: 13px;\n    color: #555;\n    margin-left: 4px;\n    line-height: 19px;\n  }\n</style>"
            ]
          },
          "transient": null
        }
      ],
      "execution_count": null
    },
    {
      "cell_type": "code",
      "source": [
        "pydf = kdf.to_spark()"
      ],
      "metadata": {
        "application/vnd.databricks.v1+cell": {
          "title": "",
          "showTitle": false,
          "inputWidgets": {},
          "nuid": "169cec6d-3569-4e53-9ae9-0d82d0107e9b"
        },
        "id": "TxyAFjM-Z0zh",
        "outputId": "e4b7c39d-a2ea-4309-dfcb-f3c37c81419f"
      },
      "outputs": [
        {
          "output_type": "display_data",
          "metadata": {
            "application/vnd.databricks.v1+output": {
              "data": "",
              "errorSummary": "",
              "metadata": {},
              "errorTraceType": null,
              "type": "ipynbError",
              "arguments": {}
            }
          },
          "data": {
            "text/html": [
              "<style scoped>\n  .ansiout {\n    display: block;\n    unicode-bidi: embed;\n    white-space: pre-wrap;\n    word-wrap: break-word;\n    word-break: break-all;\n    font-family: \"Source Code Pro\", \"Menlo\", monospace;;\n    font-size: 13px;\n    color: #555;\n    margin-left: 4px;\n    line-height: 19px;\n  }\n</style>"
            ]
          },
          "transient": null
        }
      ],
      "execution_count": null
    },
    {
      "cell_type": "code",
      "source": [
        "type(pydf)"
      ],
      "metadata": {
        "application/vnd.databricks.v1+cell": {
          "title": "",
          "showTitle": false,
          "inputWidgets": {},
          "nuid": "a8baf767-b68c-4691-9423-a0e9ca0b4c9a"
        },
        "id": "q6z2U5zHZ0zh",
        "outputId": "0e4a5b40-0268-49e9-f05c-60e8f4dff93c"
      },
      "outputs": [
        {
          "output_type": "display_data",
          "metadata": {
            "application/vnd.databricks.v1+output": {
              "data": "",
              "errorSummary": "",
              "metadata": {},
              "errorTraceType": null,
              "type": "ipynbError",
              "arguments": {}
            }
          },
          "data": {
            "text/html": [
              "<style scoped>\n  .ansiout {\n    display: block;\n    unicode-bidi: embed;\n    white-space: pre-wrap;\n    word-wrap: break-word;\n    word-break: break-all;\n    font-family: \"Source Code Pro\", \"Menlo\", monospace;;\n    font-size: 13px;\n    color: #555;\n    margin-left: 4px;\n    line-height: 19px;\n  }\n</style>"
            ]
          },
          "transient": null
        }
      ],
      "execution_count": null
    },
    {
      "cell_type": "code",
      "source": [],
      "metadata": {
        "application/vnd.databricks.v1+cell": {
          "title": "",
          "showTitle": false,
          "inputWidgets": {},
          "nuid": "2c63b3a4-b633-470a-a4d8-01ceb591b248"
        },
        "id": "kPmb8u__Z0zh",
        "outputId": "18b18d9a-e84f-41c0-a6f0-3f154b008300"
      },
      "outputs": [
        {
          "output_type": "display_data",
          "metadata": {
            "application/vnd.databricks.v1+output": {
              "data": "",
              "errorSummary": "",
              "metadata": {},
              "errorTraceType": null,
              "type": "ipynbError",
              "arguments": {}
            }
          },
          "data": {
            "text/html": [
              "<style scoped>\n  .ansiout {\n    display: block;\n    unicode-bidi: embed;\n    white-space: pre-wrap;\n    word-wrap: break-word;\n    word-break: break-all;\n    font-family: \"Source Code Pro\", \"Menlo\", monospace;;\n    font-size: 13px;\n    color: #555;\n    margin-left: 4px;\n    line-height: 19px;\n  }\n</style>"
            ]
          },
          "transient": null
        }
      ],
      "execution_count": null
    }
  ],
  "metadata": {
    "application/vnd.databricks.v1+notebook": {
      "notebookName": "Scripts_EDZ_1",
      "dashboards": [],
      "notebookMetadata": {
        "pythonIndentUnit": 2
      },
      "language": "python",
      "widgets": {},
      "notebookOrigID": 2748769662821267
    },
    "colab": {
      "provenance": []
    },
    "language_info": {
      "name": "python"
    },
    "kernelspec": {
      "name": "python3",
      "display_name": "Python 3"
    }
  },
  "nbformat": 4,
  "nbformat_minor": 0
}